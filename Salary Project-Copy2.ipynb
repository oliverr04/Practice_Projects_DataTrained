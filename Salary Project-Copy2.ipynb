{
 "cells": [
  {
   "cell_type": "markdown",
   "id": "1b3380cd",
   "metadata": {},
   "source": [
    "Practice Project 1"
   ]
  },
  {
   "cell_type": "markdown",
   "id": "33528db8",
   "metadata": {},
   "source": [
    "# Salary Project"
   ]
  },
  {
   "cell_type": "code",
   "execution_count": 1,
   "id": "6d47c536",
   "metadata": {},
   "outputs": [],
   "source": [
    "# Importing necessary libraries\n",
    "import pandas as pd\n",
    "import numpy as np \n",
    "import seaborn as sns\n",
    "import matplotlib.pyplot as plt\n",
    "import warnings\n",
    "warnings.filterwarnings('ignore')"
   ]
  },
  {
   "cell_type": "code",
   "execution_count": 2,
   "id": "dedefc59",
   "metadata": {},
   "outputs": [
    {
     "data": {
      "text/html": [
       "<div>\n",
       "<style scoped>\n",
       "    .dataframe tbody tr th:only-of-type {\n",
       "        vertical-align: middle;\n",
       "    }\n",
       "\n",
       "    .dataframe tbody tr th {\n",
       "        vertical-align: top;\n",
       "    }\n",
       "\n",
       "    .dataframe thead th {\n",
       "        text-align: right;\n",
       "    }\n",
       "</style>\n",
       "<table border=\"1\" class=\"dataframe\">\n",
       "  <thead>\n",
       "    <tr style=\"text-align: right;\">\n",
       "      <th></th>\n",
       "      <th>rank</th>\n",
       "      <th>discipline</th>\n",
       "      <th>yrs.since.phd</th>\n",
       "      <th>yrs.service</th>\n",
       "      <th>sex</th>\n",
       "      <th>salary</th>\n",
       "    </tr>\n",
       "  </thead>\n",
       "  <tbody>\n",
       "    <tr>\n",
       "      <th>0</th>\n",
       "      <td>Prof</td>\n",
       "      <td>B</td>\n",
       "      <td>19</td>\n",
       "      <td>18</td>\n",
       "      <td>Male</td>\n",
       "      <td>139750</td>\n",
       "    </tr>\n",
       "    <tr>\n",
       "      <th>1</th>\n",
       "      <td>Prof</td>\n",
       "      <td>B</td>\n",
       "      <td>20</td>\n",
       "      <td>16</td>\n",
       "      <td>Male</td>\n",
       "      <td>173200</td>\n",
       "    </tr>\n",
       "    <tr>\n",
       "      <th>2</th>\n",
       "      <td>AsstProf</td>\n",
       "      <td>B</td>\n",
       "      <td>4</td>\n",
       "      <td>3</td>\n",
       "      <td>Male</td>\n",
       "      <td>79750</td>\n",
       "    </tr>\n",
       "    <tr>\n",
       "      <th>3</th>\n",
       "      <td>Prof</td>\n",
       "      <td>B</td>\n",
       "      <td>45</td>\n",
       "      <td>39</td>\n",
       "      <td>Male</td>\n",
       "      <td>115000</td>\n",
       "    </tr>\n",
       "    <tr>\n",
       "      <th>4</th>\n",
       "      <td>Prof</td>\n",
       "      <td>B</td>\n",
       "      <td>40</td>\n",
       "      <td>41</td>\n",
       "      <td>Male</td>\n",
       "      <td>141500</td>\n",
       "    </tr>\n",
       "    <tr>\n",
       "      <th>...</th>\n",
       "      <td>...</td>\n",
       "      <td>...</td>\n",
       "      <td>...</td>\n",
       "      <td>...</td>\n",
       "      <td>...</td>\n",
       "      <td>...</td>\n",
       "    </tr>\n",
       "    <tr>\n",
       "      <th>392</th>\n",
       "      <td>Prof</td>\n",
       "      <td>A</td>\n",
       "      <td>33</td>\n",
       "      <td>30</td>\n",
       "      <td>Male</td>\n",
       "      <td>103106</td>\n",
       "    </tr>\n",
       "    <tr>\n",
       "      <th>393</th>\n",
       "      <td>Prof</td>\n",
       "      <td>A</td>\n",
       "      <td>31</td>\n",
       "      <td>19</td>\n",
       "      <td>Male</td>\n",
       "      <td>150564</td>\n",
       "    </tr>\n",
       "    <tr>\n",
       "      <th>394</th>\n",
       "      <td>Prof</td>\n",
       "      <td>A</td>\n",
       "      <td>42</td>\n",
       "      <td>25</td>\n",
       "      <td>Male</td>\n",
       "      <td>101738</td>\n",
       "    </tr>\n",
       "    <tr>\n",
       "      <th>395</th>\n",
       "      <td>Prof</td>\n",
       "      <td>A</td>\n",
       "      <td>25</td>\n",
       "      <td>15</td>\n",
       "      <td>Male</td>\n",
       "      <td>95329</td>\n",
       "    </tr>\n",
       "    <tr>\n",
       "      <th>396</th>\n",
       "      <td>AsstProf</td>\n",
       "      <td>A</td>\n",
       "      <td>8</td>\n",
       "      <td>4</td>\n",
       "      <td>Male</td>\n",
       "      <td>81035</td>\n",
       "    </tr>\n",
       "  </tbody>\n",
       "</table>\n",
       "<p>397 rows × 6 columns</p>\n",
       "</div>"
      ],
      "text/plain": [
       "         rank discipline  yrs.since.phd  yrs.service   sex  salary\n",
       "0        Prof          B             19           18  Male  139750\n",
       "1        Prof          B             20           16  Male  173200\n",
       "2    AsstProf          B              4            3  Male   79750\n",
       "3        Prof          B             45           39  Male  115000\n",
       "4        Prof          B             40           41  Male  141500\n",
       "..        ...        ...            ...          ...   ...     ...\n",
       "392      Prof          A             33           30  Male  103106\n",
       "393      Prof          A             31           19  Male  150564\n",
       "394      Prof          A             42           25  Male  101738\n",
       "395      Prof          A             25           15  Male   95329\n",
       "396  AsstProf          A              8            4  Male   81035\n",
       "\n",
       "[397 rows x 6 columns]"
      ]
     },
     "execution_count": 2,
     "metadata": {},
     "output_type": "execute_result"
    }
   ],
   "source": [
    "# Dataset\n",
    "df_sal=pd.read_csv(\"Salaries.csv\")\n",
    "df_sal"
   ]
  },
  {
   "cell_type": "code",
   "execution_count": 3,
   "id": "4dde0335",
   "metadata": {},
   "outputs": [
    {
     "data": {
      "text/html": [
       "<div>\n",
       "<style scoped>\n",
       "    .dataframe tbody tr th:only-of-type {\n",
       "        vertical-align: middle;\n",
       "    }\n",
       "\n",
       "    .dataframe tbody tr th {\n",
       "        vertical-align: top;\n",
       "    }\n",
       "\n",
       "    .dataframe thead th {\n",
       "        text-align: right;\n",
       "    }\n",
       "</style>\n",
       "<table border=\"1\" class=\"dataframe\">\n",
       "  <thead>\n",
       "    <tr style=\"text-align: right;\">\n",
       "      <th></th>\n",
       "      <th>rank</th>\n",
       "      <th>discipline</th>\n",
       "      <th>yrs.since.phd</th>\n",
       "      <th>yrs.service</th>\n",
       "      <th>sex</th>\n",
       "      <th>salary</th>\n",
       "    </tr>\n",
       "  </thead>\n",
       "  <tbody>\n",
       "    <tr>\n",
       "      <th>0</th>\n",
       "      <td>Prof</td>\n",
       "      <td>B</td>\n",
       "      <td>19</td>\n",
       "      <td>18</td>\n",
       "      <td>Male</td>\n",
       "      <td>139750</td>\n",
       "    </tr>\n",
       "    <tr>\n",
       "      <th>1</th>\n",
       "      <td>Prof</td>\n",
       "      <td>B</td>\n",
       "      <td>20</td>\n",
       "      <td>16</td>\n",
       "      <td>Male</td>\n",
       "      <td>173200</td>\n",
       "    </tr>\n",
       "    <tr>\n",
       "      <th>2</th>\n",
       "      <td>AsstProf</td>\n",
       "      <td>B</td>\n",
       "      <td>4</td>\n",
       "      <td>3</td>\n",
       "      <td>Male</td>\n",
       "      <td>79750</td>\n",
       "    </tr>\n",
       "    <tr>\n",
       "      <th>3</th>\n",
       "      <td>Prof</td>\n",
       "      <td>B</td>\n",
       "      <td>45</td>\n",
       "      <td>39</td>\n",
       "      <td>Male</td>\n",
       "      <td>115000</td>\n",
       "    </tr>\n",
       "    <tr>\n",
       "      <th>4</th>\n",
       "      <td>Prof</td>\n",
       "      <td>B</td>\n",
       "      <td>40</td>\n",
       "      <td>41</td>\n",
       "      <td>Male</td>\n",
       "      <td>141500</td>\n",
       "    </tr>\n",
       "  </tbody>\n",
       "</table>\n",
       "</div>"
      ],
      "text/plain": [
       "       rank discipline  yrs.since.phd  yrs.service   sex  salary\n",
       "0      Prof          B             19           18  Male  139750\n",
       "1      Prof          B             20           16  Male  173200\n",
       "2  AsstProf          B              4            3  Male   79750\n",
       "3      Prof          B             45           39  Male  115000\n",
       "4      Prof          B             40           41  Male  141500"
      ]
     },
     "execution_count": 3,
     "metadata": {},
     "output_type": "execute_result"
    }
   ],
   "source": [
    "df_sal.head(5)"
   ]
  },
  {
   "cell_type": "code",
   "execution_count": 4,
   "id": "d35a72fb",
   "metadata": {},
   "outputs": [
    {
     "data": {
      "text/html": [
       "<div>\n",
       "<style scoped>\n",
       "    .dataframe tbody tr th:only-of-type {\n",
       "        vertical-align: middle;\n",
       "    }\n",
       "\n",
       "    .dataframe tbody tr th {\n",
       "        vertical-align: top;\n",
       "    }\n",
       "\n",
       "    .dataframe thead th {\n",
       "        text-align: right;\n",
       "    }\n",
       "</style>\n",
       "<table border=\"1\" class=\"dataframe\">\n",
       "  <thead>\n",
       "    <tr style=\"text-align: right;\">\n",
       "      <th></th>\n",
       "      <th>rank</th>\n",
       "      <th>discipline</th>\n",
       "      <th>yrs.since.phd</th>\n",
       "      <th>yrs.service</th>\n",
       "      <th>sex</th>\n",
       "      <th>salary</th>\n",
       "    </tr>\n",
       "  </thead>\n",
       "  <tbody>\n",
       "    <tr>\n",
       "      <th>392</th>\n",
       "      <td>Prof</td>\n",
       "      <td>A</td>\n",
       "      <td>33</td>\n",
       "      <td>30</td>\n",
       "      <td>Male</td>\n",
       "      <td>103106</td>\n",
       "    </tr>\n",
       "    <tr>\n",
       "      <th>393</th>\n",
       "      <td>Prof</td>\n",
       "      <td>A</td>\n",
       "      <td>31</td>\n",
       "      <td>19</td>\n",
       "      <td>Male</td>\n",
       "      <td>150564</td>\n",
       "    </tr>\n",
       "    <tr>\n",
       "      <th>394</th>\n",
       "      <td>Prof</td>\n",
       "      <td>A</td>\n",
       "      <td>42</td>\n",
       "      <td>25</td>\n",
       "      <td>Male</td>\n",
       "      <td>101738</td>\n",
       "    </tr>\n",
       "    <tr>\n",
       "      <th>395</th>\n",
       "      <td>Prof</td>\n",
       "      <td>A</td>\n",
       "      <td>25</td>\n",
       "      <td>15</td>\n",
       "      <td>Male</td>\n",
       "      <td>95329</td>\n",
       "    </tr>\n",
       "    <tr>\n",
       "      <th>396</th>\n",
       "      <td>AsstProf</td>\n",
       "      <td>A</td>\n",
       "      <td>8</td>\n",
       "      <td>4</td>\n",
       "      <td>Male</td>\n",
       "      <td>81035</td>\n",
       "    </tr>\n",
       "  </tbody>\n",
       "</table>\n",
       "</div>"
      ],
      "text/plain": [
       "         rank discipline  yrs.since.phd  yrs.service   sex  salary\n",
       "392      Prof          A             33           30  Male  103106\n",
       "393      Prof          A             31           19  Male  150564\n",
       "394      Prof          A             42           25  Male  101738\n",
       "395      Prof          A             25           15  Male   95329\n",
       "396  AsstProf          A              8            4  Male   81035"
      ]
     },
     "execution_count": 4,
     "metadata": {},
     "output_type": "execute_result"
    }
   ],
   "source": [
    "df_sal.tail(5)"
   ]
  },
  {
   "cell_type": "code",
   "execution_count": 5,
   "id": "04167daf",
   "metadata": {},
   "outputs": [
    {
     "data": {
      "text/plain": [
       "(397, 6)"
      ]
     },
     "execution_count": 5,
     "metadata": {},
     "output_type": "execute_result"
    }
   ],
   "source": [
    "df_sal.shape"
   ]
  },
  {
   "cell_type": "code",
   "execution_count": 6,
   "id": "f61bac0c",
   "metadata": {},
   "outputs": [
    {
     "data": {
      "text/plain": [
       "Index(['rank', 'discipline', 'yrs.since.phd', 'yrs.service', 'sex', 'salary'], dtype='object')"
      ]
     },
     "execution_count": 6,
     "metadata": {},
     "output_type": "execute_result"
    }
   ],
   "source": [
    "df_sal.columns"
   ]
  },
  {
   "cell_type": "code",
   "execution_count": 7,
   "id": "015cd462",
   "metadata": {},
   "outputs": [
    {
     "data": {
      "text/html": [
       "<div>\n",
       "<style scoped>\n",
       "    .dataframe tbody tr th:only-of-type {\n",
       "        vertical-align: middle;\n",
       "    }\n",
       "\n",
       "    .dataframe tbody tr th {\n",
       "        vertical-align: top;\n",
       "    }\n",
       "\n",
       "    .dataframe thead th {\n",
       "        text-align: right;\n",
       "    }\n",
       "</style>\n",
       "<table border=\"1\" class=\"dataframe\">\n",
       "  <thead>\n",
       "    <tr style=\"text-align: right;\">\n",
       "      <th></th>\n",
       "      <th>yrs.since.phd</th>\n",
       "      <th>yrs.service</th>\n",
       "      <th>salary</th>\n",
       "    </tr>\n",
       "  </thead>\n",
       "  <tbody>\n",
       "    <tr>\n",
       "      <th>count</th>\n",
       "      <td>397.000000</td>\n",
       "      <td>397.000000</td>\n",
       "      <td>397.000000</td>\n",
       "    </tr>\n",
       "    <tr>\n",
       "      <th>mean</th>\n",
       "      <td>22.314861</td>\n",
       "      <td>17.614610</td>\n",
       "      <td>113706.458438</td>\n",
       "    </tr>\n",
       "    <tr>\n",
       "      <th>std</th>\n",
       "      <td>12.887003</td>\n",
       "      <td>13.006024</td>\n",
       "      <td>30289.038695</td>\n",
       "    </tr>\n",
       "    <tr>\n",
       "      <th>min</th>\n",
       "      <td>1.000000</td>\n",
       "      <td>0.000000</td>\n",
       "      <td>57800.000000</td>\n",
       "    </tr>\n",
       "    <tr>\n",
       "      <th>25%</th>\n",
       "      <td>12.000000</td>\n",
       "      <td>7.000000</td>\n",
       "      <td>91000.000000</td>\n",
       "    </tr>\n",
       "    <tr>\n",
       "      <th>50%</th>\n",
       "      <td>21.000000</td>\n",
       "      <td>16.000000</td>\n",
       "      <td>107300.000000</td>\n",
       "    </tr>\n",
       "    <tr>\n",
       "      <th>75%</th>\n",
       "      <td>32.000000</td>\n",
       "      <td>27.000000</td>\n",
       "      <td>134185.000000</td>\n",
       "    </tr>\n",
       "    <tr>\n",
       "      <th>max</th>\n",
       "      <td>56.000000</td>\n",
       "      <td>60.000000</td>\n",
       "      <td>231545.000000</td>\n",
       "    </tr>\n",
       "  </tbody>\n",
       "</table>\n",
       "</div>"
      ],
      "text/plain": [
       "       yrs.since.phd  yrs.service         salary\n",
       "count     397.000000   397.000000     397.000000\n",
       "mean       22.314861    17.614610  113706.458438\n",
       "std        12.887003    13.006024   30289.038695\n",
       "min         1.000000     0.000000   57800.000000\n",
       "25%        12.000000     7.000000   91000.000000\n",
       "50%        21.000000    16.000000  107300.000000\n",
       "75%        32.000000    27.000000  134185.000000\n",
       "max        56.000000    60.000000  231545.000000"
      ]
     },
     "execution_count": 7,
     "metadata": {},
     "output_type": "execute_result"
    }
   ],
   "source": [
    "df_sal.describe()"
   ]
  },
  {
   "cell_type": "code",
   "execution_count": 8,
   "id": "5ec0e44d",
   "metadata": {},
   "outputs": [
    {
     "data": {
      "text/plain": [
       "<AxesSubplot:>"
      ]
     },
     "execution_count": 8,
     "metadata": {},
     "output_type": "execute_result"
    },
    {
     "data": {
      "image/png": "[encoded data removed]",
      "text/plain": [
       "<Figure size 720x504 with 2 Axes>"
      ]
     },
     "metadata": {
      "needs_background": "light"
     },
     "output_type": "display_data"
    }
   ],
   "source": [
    "# Visualizing df_sal.describe() using heatmap\n",
    "plt.figure(figsize=(10,7))\n",
    "sns.heatmap(df_sal.describe(),annot=True,linewidths=0.1,linecolor=\"black\",fmt=\"0.2f\")"
   ]
  },
  {
   "cell_type": "code",
   "execution_count": 9,
   "id": "0b4342df",
   "metadata": {},
   "outputs": [
    {
     "name": "stdout",
     "output_type": "stream",
     "text": [
      "<class 'pandas.core.frame.DataFrame'>\n",
      "RangeIndex: 397 entries, 0 to 396\n",
      "Data columns (total 6 columns):\n",
      " #   Column         Non-Null Count  Dtype \n",
      "---  ------         --------------  ----- \n",
      " 0   rank           397 non-null    object\n",
      " 1   discipline     397 non-null    object\n",
      " 2   yrs.since.phd  397 non-null    int64 \n",
      " 3   yrs.service    397 non-null    int64 \n",
      " 4   sex            397 non-null    object\n",
      " 5   salary         397 non-null    int64 \n",
      "dtypes: int64(3), object(3)\n",
      "memory usage: 18.7+ KB\n"
     ]
    }
   ],
   "source": [
    "df_sal.info()"
   ]
  },
  {
   "cell_type": "code",
   "execution_count": 10,
   "id": "17c63c52",
   "metadata": {},
   "outputs": [
    {
     "data": {
      "text/plain": [
       "rank             object\n",
       "discipline       object\n",
       "yrs.since.phd     int64\n",
       "yrs.service       int64\n",
       "sex              object\n",
       "salary            int64\n",
       "dtype: object"
      ]
     },
     "execution_count": 10,
     "metadata": {},
     "output_type": "execute_result"
    }
   ],
   "source": [
    "df_sal.dtypes"
   ]
  },
  {
   "cell_type": "code",
   "execution_count": 11,
   "id": "d7257402",
   "metadata": {},
   "outputs": [
    {
     "data": {
      "text/plain": [
       "rank             0\n",
       "discipline       0\n",
       "yrs.since.phd    0\n",
       "yrs.service      0\n",
       "sex              0\n",
       "salary           0\n",
       "dtype: int64"
      ]
     },
     "execution_count": 11,
     "metadata": {},
     "output_type": "execute_result"
    }
   ],
   "source": [
    "df_sal.isnull().sum()"
   ]
  },
  {
   "cell_type": "markdown",
   "id": "8fb4ad29",
   "metadata": {},
   "source": [
    "There are no null values present in the dataset."
   ]
  },
  {
   "cell_type": "code",
   "execution_count": 12,
   "id": "7c1ee74a",
   "metadata": {},
   "outputs": [
    {
     "data": {
      "text/html": [
       "<div>\n",
       "<style scoped>\n",
       "    .dataframe tbody tr th:only-of-type {\n",
       "        vertical-align: middle;\n",
       "    }\n",
       "\n",
       "    .dataframe tbody tr th {\n",
       "        vertical-align: top;\n",
       "    }\n",
       "\n",
       "    .dataframe thead th {\n",
       "        text-align: right;\n",
       "    }\n",
       "</style>\n",
       "<table border=\"1\" class=\"dataframe\">\n",
       "  <thead>\n",
       "    <tr style=\"text-align: right;\">\n",
       "      <th></th>\n",
       "      <th>yrs.since.phd</th>\n",
       "      <th>yrs.service</th>\n",
       "      <th>salary</th>\n",
       "    </tr>\n",
       "  </thead>\n",
       "  <tbody>\n",
       "    <tr>\n",
       "      <th>yrs.since.phd</th>\n",
       "      <td>1.000000</td>\n",
       "      <td>0.909649</td>\n",
       "      <td>0.419231</td>\n",
       "    </tr>\n",
       "    <tr>\n",
       "      <th>yrs.service</th>\n",
       "      <td>0.909649</td>\n",
       "      <td>1.000000</td>\n",
       "      <td>0.334745</td>\n",
       "    </tr>\n",
       "    <tr>\n",
       "      <th>salary</th>\n",
       "      <td>0.419231</td>\n",
       "      <td>0.334745</td>\n",
       "      <td>1.000000</td>\n",
       "    </tr>\n",
       "  </tbody>\n",
       "</table>\n",
       "</div>"
      ],
      "text/plain": [
       "               yrs.since.phd  yrs.service    salary\n",
       "yrs.since.phd       1.000000     0.909649  0.419231\n",
       "yrs.service         0.909649     1.000000  0.334745\n",
       "salary              0.419231     0.334745  1.000000"
      ]
     },
     "execution_count": 12,
     "metadata": {},
     "output_type": "execute_result"
    }
   ],
   "source": [
    "df_sal.corr()"
   ]
  },
  {
   "cell_type": "code",
   "execution_count": 13,
   "id": "974c9d6c",
   "metadata": {},
   "outputs": [
    {
     "data": {
      "text/plain": [
       "<AxesSubplot:>"
      ]
     },
     "execution_count": 13,
     "metadata": {},
     "output_type": "execute_result"
    },
    {
     "data": {
      "image/png": "[encoded data removed]",
      "text/plain": [
       "<Figure size 720x504 with 2 Axes>"
      ]
     },
     "metadata": {
      "needs_background": "light"
     },
     "output_type": "display_data"
    }
   ],
   "source": [
    "# Visualizing df_sal.corr() using heatmap\n",
    "plt.figure(figsize=(10,7))\n",
    "sns.heatmap(df_sal.corr(),annot=True,linewidths=0.5,linecolor='black',fmt='.2f')"
   ]
  },
  {
   "cell_type": "code",
   "execution_count": 14,
   "id": "a79ba804",
   "metadata": {},
   "outputs": [
    {
     "data": {
      "image/png": "[encoded data removed]",
      "text/plain": [
       "<Figure size 432x288 with 1 Axes>"
      ]
     },
     "metadata": {
      "needs_background": "light"
     },
     "output_type": "display_data"
    }
   ],
   "source": [
    "df_sal.plot(x='yrs.since.phd', y='salary',style='o')\n",
    "plt.title('Years since PHD vs Salary')\n",
    "plt.xlabel('Years since PHD')\n",
    "plt.ylabel('Salary')\n",
    "plt.show()"
   ]
  },
  {
   "cell_type": "code",
   "execution_count": 15,
   "id": "6c46489f",
   "metadata": {},
   "outputs": [
    {
     "data": {
      "image/png": "[encoded data removed]",
      "text/plain": [
       "<Figure size 432x288 with 1 Axes>"
      ]
     },
     "metadata": {
      "needs_background": "light"
     },
     "output_type": "display_data"
    }
   ],
   "source": [
    "df_sal.plot(x='yrs.service', y='salary',style='o')\n",
    "plt.title('Years of service vs Salary')\n",
    "plt.xlabel('Years of service')\n",
    "plt.ylabel('Salary')\n",
    "plt.show()"
   ]
  },
  {
   "cell_type": "code",
   "execution_count": 16,
   "id": "06a0a53f",
   "metadata": {},
   "outputs": [
    {
     "data": {
      "text/plain": [
       "<AxesSubplot:xlabel='yrs.since.phd', ylabel='salary'>"
      ]
     },
     "execution_count": 16,
     "metadata": {},
     "output_type": "execute_result"
    },
    {
     "data": {
      "image/png": "[encoded data removed]",
      "text/plain": [
       "<Figure size 432x288 with 1 Axes>"
      ]
     },
     "metadata": {
      "needs_background": "light"
     },
     "output_type": "display_data"
    }
   ],
   "source": [
    "sns.scatterplot(x='yrs.since.phd',y='salary',data=df_sal)"
   ]
  },
  {
   "cell_type": "code",
   "execution_count": 17,
   "id": "43d874b4",
   "metadata": {},
   "outputs": [
    {
     "data": {
      "text/plain": [
       "<AxesSubplot:xlabel='yrs.service', ylabel='salary'>"
      ]
     },
     "execution_count": 17,
     "metadata": {},
     "output_type": "execute_result"
    },
    {
     "data": {
      "image/png": "[encoded data removed]",
      "text/plain": [
       "<Figure size 432x288 with 1 Axes>"
      ]
     },
     "metadata": {
      "needs_background": "light"
     },
     "output_type": "display_data"
    }
   ],
   "source": [
    "sns.scatterplot(x='yrs.service',y='salary',data=df_sal)"
   ]
  },
  {
   "cell_type": "markdown",
   "id": "52affc95",
   "metadata": {},
   "source": [
    "The above graphs show the relation between 'yrs.service' & 'salary'. And the relationship between the values of 'yrs.since.phd' & 'salary'"
   ]
  },
  {
   "cell_type": "markdown",
   "id": "f64201f2",
   "metadata": {},
   "source": [
    "# Outliers"
   ]
  },
  {
   "cell_type": "code",
   "execution_count": 18,
   "id": "7622d0e4",
   "metadata": {},
   "outputs": [
    {
     "data": {
      "text/plain": [
       "<AxesSubplot:xlabel='salary'>"
      ]
     },
     "execution_count": 18,
     "metadata": {},
     "output_type": "execute_result"
    },
    {
     "data": {
      "image/png": "[encoded data removed]",
      "text/plain": [
       "<Figure size 432x288 with 1 Axes>"
      ]
     },
     "metadata": {
      "needs_background": "light"
     },
     "output_type": "display_data"
    }
   ],
   "source": [
    "sns.boxplot(df_sal['salary'],color='green',orient='v')"
   ]
  },
  {
   "cell_type": "code",
   "execution_count": 19,
   "id": "118bb369",
   "metadata": {},
   "outputs": [
    {
     "data": {
      "text/plain": [
       "<AxesSubplot:xlabel='yrs.service'>"
      ]
     },
     "execution_count": 19,
     "metadata": {},
     "output_type": "execute_result"
    },
    {
     "data": {
      "image/png": "[encoded data removed]",
      "text/plain": [
       "<Figure size 432x288 with 1 Axes>"
      ]
     },
     "metadata": {
      "needs_background": "light"
     },
     "output_type": "display_data"
    }
   ],
   "source": [
    "sns.boxplot(df_sal['yrs.service'],color='green',orient='v')"
   ]
  },
  {
   "cell_type": "code",
   "execution_count": 20,
   "id": "aa2c06ab",
   "metadata": {},
   "outputs": [
    {
     "data": {
      "text/plain": [
       "<AxesSubplot:xlabel='yrs.since.phd'>"
      ]
     },
     "execution_count": 20,
     "metadata": {},
     "output_type": "execute_result"
    },
    {
     "data": {
      "image/png": "[encoded data removed]",
      "text/plain": [
       "<Figure size 432x288 with 1 Axes>"
      ]
     },
     "metadata": {
      "needs_background": "light"
     },
     "output_type": "display_data"
    }
   ],
   "source": [
    "sns.boxplot(df_sal['yrs.since.phd'],color='green',orient='v')"
   ]
  },
  {
   "cell_type": "markdown",
   "id": "c57c9a3a",
   "metadata": {},
   "source": [
    "Outliers are present in the columns ='yrs.service' & 'salary'"
   ]
  },
  {
   "cell_type": "code",
   "execution_count": 21,
   "id": "fe5d92e1",
   "metadata": {},
   "outputs": [
    {
     "data": {
      "text/plain": [
       "<AxesSubplot:xlabel='yrs.service', ylabel='salary'>"
      ]
     },
     "execution_count": 21,
     "metadata": {},
     "output_type": "execute_result"
    },
    {
     "data": {
      "image/png": "[encoded data removed]",
      "text/plain": [
       "<Figure size 432x288 with 1 Axes>"
      ]
     },
     "metadata": {
      "needs_background": "light"
     },
     "output_type": "display_data"
    }
   ],
   "source": [
    "sns.scatterplot(x='yrs.service',y='salary',data=df_sal,estimator=np.std,hue='sex')"
   ]
  },
  {
   "cell_type": "markdown",
   "id": "760ccfa6",
   "metadata": {},
   "source": [
    "In the above scatterplot, the number of male values is huge compared to the female values in terms of columns 'yrs.service' & 'salary'"
   ]
  },
  {
   "cell_type": "markdown",
   "id": "c87ffcb2",
   "metadata": {},
   "source": [
    "# Encoding"
   ]
  },
  {
   "cell_type": "code",
   "execution_count": 22,
   "id": "4e0e146e",
   "metadata": {},
   "outputs": [],
   "source": [
    "from sklearn.preprocessing import OrdinalEncoder\n",
    "oe=OrdinalEncoder()"
   ]
  },
  {
   "cell_type": "code",
   "execution_count": 23,
   "id": "a7e460ef",
   "metadata": {},
   "outputs": [],
   "source": [
    "for i in df_sal.columns:\n",
    "    if df_sal[i].dtypes==\"object\":\n",
    "        df_sal[i]=oe.fit_transform(df_sal[i].values.reshape(-1,1))"
   ]
  },
  {
   "cell_type": "code",
   "execution_count": 24,
   "id": "b9ac24f6",
   "metadata": {},
   "outputs": [
    {
     "data": {
      "text/html": [
       "<div>\n",
       "<style scoped>\n",
       "    .dataframe tbody tr th:only-of-type {\n",
       "        vertical-align: middle;\n",
       "    }\n",
       "\n",
       "    .dataframe tbody tr th {\n",
       "        vertical-align: top;\n",
       "    }\n",
       "\n",
       "    .dataframe thead th {\n",
       "        text-align: right;\n",
       "    }\n",
       "</style>\n",
       "<table border=\"1\" class=\"dataframe\">\n",
       "  <thead>\n",
       "    <tr style=\"text-align: right;\">\n",
       "      <th></th>\n",
       "      <th>rank</th>\n",
       "      <th>discipline</th>\n",
       "      <th>yrs.since.phd</th>\n",
       "      <th>yrs.service</th>\n",
       "      <th>sex</th>\n",
       "      <th>salary</th>\n",
       "    </tr>\n",
       "  </thead>\n",
       "  <tbody>\n",
       "    <tr>\n",
       "      <th>0</th>\n",
       "      <td>2.0</td>\n",
       "      <td>1.0</td>\n",
       "      <td>19</td>\n",
       "      <td>18</td>\n",
       "      <td>1.0</td>\n",
       "      <td>139750</td>\n",
       "    </tr>\n",
       "    <tr>\n",
       "      <th>1</th>\n",
       "      <td>2.0</td>\n",
       "      <td>1.0</td>\n",
       "      <td>20</td>\n",
       "      <td>16</td>\n",
       "      <td>1.0</td>\n",
       "      <td>173200</td>\n",
       "    </tr>\n",
       "    <tr>\n",
       "      <th>2</th>\n",
       "      <td>1.0</td>\n",
       "      <td>1.0</td>\n",
       "      <td>4</td>\n",
       "      <td>3</td>\n",
       "      <td>1.0</td>\n",
       "      <td>79750</td>\n",
       "    </tr>\n",
       "    <tr>\n",
       "      <th>3</th>\n",
       "      <td>2.0</td>\n",
       "      <td>1.0</td>\n",
       "      <td>45</td>\n",
       "      <td>39</td>\n",
       "      <td>1.0</td>\n",
       "      <td>115000</td>\n",
       "    </tr>\n",
       "    <tr>\n",
       "      <th>4</th>\n",
       "      <td>2.0</td>\n",
       "      <td>1.0</td>\n",
       "      <td>40</td>\n",
       "      <td>41</td>\n",
       "      <td>1.0</td>\n",
       "      <td>141500</td>\n",
       "    </tr>\n",
       "    <tr>\n",
       "      <th>...</th>\n",
       "      <td>...</td>\n",
       "      <td>...</td>\n",
       "      <td>...</td>\n",
       "      <td>...</td>\n",
       "      <td>...</td>\n",
       "      <td>...</td>\n",
       "    </tr>\n",
       "    <tr>\n",
       "      <th>392</th>\n",
       "      <td>2.0</td>\n",
       "      <td>0.0</td>\n",
       "      <td>33</td>\n",
       "      <td>30</td>\n",
       "      <td>1.0</td>\n",
       "      <td>103106</td>\n",
       "    </tr>\n",
       "    <tr>\n",
       "      <th>393</th>\n",
       "      <td>2.0</td>\n",
       "      <td>0.0</td>\n",
       "      <td>31</td>\n",
       "      <td>19</td>\n",
       "      <td>1.0</td>\n",
       "      <td>150564</td>\n",
       "    </tr>\n",
       "    <tr>\n",
       "      <th>394</th>\n",
       "      <td>2.0</td>\n",
       "      <td>0.0</td>\n",
       "      <td>42</td>\n",
       "      <td>25</td>\n",
       "      <td>1.0</td>\n",
       "      <td>101738</td>\n",
       "    </tr>\n",
       "    <tr>\n",
       "      <th>395</th>\n",
       "      <td>2.0</td>\n",
       "      <td>0.0</td>\n",
       "      <td>25</td>\n",
       "      <td>15</td>\n",
       "      <td>1.0</td>\n",
       "      <td>95329</td>\n",
       "    </tr>\n",
       "    <tr>\n",
       "      <th>396</th>\n",
       "      <td>1.0</td>\n",
       "      <td>0.0</td>\n",
       "      <td>8</td>\n",
       "      <td>4</td>\n",
       "      <td>1.0</td>\n",
       "      <td>81035</td>\n",
       "    </tr>\n",
       "  </tbody>\n",
       "</table>\n",
       "<p>397 rows × 6 columns</p>\n",
       "</div>"
      ],
      "text/plain": [
       "     rank  discipline  yrs.since.phd  yrs.service  sex  salary\n",
       "0     2.0         1.0             19           18  1.0  139750\n",
       "1     2.0         1.0             20           16  1.0  173200\n",
       "2     1.0         1.0              4            3  1.0   79750\n",
       "3     2.0         1.0             45           39  1.0  115000\n",
       "4     2.0         1.0             40           41  1.0  141500\n",
       "..    ...         ...            ...          ...  ...     ...\n",
       "392   2.0         0.0             33           30  1.0  103106\n",
       "393   2.0         0.0             31           19  1.0  150564\n",
       "394   2.0         0.0             42           25  1.0  101738\n",
       "395   2.0         0.0             25           15  1.0   95329\n",
       "396   1.0         0.0              8            4  1.0   81035\n",
       "\n",
       "[397 rows x 6 columns]"
      ]
     },
     "execution_count": 24,
     "metadata": {},
     "output_type": "execute_result"
    }
   ],
   "source": [
    "df_sal"
   ]
  },
  {
   "cell_type": "code",
   "execution_count": 25,
   "id": "aa904ad7",
   "metadata": {},
   "outputs": [
    {
     "data": {
      "image/png": "[encoded data removed]",
      "text/plain": [
       "<Figure size 1440x1008 with 6 Axes>"
      ]
     },
     "metadata": {
      "needs_background": "light"
     },
     "output_type": "display_data"
    }
   ],
   "source": [
    "df_sal.hist(bins = 50, figsize = (20,14))\n",
    "plt.show() "
   ]
  },
  {
   "cell_type": "markdown",
   "id": "a5dfefe4",
   "metadata": {},
   "source": [
    "In the above graphical representation, 'rank' column has the highest number of values as 'AssocProf', 'sex' column has the highest number of values as 'male','discipline' column has the highest number of values as 'B'"
   ]
  },
  {
   "cell_type": "markdown",
   "id": "f2a8252b",
   "metadata": {},
   "source": [
    "There are varied values in the 'yrs.since.phd', 'yrs.service', and 'salary' columns"
   ]
  },
  {
   "cell_type": "code",
   "execution_count": 26,
   "id": "9d4c35b6",
   "metadata": {},
   "outputs": [
    {
     "data": {
      "text/plain": [
       "<seaborn.axisgrid.PairGrid at 0x1490d790>"
      ]
     },
     "execution_count": 26,
     "metadata": {},
     "output_type": "execute_result"
    },
    {
     "data": {
      "image/png": "[encoded data removed]",
      "text/plain": [
       "<Figure size 1080x1080 with 42 Axes>"
      ]
     },
     "metadata": {
      "needs_background": "light"
     },
     "output_type": "display_data"
    }
   ],
   "source": [
    "sns.pairplot(df_sal)"
   ]
  },
  {
   "cell_type": "markdown",
   "id": "b3250801",
   "metadata": {},
   "source": [
    "# Removing Outliers"
   ]
  },
  {
   "cell_type": "markdown",
   "id": "5c17da00",
   "metadata": {},
   "source": [
    "Using Z-SCORE to remove outliers from the dataset"
   ]
  },
  {
   "cell_type": "code",
   "execution_count": 27,
   "id": "ced2d32a",
   "metadata": {},
   "outputs": [
    {
     "data": {
      "text/plain": [
       "(array([  9,  19,  24,  34,  35,  43,  47,  48,  52,  63,  68,  84,  90,\n",
       "        103, 114, 119, 123, 127, 131, 132, 133, 148, 153, 179, 186, 218,\n",
       "        230, 231, 233, 237, 245, 253, 254, 274, 316, 323, 330, 332, 334,\n",
       "        341, 358, 361, 364], dtype=int64),\n",
       " array([4, 4, 4, 4, 4, 5, 4, 4, 4, 4, 4, 4, 4, 4, 4, 4, 4, 4, 3, 4, 4, 4,\n",
       "        4, 4, 4, 4, 4, 4, 4, 4, 4, 4, 4, 4, 4, 4, 3, 4, 4, 4, 4, 4, 5],\n",
       "       dtype=int64))"
      ]
     },
     "execution_count": 27,
     "metadata": {},
     "output_type": "execute_result"
    }
   ],
   "source": [
    "from scipy.stats import zscore\n",
    "\n",
    "z=np.abs(zscore(df_sal))\n",
    "threshold=3\n",
    "np.where(z>3)"
   ]
  },
  {
   "cell_type": "code",
   "execution_count": 28,
   "id": "d0a55468",
   "metadata": {},
   "outputs": [
    {
     "data": {
      "text/html": [
       "<div>\n",
       "<style scoped>\n",
       "    .dataframe tbody tr th:only-of-type {\n",
       "        vertical-align: middle;\n",
       "    }\n",
       "\n",
       "    .dataframe tbody tr th {\n",
       "        vertical-align: top;\n",
       "    }\n",
       "\n",
       "    .dataframe thead th {\n",
       "        text-align: right;\n",
       "    }\n",
       "</style>\n",
       "<table border=\"1\" class=\"dataframe\">\n",
       "  <thead>\n",
       "    <tr style=\"text-align: right;\">\n",
       "      <th></th>\n",
       "      <th>rank</th>\n",
       "      <th>discipline</th>\n",
       "      <th>yrs.since.phd</th>\n",
       "      <th>yrs.service</th>\n",
       "      <th>sex</th>\n",
       "      <th>salary</th>\n",
       "    </tr>\n",
       "  </thead>\n",
       "  <tbody>\n",
       "    <tr>\n",
       "      <th>count</th>\n",
       "      <td>397.000000</td>\n",
       "      <td>397.000000</td>\n",
       "      <td>397.000000</td>\n",
       "      <td>397.000000</td>\n",
       "      <td>397.000000</td>\n",
       "      <td>397.000000</td>\n",
       "    </tr>\n",
       "    <tr>\n",
       "      <th>mean</th>\n",
       "      <td>1.508816</td>\n",
       "      <td>0.544081</td>\n",
       "      <td>22.314861</td>\n",
       "      <td>17.614610</td>\n",
       "      <td>0.901763</td>\n",
       "      <td>113706.458438</td>\n",
       "    </tr>\n",
       "    <tr>\n",
       "      <th>std</th>\n",
       "      <td>0.757486</td>\n",
       "      <td>0.498682</td>\n",
       "      <td>12.887003</td>\n",
       "      <td>13.006024</td>\n",
       "      <td>0.298010</td>\n",
       "      <td>30289.038695</td>\n",
       "    </tr>\n",
       "    <tr>\n",
       "      <th>min</th>\n",
       "      <td>0.000000</td>\n",
       "      <td>0.000000</td>\n",
       "      <td>1.000000</td>\n",
       "      <td>0.000000</td>\n",
       "      <td>0.000000</td>\n",
       "      <td>57800.000000</td>\n",
       "    </tr>\n",
       "    <tr>\n",
       "      <th>25%</th>\n",
       "      <td>1.000000</td>\n",
       "      <td>0.000000</td>\n",
       "      <td>12.000000</td>\n",
       "      <td>7.000000</td>\n",
       "      <td>1.000000</td>\n",
       "      <td>91000.000000</td>\n",
       "    </tr>\n",
       "    <tr>\n",
       "      <th>50%</th>\n",
       "      <td>2.000000</td>\n",
       "      <td>1.000000</td>\n",
       "      <td>21.000000</td>\n",
       "      <td>16.000000</td>\n",
       "      <td>1.000000</td>\n",
       "      <td>107300.000000</td>\n",
       "    </tr>\n",
       "    <tr>\n",
       "      <th>75%</th>\n",
       "      <td>2.000000</td>\n",
       "      <td>1.000000</td>\n",
       "      <td>32.000000</td>\n",
       "      <td>27.000000</td>\n",
       "      <td>1.000000</td>\n",
       "      <td>134185.000000</td>\n",
       "    </tr>\n",
       "    <tr>\n",
       "      <th>max</th>\n",
       "      <td>2.000000</td>\n",
       "      <td>1.000000</td>\n",
       "      <td>56.000000</td>\n",
       "      <td>60.000000</td>\n",
       "      <td>1.000000</td>\n",
       "      <td>231545.000000</td>\n",
       "    </tr>\n",
       "  </tbody>\n",
       "</table>\n",
       "</div>"
      ],
      "text/plain": [
       "             rank  discipline  yrs.since.phd  yrs.service         sex  \\\n",
       "count  397.000000  397.000000     397.000000   397.000000  397.000000   \n",
       "mean     1.508816    0.544081      22.314861    17.614610    0.901763   \n",
       "std      0.757486    0.498682      12.887003    13.006024    0.298010   \n",
       "min      0.000000    0.000000       1.000000     0.000000    0.000000   \n",
       "25%      1.000000    0.000000      12.000000     7.000000    1.000000   \n",
       "50%      2.000000    1.000000      21.000000    16.000000    1.000000   \n",
       "75%      2.000000    1.000000      32.000000    27.000000    1.000000   \n",
       "max      2.000000    1.000000      56.000000    60.000000    1.000000   \n",
       "\n",
       "              salary  \n",
       "count     397.000000  \n",
       "mean   113706.458438  \n",
       "std     30289.038695  \n",
       "min     57800.000000  \n",
       "25%     91000.000000  \n",
       "50%    107300.000000  \n",
       "75%    134185.000000  \n",
       "max    231545.000000  "
      ]
     },
     "execution_count": 28,
     "metadata": {},
     "output_type": "execute_result"
    }
   ],
   "source": [
    "df_sal.describe()"
   ]
  },
  {
   "cell_type": "code",
   "execution_count": 29,
   "id": "335ab556",
   "metadata": {},
   "outputs": [
    {
     "data": {
      "text/html": [
       "<div>\n",
       "<style scoped>\n",
       "    .dataframe tbody tr th:only-of-type {\n",
       "        vertical-align: middle;\n",
       "    }\n",
       "\n",
       "    .dataframe tbody tr th {\n",
       "        vertical-align: top;\n",
       "    }\n",
       "\n",
       "    .dataframe thead th {\n",
       "        text-align: right;\n",
       "    }\n",
       "</style>\n",
       "<table border=\"1\" class=\"dataframe\">\n",
       "  <thead>\n",
       "    <tr style=\"text-align: right;\">\n",
       "      <th></th>\n",
       "      <th>rank</th>\n",
       "      <th>discipline</th>\n",
       "      <th>yrs.since.phd</th>\n",
       "      <th>yrs.service</th>\n",
       "      <th>sex</th>\n",
       "      <th>salary</th>\n",
       "    </tr>\n",
       "  </thead>\n",
       "  <tbody>\n",
       "    <tr>\n",
       "      <th>0</th>\n",
       "      <td>2.0</td>\n",
       "      <td>1.0</td>\n",
       "      <td>19</td>\n",
       "      <td>18</td>\n",
       "      <td>1.0</td>\n",
       "      <td>139750</td>\n",
       "    </tr>\n",
       "    <tr>\n",
       "      <th>1</th>\n",
       "      <td>2.0</td>\n",
       "      <td>1.0</td>\n",
       "      <td>20</td>\n",
       "      <td>16</td>\n",
       "      <td>1.0</td>\n",
       "      <td>173200</td>\n",
       "    </tr>\n",
       "    <tr>\n",
       "      <th>2</th>\n",
       "      <td>1.0</td>\n",
       "      <td>1.0</td>\n",
       "      <td>4</td>\n",
       "      <td>3</td>\n",
       "      <td>1.0</td>\n",
       "      <td>79750</td>\n",
       "    </tr>\n",
       "    <tr>\n",
       "      <th>3</th>\n",
       "      <td>2.0</td>\n",
       "      <td>1.0</td>\n",
       "      <td>45</td>\n",
       "      <td>39</td>\n",
       "      <td>1.0</td>\n",
       "      <td>115000</td>\n",
       "    </tr>\n",
       "    <tr>\n",
       "      <th>4</th>\n",
       "      <td>2.0</td>\n",
       "      <td>1.0</td>\n",
       "      <td>40</td>\n",
       "      <td>41</td>\n",
       "      <td>1.0</td>\n",
       "      <td>141500</td>\n",
       "    </tr>\n",
       "    <tr>\n",
       "      <th>...</th>\n",
       "      <td>...</td>\n",
       "      <td>...</td>\n",
       "      <td>...</td>\n",
       "      <td>...</td>\n",
       "      <td>...</td>\n",
       "      <td>...</td>\n",
       "    </tr>\n",
       "    <tr>\n",
       "      <th>392</th>\n",
       "      <td>2.0</td>\n",
       "      <td>0.0</td>\n",
       "      <td>33</td>\n",
       "      <td>30</td>\n",
       "      <td>1.0</td>\n",
       "      <td>103106</td>\n",
       "    </tr>\n",
       "    <tr>\n",
       "      <th>393</th>\n",
       "      <td>2.0</td>\n",
       "      <td>0.0</td>\n",
       "      <td>31</td>\n",
       "      <td>19</td>\n",
       "      <td>1.0</td>\n",
       "      <td>150564</td>\n",
       "    </tr>\n",
       "    <tr>\n",
       "      <th>394</th>\n",
       "      <td>2.0</td>\n",
       "      <td>0.0</td>\n",
       "      <td>42</td>\n",
       "      <td>25</td>\n",
       "      <td>1.0</td>\n",
       "      <td>101738</td>\n",
       "    </tr>\n",
       "    <tr>\n",
       "      <th>395</th>\n",
       "      <td>2.0</td>\n",
       "      <td>0.0</td>\n",
       "      <td>25</td>\n",
       "      <td>15</td>\n",
       "      <td>1.0</td>\n",
       "      <td>95329</td>\n",
       "    </tr>\n",
       "    <tr>\n",
       "      <th>396</th>\n",
       "      <td>1.0</td>\n",
       "      <td>0.0</td>\n",
       "      <td>8</td>\n",
       "      <td>4</td>\n",
       "      <td>1.0</td>\n",
       "      <td>81035</td>\n",
       "    </tr>\n",
       "  </tbody>\n",
       "</table>\n",
       "<p>354 rows × 6 columns</p>\n",
       "</div>"
      ],
      "text/plain": [
       "     rank  discipline  yrs.since.phd  yrs.service  sex  salary\n",
       "0     2.0         1.0             19           18  1.0  139750\n",
       "1     2.0         1.0             20           16  1.0  173200\n",
       "2     1.0         1.0              4            3  1.0   79750\n",
       "3     2.0         1.0             45           39  1.0  115000\n",
       "4     2.0         1.0             40           41  1.0  141500\n",
       "..    ...         ...            ...          ...  ...     ...\n",
       "392   2.0         0.0             33           30  1.0  103106\n",
       "393   2.0         0.0             31           19  1.0  150564\n",
       "394   2.0         0.0             42           25  1.0  101738\n",
       "395   2.0         0.0             25           15  1.0   95329\n",
       "396   1.0         0.0              8            4  1.0   81035\n",
       "\n",
       "[354 rows x 6 columns]"
      ]
     },
     "execution_count": 29,
     "metadata": {},
     "output_type": "execute_result"
    }
   ],
   "source": [
    "# New data frame\n",
    "df_new_sal=df_sal[(z<3).all(axis=1)]\n",
    "df_new_sal"
   ]
  },
  {
   "cell_type": "markdown",
   "id": "9ca6c497",
   "metadata": {},
   "source": [
    "# Data Loss"
   ]
  },
  {
   "cell_type": "code",
   "execution_count": 30,
   "id": "d46c7317",
   "metadata": {},
   "outputs": [
    {
     "data": {
      "text/plain": [
       "(397, 6)"
      ]
     },
     "execution_count": 30,
     "metadata": {},
     "output_type": "execute_result"
    }
   ],
   "source": [
    "df_sal.shape"
   ]
  },
  {
   "cell_type": "code",
   "execution_count": 31,
   "id": "2f39cd50",
   "metadata": {},
   "outputs": [
    {
     "data": {
      "text/plain": [
       "(354, 6)"
      ]
     },
     "execution_count": 31,
     "metadata": {},
     "output_type": "execute_result"
    }
   ],
   "source": [
    "df_new_sal.shape"
   ]
  },
  {
   "cell_type": "code",
   "execution_count": 32,
   "id": "741c6187",
   "metadata": {},
   "outputs": [
    {
     "data": {
      "text/plain": [
       "10.831234256926953"
      ]
     },
     "execution_count": 32,
     "metadata": {},
     "output_type": "execute_result"
    }
   ],
   "source": [
    "Data_loss=((397-354)/397)*100\n",
    "Data_loss"
   ]
  },
  {
   "cell_type": "markdown",
   "id": "cf300f76",
   "metadata": {},
   "source": [
    "Data Loss percentage is 10.83 %"
   ]
  },
  {
   "cell_type": "markdown",
   "id": "ebaff21c",
   "metadata": {},
   "source": [
    "We will put all the columns data ( except Salary) in the variable X. And  column Salary which is the target column in the variable Y."
   ]
  },
  {
   "cell_type": "code",
   "execution_count": 33,
   "id": "7b7c784a",
   "metadata": {},
   "outputs": [],
   "source": [
    "# Data Processing\n",
    "X=df_new_sal.iloc[: , : -1].values\n",
    "Y=df_new_sal.iloc[: , -1].values"
   ]
  },
  {
   "cell_type": "markdown",
   "id": "946d77ed",
   "metadata": {},
   "source": [
    "The Dataset is divided into 2 parts 'X' contains all the columns (except salary) and 'Y' is the salary column which is the target column"
   ]
  },
  {
   "cell_type": "code",
   "execution_count": 34,
   "id": "42369e36",
   "metadata": {},
   "outputs": [
    {
     "data": {
      "text/plain": [
       "(354, 5)"
      ]
     },
     "execution_count": 34,
     "metadata": {},
     "output_type": "execute_result"
    }
   ],
   "source": [
    "X.shape"
   ]
  },
  {
   "cell_type": "code",
   "execution_count": 35,
   "id": "2f13562d",
   "metadata": {},
   "outputs": [
    {
     "data": {
      "text/plain": [
       "(354,)"
      ]
     },
     "execution_count": 35,
     "metadata": {},
     "output_type": "execute_result"
    }
   ],
   "source": [
    "Y.shape"
   ]
  },
  {
   "cell_type": "markdown",
   "id": "5b21bef4",
   "metadata": {},
   "source": [
    "# Linear Regression"
   ]
  },
  {
   "cell_type": "code",
   "execution_count": 36,
   "id": "32c9dd1d",
   "metadata": {},
   "outputs": [],
   "source": [
    "from sklearn.linear_model import LinearRegression\n",
    "lr_sal=LinearRegression()"
   ]
  },
  {
   "cell_type": "code",
   "execution_count": 37,
   "id": "3a14a585",
   "metadata": {},
   "outputs": [],
   "source": [
    "from sklearn.model_selection import train_test_split\n",
    "\n",
    "X_train,X_test,Y_train,Y_test=train_test_split(X,Y,test_size=0.3,random_state=40)"
   ]
  },
  {
   "cell_type": "code",
   "execution_count": 38,
   "id": "4c40ee41",
   "metadata": {},
   "outputs": [
    {
     "data": {
      "text/plain": [
       "LinearRegression()"
      ]
     },
     "execution_count": 38,
     "metadata": {},
     "output_type": "execute_result"
    }
   ],
   "source": [
    "lr_sal.fit(X_train,Y_train)"
   ]
  },
  {
   "cell_type": "code",
   "execution_count": 39,
   "id": "a166884d",
   "metadata": {},
   "outputs": [
    {
     "data": {
      "text/plain": [
       "(247, 5)"
      ]
     },
     "execution_count": 39,
     "metadata": {},
     "output_type": "execute_result"
    }
   ],
   "source": [
    "X_train.shape"
   ]
  },
  {
   "cell_type": "code",
   "execution_count": 40,
   "id": "31a1eccc",
   "metadata": {},
   "outputs": [
    {
     "data": {
      "text/plain": [
       "(107, 5)"
      ]
     },
     "execution_count": 40,
     "metadata": {},
     "output_type": "execute_result"
    }
   ],
   "source": [
    "X_test.shape"
   ]
  },
  {
   "cell_type": "code",
   "execution_count": 41,
   "id": "f63518fc",
   "metadata": {},
   "outputs": [
    {
     "data": {
      "text/plain": [
       "(247,)"
      ]
     },
     "execution_count": 41,
     "metadata": {},
     "output_type": "execute_result"
    }
   ],
   "source": [
    "Y_train.shape"
   ]
  },
  {
   "cell_type": "code",
   "execution_count": 42,
   "id": "face3a65",
   "metadata": {},
   "outputs": [
    {
     "data": {
      "text/plain": [
       "(107,)"
      ]
     },
     "execution_count": 42,
     "metadata": {},
     "output_type": "execute_result"
    }
   ],
   "source": [
    "Y_test.shape"
   ]
  },
  {
   "cell_type": "code",
   "execution_count": 43,
   "id": "f7c9600f",
   "metadata": {},
   "outputs": [
    {
     "data": {
      "text/plain": [
       "array([16791.8669427 , 14356.68912648,  1211.47960029,  -675.36548584,\n",
       "           0.        ])"
      ]
     },
     "execution_count": 43,
     "metadata": {},
     "output_type": "execute_result"
    }
   ],
   "source": [
    "lr_sal.coef_"
   ]
  },
  {
   "cell_type": "code",
   "execution_count": 44,
   "id": "2480999b",
   "metadata": {},
   "outputs": [
    {
     "data": {
      "text/plain": [
       "66181.69166619121"
      ]
     },
     "execution_count": 44,
     "metadata": {},
     "output_type": "execute_result"
    }
   ],
   "source": [
    "lr_sal.intercept_"
   ]
  },
  {
   "cell_type": "code",
   "execution_count": 45,
   "id": "3a6602e5",
   "metadata": {},
   "outputs": [
    {
     "data": {
      "text/plain": [
       "0.383849091489495"
      ]
     },
     "execution_count": 45,
     "metadata": {},
     "output_type": "execute_result"
    }
   ],
   "source": [
    "lr_sal.score(X_train,Y_train)"
   ]
  },
  {
   "cell_type": "code",
   "execution_count": 46,
   "id": "d09de595",
   "metadata": {},
   "outputs": [
    {
     "name": "stdout",
     "output_type": "stream",
     "text": [
      "Predicted value:  [123772.16873829 126452.73931058 130344.82144668 132691.17142554\n",
      " 119128.20778522  99753.20693596  89673.21210949 100010.81830766\n",
      " 141805.1113713  122163.85835845 120813.12738678 142299.44274363\n",
      " 124767.85167254 124844.42893073 121669.52698612 122365.78384302\n",
      " 119761.79052893 126195.12793888  87144.11152423 121488.49287261\n",
      " 121488.46090909 100150.06967904  89963.93346789  86714.13879445\n",
      " 133839.97691265  99474.7041932  125380.51108166  82919.55725113\n",
      " 122818.33247322 123256.9459949  129175.09262498 122699.97247291\n",
      " 134160.26239753 126452.73931058 123632.94933044  86038.77330861\n",
      " 116663.46584251 116663.46584251 102463.37359825 126633.80538761\n",
      "  88216.33975314 120694.76738646 115451.98624221 121230.84953739\n",
      "  89030.95661036 132670.28005448 121766.96365185  83755.06547941\n",
      " 124983.64833859 125380.51108166 112931.55841237 134494.45102742\n",
      " 129216.90733063 113049.91841269 133561.47416989  99474.7041932\n",
      " 135650.24474058 134933.09651262 130087.21007498 134494.45102742\n",
      "  75316.52298301  78832.60178357 116684.35721357  89288.56798205\n",
      " 133164.61142681 144346.4305722   99474.7041932  116008.99172773\n",
      " 151357.69680226 113982.89527022  87144.11152423 127267.35616779\n",
      " 127107.24538888  86574.88742307 118731.34504214 118153.44818556\n",
      " 132273.4173114  104459.87396575 121349.24150123 104459.87396575\n",
      "  88858.59525228 100813.24851276 134278.62239785  81234.6696131\n",
      "  97866.36184983  94359.01973175 136562.33022705 106346.71905188\n",
      " 140934.84059048 111559.93606964 127664.21891087  93565.29424559\n",
      " 121906.24698675 132252.52594034 104320.62259437 124489.34892978\n",
      "  90724.54896734 109297.1196115   77621.12218328 127803.47028225\n",
      " 135232.49062644 133366.53691138 120576.40738614 128597.1957684\n",
      "  93189.29091005 118055.9795563  114024.67801235]\n",
      "Actual value:  [120000 101000 107200 150480 120806  78000 119800  91227 129600  87800\n",
      " 102600 115000 109305 101036 127100 146800  89565 104800  72500 119450\n",
      " 137167  80139  74000 107008 134000  92000 118971 113341 143940 118223\n",
      " 107500 117515 105890 134778 143250  90304 139219 150500  98510 134885\n",
      "  77081  93904 115800 108875  74000 101000 145000  95408 139750 170000\n",
      " 148800 114596 132000 152664  92391  92000 132261 175000  72300  93519\n",
      "  83000 104800 107100  74000 109785 101299  92700 113068 133700  97262\n",
      "  74856 138000  57800 100135  96200 128800 116518  79800 136500  79916\n",
      " 126431 105350 114778  83850  77700  70700 160400  83600 183800 140300\n",
      " 104428  88600 131950 181257  84500 150564  86250 121946 108413 117704\n",
      " 145200 126320  91100 156938 118700 107300 105260]\n"
     ]
    }
   ],
   "source": [
    "# Predicting the value\n",
    "pred_lr=lr_sal.predict(X_test)\n",
    "print(\"Predicted value: \",pred_lr)\n",
    "print(\"Actual value: \",Y_test)"
   ]
  },
  {
   "cell_type": "code",
   "execution_count": 47,
   "id": "97e09704",
   "metadata": {},
   "outputs": [
    {
     "name": "stdout",
     "output_type": "stream",
     "text": [
      "Error:\n",
      "Mean absolute error:  19314.112637352544\n",
      "Mean squared error:  539298606.4272826\n",
      "Root Mean squared error:  23222.803586718004\n"
     ]
    }
   ],
   "source": [
    "from sklearn.metrics import mean_squared_error,mean_absolute_error\n",
    "\n",
    "print('Error:')\n",
    "\n",
    "print('Mean absolute error: ',mean_absolute_error(Y_test,pred_lr))\n",
    "print('Mean squared error: ',mean_squared_error(Y_test,pred_lr))\n",
    "\n",
    "print('Root Mean squared error: ',np.sqrt(mean_squared_error(Y_test,pred_lr)))"
   ]
  },
  {
   "cell_type": "code",
   "execution_count": 48,
   "id": "655abca8",
   "metadata": {},
   "outputs": [
    {
     "name": "stdout",
     "output_type": "stream",
     "text": [
      "R2 Score: 23.035423338899953\n"
     ]
    }
   ],
   "source": [
    "from sklearn.metrics import r2_score\n",
    "lr_score = r2_score(Y_test,pred_lr)\n",
    "print('R2 Score:', lr_score*100)"
   ]
  },
  {
   "cell_type": "code",
   "execution_count": 49,
   "id": "7fe93419",
   "metadata": {},
   "outputs": [
    {
     "name": "stdout",
     "output_type": "stream",
     "text": [
      "Cross Val Score: 26.71985753918663\n"
     ]
    }
   ],
   "source": [
    "from sklearn.model_selection import cross_val_score\n",
    "lr_cvs = cross_val_score(lr_sal,X,Y,cv=5)\n",
    "lr_cvs = lr_cvs.mean()\n",
    "print('Cross Val Score:', lr_cvs*100)"
   ]
  },
  {
   "cell_type": "code",
   "execution_count": null,
   "id": "ec48841c",
   "metadata": {},
   "outputs": [],
   "source": []
  },
  {
   "cell_type": "markdown",
   "id": "83f1ed18",
   "metadata": {},
   "source": [
    "# Lasso Regression"
   ]
  },
  {
   "cell_type": "code",
   "execution_count": 50,
   "id": "4b736281",
   "metadata": {},
   "outputs": [],
   "source": [
    "from sklearn.linear_model import Lasso\n",
    "parameters = {'alpha':[.0001, .001, .01, .1, 1, 10],'random_state':list(range(0,10))}\n",
    "ls_sal= Lasso()"
   ]
  },
  {
   "cell_type": "code",
   "execution_count": 51,
   "id": "ab05e75a",
   "metadata": {},
   "outputs": [
    {
     "data": {
      "text/plain": [
       "Lasso()"
      ]
     },
     "execution_count": 51,
     "metadata": {},
     "output_type": "execute_result"
    }
   ],
   "source": [
    "ls_sal.fit(X_train,Y_train)"
   ]
  },
  {
   "cell_type": "code",
   "execution_count": 52,
   "id": "416a24e2",
   "metadata": {},
   "outputs": [
    {
     "data": {
      "text/plain": [
       "0.3838490842814859"
      ]
     },
     "execution_count": 52,
     "metadata": {},
     "output_type": "execute_result"
    }
   ],
   "source": [
    "ls_sal.score(X_train,Y_train)"
   ]
  },
  {
   "cell_type": "code",
   "execution_count": 53,
   "id": "feeac3ca",
   "metadata": {},
   "outputs": [
    {
     "data": {
      "text/plain": [
       "array([16789.52930372, 14352.52004118,  1211.45577406,  -675.30124359,\n",
       "           0.        ])"
      ]
     },
     "execution_count": 53,
     "metadata": {},
     "output_type": "execute_result"
    }
   ],
   "source": [
    "ls_sal.coef_"
   ]
  },
  {
   "cell_type": "code",
   "execution_count": 54,
   "id": "3b2c537e",
   "metadata": {},
   "outputs": [
    {
     "name": "stdout",
     "output_type": "stream",
     "text": [
      "Predicted value:  [123769.3078158  126450.08046818 130347.24678513 132687.37069555\n",
      " 119128.8662891   99751.90851166  89674.52699986 100009.76961591\n",
      " 141801.99771363 122165.78211489 120815.17962772 142297.28760016\n",
      " 124768.70502008 124846.55476727 121670.49222836 122366.22579392\n",
      " 119763.30288874 126192.21936393  87146.99877502 121490.48087131\n",
      " 121485.54298079 100148.91632902  89966.91814051  86715.46092126\n",
      " 133837.52950369  99473.61508543 125377.77140723  82921.51456399\n",
      " 122820.65103651 123253.5856073  129171.7177645  122701.93664537\n",
      " 134156.68757386 126450.08046818 123635.09899321  86040.15967768\n",
      " 116665.09009703 116665.09009703 102464.38598408 126635.02971575\n",
      "  88219.30783597 120696.46523658 115453.63432297 121227.68187654\n",
      "  89033.75579267 132666.93837358 121763.83640701  83756.39484266\n",
      " 124980.76358987 125377.77140723 112932.44070568 134492.39842531\n",
      " 129217.52029896 113051.15509681 133559.23607747  99473.61508543\n",
      " 135646.43677415 134930.27088662 130089.38568088 134492.39842531\n",
      "  75322.00695869  78837.65988974 116685.522419    89291.61689692\n",
      " 133162.22826011 144343.62365289  99473.61508543 116010.22117541\n",
      " 151354.49719302 113984.31744465  87146.99877502 127264.52842488\n",
      " 127109.88728031  86576.31420815 118731.85847174 118154.83929732\n",
      " 132269.93055621 104458.58489479 121351.33415819 104458.58489479\n",
      "  88860.07904316 100815.0577487  134275.401965    81240.13911589\n",
      "  97865.15149401  94365.70895154 136559.16680001 106345.34191244\n",
      " 140935.07022222 111561.40589653 127661.53624224  93571.69331682\n",
      " 121907.92101064 132249.49823424 104319.43818168 124490.41159385\n",
      "  90726.40373884 109298.07338349  77626.20411567 127800.68295535\n",
      " 135228.99663481 133362.67193914 120577.75084544 128594.69859008\n",
      "  93190.17993091 118056.55722815 114025.1820886 ]\n",
      "Actual value:  [120000 101000 107200 150480 120806  78000 119800  91227 129600  87800\n",
      " 102600 115000 109305 101036 127100 146800  89565 104800  72500 119450\n",
      " 137167  80139  74000 107008 134000  92000 118971 113341 143940 118223\n",
      " 107500 117515 105890 134778 143250  90304 139219 150500  98510 134885\n",
      "  77081  93904 115800 108875  74000 101000 145000  95408 139750 170000\n",
      " 148800 114596 132000 152664  92391  92000 132261 175000  72300  93519\n",
      "  83000 104800 107100  74000 109785 101299  92700 113068 133700  97262\n",
      "  74856 138000  57800 100135  96200 128800 116518  79800 136500  79916\n",
      " 126431 105350 114778  83850  77700  70700 160400  83600 183800 140300\n",
      " 104428  88600 131950 181257  84500 150564  86250 121946 108413 117704\n",
      " 145200 126320  91100 156938 118700 107300 105260]\n"
     ]
    }
   ],
   "source": [
    "pred_ls=ls_sal.predict(X_test)\n",
    "print(\"Predicted value: \",pred_ls)\n",
    "print(\"Actual value: \",Y_test)"
   ]
  },
  {
   "cell_type": "code",
   "execution_count": 55,
   "id": "3a7ecb78",
   "metadata": {},
   "outputs": [
    {
     "name": "stdout",
     "output_type": "stream",
     "text": [
      "Error:\n",
      "Mean absolute error:  19313.74655180577\n",
      "Mean squared error:  539288735.4078685\n",
      "Root Mean squared error:  23222.59105715528\n"
     ]
    }
   ],
   "source": [
    "from sklearn.metrics import mean_squared_error,mean_absolute_error\n",
    "\n",
    "print('Error:')\n",
    "\n",
    "print('Mean absolute error: ',mean_absolute_error(Y_test,pred_ls))\n",
    "print('Mean squared error: ',mean_squared_error(Y_test,pred_ls))\n",
    "\n",
    "print('Root Mean squared error: ',np.sqrt(mean_squared_error(Y_test,pred_ls)))"
   ]
  },
  {
   "cell_type": "code",
   "execution_count": 56,
   "id": "ba8d14e3",
   "metadata": {},
   "outputs": [
    {
     "name": "stdout",
     "output_type": "stream",
     "text": [
      "R2 Score: 23.036832055372358\n"
     ]
    }
   ],
   "source": [
    "ls_score = r2_score(Y_test,pred_ls)\n",
    "print('R2 Score:', ls_score*100)"
   ]
  },
  {
   "cell_type": "code",
   "execution_count": 57,
   "id": "0cab0c9b",
   "metadata": {},
   "outputs": [
    {
     "name": "stdout",
     "output_type": "stream",
     "text": [
      "Cross Val Score: 26.720464535797788\n"
     ]
    }
   ],
   "source": [
    "from sklearn.model_selection import cross_val_score\n",
    "ls_cvs = cross_val_score(ls_sal,X,Y,cv=5)\n",
    "ls_cvs = ls_cvs.mean()\n",
    "print('Cross Val Score:', ls_cvs*100)"
   ]
  },
  {
   "cell_type": "code",
   "execution_count": null,
   "id": "9a9aea8a",
   "metadata": {},
   "outputs": [],
   "source": []
  },
  {
   "cell_type": "markdown",
   "id": "61ef881e",
   "metadata": {},
   "source": [
    "# Ridge Regression"
   ]
  },
  {
   "cell_type": "code",
   "execution_count": 58,
   "id": "4bc73c5d",
   "metadata": {},
   "outputs": [],
   "source": [
    "from sklearn.linear_model import Ridge\n",
    "parameters = {'alpha':[.0001, .001, .01, .1, 1, 10],'random_state':list(range(0,10))}\n",
    "rd_sal= Ridge()"
   ]
  },
  {
   "cell_type": "code",
   "execution_count": 59,
   "id": "d0c9a90f",
   "metadata": {},
   "outputs": [
    {
     "data": {
      "text/plain": [
       "Ridge(alpha=0.0001, random_state=0)"
      ]
     },
     "execution_count": 59,
     "metadata": {},
     "output_type": "execute_result"
    }
   ],
   "source": [
    "rd_sal = Ridge(alpha=0.0001,random_state=0)\n",
    "rd_sal.fit(X_train,Y_train)"
   ]
  },
  {
   "cell_type": "code",
   "execution_count": 60,
   "id": "e39c3a8a",
   "metadata": {},
   "outputs": [
    {
     "data": {
      "text/plain": [
       "0.3838490914892191"
      ]
     },
     "execution_count": 60,
     "metadata": {},
     "output_type": "execute_result"
    }
   ],
   "source": [
    "rd_sal.score(X_train,Y_train)"
   ]
  },
  {
   "cell_type": "code",
   "execution_count": 61,
   "id": "19a5e540",
   "metadata": {},
   "outputs": [
    {
     "name": "stdout",
     "output_type": "stream",
     "text": [
      "Predicted value:  [123772.14849737 126452.72074593 130344.83644685 132691.15146476\n",
      " 119128.21274414  99753.19833812  89673.22387136 100010.81062767\n",
      " 141805.09710985 122163.8686211  120813.13756152 142299.43181834\n",
      " 124767.85940142 124844.44086966 121669.53391262 122365.78931303\n",
      " 119761.79853271 126195.10845638  87144.12730746 121488.50309131\n",
      " 121488.43961845 100150.06170775  89963.9506361   86714.14946264\n",
      " 133839.96183242  99474.69617796 125380.49184651  82919.56857343\n",
      " 122818.34428028 123256.92391828 129175.07273571 122699.98307081\n",
      " 134160.24373381 126452.72074593 123632.96089015  86038.78393285\n",
      " 116663.47304391 116663.47304391 102463.38919619 126633.8150401\n",
      "  88216.35620688 120694.77635205 115451.9930644  121230.8273289\n",
      "  89030.97281675 132670.26159415 121766.94177861  83755.07505392\n",
      " 124983.62847688 125380.49184651 112931.56176654 134494.4374916\n",
      " 129216.91594981 113049.92297601 133561.45967226  99474.69617796\n",
      " 135650.22587348 134933.08060246 130087.2241573  134494.4374916\n",
      "  75316.55841148  78832.63714053 116684.36291452  89288.5851063\n",
      " 133164.59630263 144346.41827833  99474.69617796 116008.99738473\n",
      " 151357.68586581 113982.90079535  87144.12730746 127267.3373558\n",
      " 127107.25987797  86574.89838256 118731.34937451 118153.45518357\n",
      " 132273.39822452 104459.86717605 121349.25201123 104459.86717605\n",
      "  88858.60726149 100813.26610583 134278.60494328  81234.70722892\n",
      "  97866.35282882  94359.06631154 136562.31382221 106346.71268535\n",
      " 140934.85237522 111559.94083634 127664.20072543  93565.33957228\n",
      " 121906.25633155 132252.5083539  104320.61609597 124489.35724126\n",
      "  90724.56290017 109297.12182803  77621.15716102 127803.45180551\n",
      " 135232.47263324 133366.51699455 120576.41514258 128597.17854477\n",
      "  93189.30260041 118055.98384472 114024.68053658]\n",
      "Actual value:  [120000 101000 107200 150480 120806  78000 119800  91227 129600  87800\n",
      " 102600 115000 109305 101036 127100 146800  89565 104800  72500 119450\n",
      " 137167  80139  74000 107008 134000  92000 118971 113341 143940 118223\n",
      " 107500 117515 105890 134778 143250  90304 139219 150500  98510 134885\n",
      "  77081  93904 115800 108875  74000 101000 145000  95408 139750 170000\n",
      " 148800 114596 132000 152664  92391  92000 132261 175000  72300  93519\n",
      "  83000 104800 107100  74000 109785 101299  92700 113068 133700  97262\n",
      "  74856 138000  57800 100135  96200 128800 116518  79800 136500  79916\n",
      " 126431 105350 114778  83850  77700  70700 160400  83600 183800 140300\n",
      " 104428  88600 131950 181257  84500 150564  86250 121946 108413 117704\n",
      " 145200 126320  91100 156938 118700 107300 105260]\n"
     ]
    }
   ],
   "source": [
    "pred_rd=rd_sal.predict(X_test)\n",
    "print(\"Predicted value: \",pred_rd)\n",
    "print(\"Actual value: \",Y_test)"
   ]
  },
  {
   "cell_type": "code",
   "execution_count": 62,
   "id": "164e716a",
   "metadata": {},
   "outputs": [
    {
     "name": "stdout",
     "output_type": "stream",
     "text": [
      "Error:\n",
      "Mean absolute error:  19314.110260432146\n",
      "Mean squared error:  539298539.294021\n",
      "Root Mean squared error:  23222.802141301145\n"
     ]
    }
   ],
   "source": [
    "from sklearn.metrics import mean_squared_error,mean_absolute_error\n",
    "\n",
    "print('Error:')\n",
    "\n",
    "print('Mean absolute error: ',mean_absolute_error(Y_test,pred_rd))\n",
    "print('Mean squared error: ',mean_squared_error(Y_test,pred_rd))\n",
    "\n",
    "print('Root Mean squared error: ',np.sqrt(mean_squared_error(Y_test,pred_rd)))"
   ]
  },
  {
   "cell_type": "code",
   "execution_count": 63,
   "id": "966a7306",
   "metadata": {},
   "outputs": [
    {
     "name": "stdout",
     "output_type": "stream",
     "text": [
      "R2 Score: 23.035432919646126\n"
     ]
    }
   ],
   "source": [
    "rd_score = r2_score(Y_test,pred_rd)\n",
    "print('R2 Score:', rd_score*100)"
   ]
  },
  {
   "cell_type": "code",
   "execution_count": 64,
   "id": "700d956d",
   "metadata": {},
   "outputs": [
    {
     "name": "stdout",
     "output_type": "stream",
     "text": [
      "Cross Val Score: 26.719863320391806\n"
     ]
    }
   ],
   "source": [
    "from sklearn.model_selection import cross_val_score\n",
    "rd_cvs = cross_val_score(rd_sal,X,Y,cv=5)\n",
    "rd_cvs = rd_cvs.mean()\n",
    "print('Cross Val Score:', rd_cvs*100)"
   ]
  },
  {
   "cell_type": "code",
   "execution_count": null,
   "id": "de7bb116",
   "metadata": {},
   "outputs": [],
   "source": []
  },
  {
   "cell_type": "markdown",
   "id": "2690b512",
   "metadata": {},
   "source": [
    "# Decision Tree Regressor"
   ]
  },
  {
   "cell_type": "code",
   "execution_count": 65,
   "id": "ee261b61",
   "metadata": {},
   "outputs": [],
   "source": [
    "from sklearn.tree import DecisionTreeRegressor\n",
    "dtr_sal = DecisionTreeRegressor(random_state = 0) "
   ]
  },
  {
   "cell_type": "code",
   "execution_count": 66,
   "id": "b17776ef",
   "metadata": {},
   "outputs": [
    {
     "data": {
      "text/plain": [
       "DecisionTreeRegressor(random_state=0)"
      ]
     },
     "execution_count": 66,
     "metadata": {},
     "output_type": "execute_result"
    }
   ],
   "source": [
    "dtr_sal = DecisionTreeRegressor(random_state=0)\n",
    "dtr_sal.fit(X_train,Y_train)"
   ]
  },
  {
   "cell_type": "code",
   "execution_count": 67,
   "id": "8abe1811",
   "metadata": {},
   "outputs": [
    {
     "data": {
      "text/plain": [
       "0.9645361691058759"
      ]
     },
     "execution_count": 67,
     "metadata": {},
     "output_type": "execute_result"
    }
   ],
   "source": [
    "dtr_sal.score(X_train,Y_train)"
   ]
  },
  {
   "cell_type": "code",
   "execution_count": 68,
   "id": "8b808320",
   "metadata": {},
   "outputs": [
    {
     "name": "stdout",
     "output_type": "stream",
     "text": [
      "Predicted value:  [130664.   155750.    78162.   153303.   106294.    88397.5  100944.\n",
      "  92350.   145098.   103450.   104279.   119700.   204000.    77202.\n",
      "  81700.    92050.   121200.   173200.    73000.   104279.   132825.\n",
      "  83558.25  81035.   113600.   162150.    92350.   121466.5  103760.\n",
      " 155865.   117150.   106639.    88600.   111168.   155750.    77202.\n",
      "  95368.5  163200.   163200.   105000.   168635.    69200.   103106.\n",
      " 163200.   112865.5   85000.   124714.   112865.5   97000.   122100.\n",
      " 121466.5   88175.   166024.   204000.   101100.   162200.    92350.\n",
      " 173200.   120165.5   88709.   166024.    93110.    93110.   110515.\n",
      "  81035.   162150.    98193.    92350.   110515.   133217.    96614.\n",
      "  73000.   144640.    88709.    98290.    92050.   172505.   173200.\n",
      "  91300.   133900.    91300.   103760.   106300.   124714.    82100.\n",
      "  70768.    81800.   100131.    77000.   174500.    96614.   145028.\n",
      "  81800.   134800.   153750.    74155.   151292.    93418.   104350.\n",
      "  73877.   155750.   146500.   153303.   172505.   112696.    77000.\n",
      "  92050.    93000.  ]\n",
      "Actual value:  [120000 101000 107200 150480 120806  78000 119800  91227 129600  87800\n",
      " 102600 115000 109305 101036 127100 146800  89565 104800  72500 119450\n",
      " 137167  80139  74000 107008 134000  92000 118971 113341 143940 118223\n",
      " 107500 117515 105890 134778 143250  90304 139219 150500  98510 134885\n",
      "  77081  93904 115800 108875  74000 101000 145000  95408 139750 170000\n",
      " 148800 114596 132000 152664  92391  92000 132261 175000  72300  93519\n",
      "  83000 104800 107100  74000 109785 101299  92700 113068 133700  97262\n",
      "  74856 138000  57800 100135  96200 128800 116518  79800 136500  79916\n",
      " 126431 105350 114778  83850  77700  70700 160400  83600 183800 140300\n",
      " 104428  88600 131950 181257  84500 150564  86250 121946 108413 117704\n",
      " 145200 126320  91100 156938 118700 107300 105260]\n"
     ]
    }
   ],
   "source": [
    "pred_dtr=dtr_sal.predict(X_test)\n",
    "print(\"Predicted value: \",pred_dtr)\n",
    "print(\"Actual value: \",Y_test)"
   ]
  },
  {
   "cell_type": "code",
   "execution_count": 69,
   "id": "bc1bbabd",
   "metadata": {},
   "outputs": [
    {
     "name": "stdout",
     "output_type": "stream",
     "text": [
      "Error:\n",
      "Mean absolute error:  21796.21261682243\n",
      "Mean squared error:  966321895.0589954\n",
      "Root Mean squared error:  31085.718506397683\n"
     ]
    }
   ],
   "source": [
    "from sklearn.metrics import mean_squared_error,mean_absolute_error\n",
    "\n",
    "print('Error:')\n",
    "\n",
    "print('Mean absolute error: ',mean_absolute_error(Y_test,pred_dtr))\n",
    "print('Mean squared error: ',mean_squared_error(Y_test,pred_dtr))\n",
    "\n",
    "print('Root Mean squared error: ',np.sqrt(mean_squared_error(Y_test,pred_dtr)))"
   ]
  },
  {
   "cell_type": "code",
   "execution_count": 70,
   "id": "49e55e0c",
   "metadata": {},
   "outputs": [
    {
     "name": "stdout",
     "output_type": "stream",
     "text": [
      "R2 Score: -37.906077792907645\n"
     ]
    }
   ],
   "source": [
    "dtr_score = r2_score(Y_test,pred_dtr)\n",
    "print('R2 Score:', dtr_score*100)"
   ]
  },
  {
   "cell_type": "code",
   "execution_count": 71,
   "id": "3e75efa5",
   "metadata": {},
   "outputs": [
    {
     "name": "stdout",
     "output_type": "stream",
     "text": [
      "Cross Val Score: -15.924662317865002\n"
     ]
    }
   ],
   "source": [
    "from sklearn.model_selection import cross_val_score\n",
    "dtr_cvs = cross_val_score(dtr_sal,X,Y,cv=5)\n",
    "dtr_cvs = dtr_cvs.mean()\n",
    "print('Cross Val Score:', dtr_cvs*100)"
   ]
  },
  {
   "cell_type": "code",
   "execution_count": null,
   "id": "2fe35598",
   "metadata": {},
   "outputs": [],
   "source": []
  },
  {
   "cell_type": "markdown",
   "id": "a56b136a",
   "metadata": {},
   "source": [
    "# KNeighbors Regressor"
   ]
  },
  {
   "cell_type": "code",
   "execution_count": 72,
   "id": "e0feb5bd",
   "metadata": {},
   "outputs": [
    {
     "data": {
      "text/plain": [
       "{'n_neighbors': 9}"
      ]
     },
     "execution_count": 72,
     "metadata": {},
     "output_type": "execute_result"
    }
   ],
   "source": [
    "from sklearn import neighbors\n",
    "from sklearn.model_selection import GridSearchCV\n",
    "params = {'n_neighbors':[2,3,4,5,6,7,8,9]}\n",
    "\n",
    "knn_sal = neighbors.KNeighborsRegressor()\n",
    "\n",
    "model_sal = GridSearchCV(knn_sal, params, cv=5)\n",
    "model_sal.fit(X_train,Y_train)\n",
    "model_sal.best_params_"
   ]
  },
  {
   "cell_type": "code",
   "execution_count": 73,
   "id": "6470616a",
   "metadata": {},
   "outputs": [],
   "source": [
    "knn_sal= neighbors.KNeighborsRegressor(n_neighbors=7)\n",
    "knn_sal.fit(X_train, Y_train)\n",
    "knn_sal.score(X_train, Y_train)\n",
    "pred_knn = knn_sal.predict(X_test)"
   ]
  },
  {
   "cell_type": "code",
   "execution_count": 74,
   "id": "31ae77b7",
   "metadata": {},
   "outputs": [
    {
     "name": "stdout",
     "output_type": "stream",
     "text": [
      "R2 Score: 35.88563966427418\n"
     ]
    }
   ],
   "source": [
    "knn_score = r2_score(Y_test,pred_knn)\n",
    "print('R2 Score:', knn_score*100)"
   ]
  },
  {
   "cell_type": "code",
   "execution_count": 75,
   "id": "f800c8a5",
   "metadata": {},
   "outputs": [
    {
     "name": "stdout",
     "output_type": "stream",
     "text": [
      "Cross Val Score: 23.619373692797392\n"
     ]
    }
   ],
   "source": [
    "knn_cvs = cross_val_score(knn_sal,X,Y,cv=5)\n",
    "knn_cvs = knn_cvs.mean()\n",
    "print('Cross Val Score:', knn_cvs*100)"
   ]
  },
  {
   "cell_type": "code",
   "execution_count": 76,
   "id": "44555e15",
   "metadata": {},
   "outputs": [
    {
     "name": "stdout",
     "output_type": "stream",
     "text": [
      "Error:\n",
      "Mean absolute error:  16961.895861148198\n",
      "Mean squared error:  449255835.3602899\n",
      "Root Mean squared error:  21195.656049301466\n"
     ]
    }
   ],
   "source": [
    "from sklearn.metrics import mean_squared_error,mean_absolute_error\n",
    "\n",
    "print('Error:')\n",
    "\n",
    "print('Mean absolute error: ',mean_absolute_error(Y_test,pred_knn))\n",
    "print('Mean squared error: ',mean_squared_error(Y_test,pred_knn))\n",
    "\n",
    "print('Root Mean squared error: ',np.sqrt(mean_squared_error(Y_test,pred_knn)))"
   ]
  },
  {
   "cell_type": "code",
   "execution_count": null,
   "id": "4e518209",
   "metadata": {},
   "outputs": [],
   "source": []
  },
  {
   "cell_type": "markdown",
   "id": "21a96beb",
   "metadata": {},
   "source": [
    "From the above models, KNeighbors Regression shows the highesr R2 Score among the others. Lasso Regression has the highest Cross Validation Score."
   ]
  },
  {
   "cell_type": "markdown",
   "id": "f6737195",
   "metadata": {},
   "source": [
    "Next, Ridge Regression & Linear Regression are almost identical and there is a slight difference from Lasso Regression in Cross Validation Score. "
   ]
  },
  {
   "cell_type": "markdown",
   "id": "ac7f2ce3",
   "metadata": {},
   "source": [
    "Decision Tree Regressor has negative values in both Cross Validation as well as R2 Score."
   ]
  },
  {
   "cell_type": "code",
   "execution_count": null,
   "id": "a677f51c",
   "metadata": {},
   "outputs": [],
   "source": []
  },
  {
   "cell_type": "markdown",
   "id": "b1c671e9",
   "metadata": {},
   "source": [
    "# Saving Model"
   ]
  },
  {
   "cell_type": "markdown",
   "id": "476c7704",
   "metadata": {},
   "source": [
    "Since KNeighbors Regressor shows the Highest R2 Score we will save that model."
   ]
  },
  {
   "cell_type": "code",
   "execution_count": 77,
   "id": "6cc652c7",
   "metadata": {},
   "outputs": [],
   "source": [
    "import pickle\n",
    "filename='salary.pkl'\n",
    "pickle.dump(knn_sal,open(filename,'wb'))"
   ]
  },
  {
   "cell_type": "code",
   "execution_count": null,
   "id": "7a7075c8",
   "metadata": {},
   "outputs": [],
   "source": []
  },
  {
   "cell_type": "code",
   "execution_count": null,
   "id": "2de2cd50",
   "metadata": {},
   "outputs": [],
   "source": []
  }
 ],
 "metadata": {
  "kernelspec": {
   "display_name": "Python 3",
   "language": "python",
   "name": "python3"
  },
  "language_info": {
   "codemirror_mode": {
    "name": "ipython",
    "version": 3
   },
   "file_extension": ".py",
   "mimetype": "text/x-python",
   "name": "python",
   "nbconvert_exporter": "python",
   "pygments_lexer": "ipython3",
   "version": "3.8.8"
  }
 },
 "nbformat": 4,
 "nbformat_minor": 5
}
