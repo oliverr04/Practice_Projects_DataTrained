{
 "cells": [
  {
   "cell_type": "markdown",
   "id": "ee5b5fcd",
   "metadata": {},
   "source": [
    "Practice Project - 6"
   ]
  },
  {
   "cell_type": "markdown",
   "id": "474dc157",
   "metadata": {},
   "source": [
    "# Advertising Sales Channel Prediction"
   ]
  },
  {
   "cell_type": "markdown",
   "id": "a90dd88c",
   "metadata": {},
   "source": [
    "When a company enters a market, the distribution strategy and channel it uses are keys to its success in the market, as well as market know-how and customer knowledge and understanding. Because an effective distribution strategy under efficient supply-chain management opens doors for attaining competitive advantage and strong brand equity in the market, it is a component of the marketing mix that cannot be ignored . \n",
    "\n",
    "The distribution strategy and the channel design have to be right the first time. The case study of Sales channel includes the detailed study of TV, radio and newspaper channel. The predict the total sales generated from all the sales channel."
   ]
  },
  {
   "cell_type": "code",
   "execution_count": 1,
   "id": "c6ff4fe8",
   "metadata": {},
   "outputs": [],
   "source": [
    "# Import Necessary Libraries\n",
    "import pandas as pd\n",
    "import numpy as np \n",
    "import seaborn as sns\n",
    "import matplotlib.pyplot as plt\n",
    "import warnings\n",
    "warnings.filterwarnings('ignore')"
   ]
  },
  {
   "cell_type": "code",
   "execution_count": 2,
   "id": "4aaa061f",
   "metadata": {},
   "outputs": [
    {
     "data": {
      "text/html": [
       "<div>\n",
       "<style scoped>\n",
       "    .dataframe tbody tr th:only-of-type {\n",
       "        vertical-align: middle;\n",
       "    }\n",
       "\n",
       "    .dataframe tbody tr th {\n",
       "        vertical-align: top;\n",
       "    }\n",
       "\n",
       "    .dataframe thead th {\n",
       "        text-align: right;\n",
       "    }\n",
       "</style>\n",
       "<table border=\"1\" class=\"dataframe\">\n",
       "  <thead>\n",
       "    <tr style=\"text-align: right;\">\n",
       "      <th></th>\n",
       "      <th>TV</th>\n",
       "      <th>radio</th>\n",
       "      <th>newspaper</th>\n",
       "      <th>sales</th>\n",
       "    </tr>\n",
       "  </thead>\n",
       "  <tbody>\n",
       "    <tr>\n",
       "      <th>1</th>\n",
       "      <td>230.1</td>\n",
       "      <td>37.8</td>\n",
       "      <td>69.2</td>\n",
       "      <td>22.1</td>\n",
       "    </tr>\n",
       "    <tr>\n",
       "      <th>2</th>\n",
       "      <td>44.5</td>\n",
       "      <td>39.3</td>\n",
       "      <td>45.1</td>\n",
       "      <td>10.4</td>\n",
       "    </tr>\n",
       "    <tr>\n",
       "      <th>3</th>\n",
       "      <td>17.2</td>\n",
       "      <td>45.9</td>\n",
       "      <td>69.3</td>\n",
       "      <td>9.3</td>\n",
       "    </tr>\n",
       "    <tr>\n",
       "      <th>4</th>\n",
       "      <td>151.5</td>\n",
       "      <td>41.3</td>\n",
       "      <td>58.5</td>\n",
       "      <td>18.5</td>\n",
       "    </tr>\n",
       "    <tr>\n",
       "      <th>5</th>\n",
       "      <td>180.8</td>\n",
       "      <td>10.8</td>\n",
       "      <td>58.4</td>\n",
       "      <td>12.9</td>\n",
       "    </tr>\n",
       "    <tr>\n",
       "      <th>...</th>\n",
       "      <td>...</td>\n",
       "      <td>...</td>\n",
       "      <td>...</td>\n",
       "      <td>...</td>\n",
       "    </tr>\n",
       "    <tr>\n",
       "      <th>196</th>\n",
       "      <td>38.2</td>\n",
       "      <td>3.7</td>\n",
       "      <td>13.8</td>\n",
       "      <td>7.6</td>\n",
       "    </tr>\n",
       "    <tr>\n",
       "      <th>197</th>\n",
       "      <td>94.2</td>\n",
       "      <td>4.9</td>\n",
       "      <td>8.1</td>\n",
       "      <td>9.7</td>\n",
       "    </tr>\n",
       "    <tr>\n",
       "      <th>198</th>\n",
       "      <td>177.0</td>\n",
       "      <td>9.3</td>\n",
       "      <td>6.4</td>\n",
       "      <td>12.8</td>\n",
       "    </tr>\n",
       "    <tr>\n",
       "      <th>199</th>\n",
       "      <td>283.6</td>\n",
       "      <td>42.0</td>\n",
       "      <td>66.2</td>\n",
       "      <td>25.5</td>\n",
       "    </tr>\n",
       "    <tr>\n",
       "      <th>200</th>\n",
       "      <td>232.1</td>\n",
       "      <td>8.6</td>\n",
       "      <td>8.7</td>\n",
       "      <td>13.4</td>\n",
       "    </tr>\n",
       "  </tbody>\n",
       "</table>\n",
       "<p>200 rows × 4 columns</p>\n",
       "</div>"
      ],
      "text/plain": [
       "        TV  radio  newspaper  sales\n",
       "1    230.1   37.8       69.2   22.1\n",
       "2     44.5   39.3       45.1   10.4\n",
       "3     17.2   45.9       69.3    9.3\n",
       "4    151.5   41.3       58.5   18.5\n",
       "5    180.8   10.8       58.4   12.9\n",
       "..     ...    ...        ...    ...\n",
       "196   38.2    3.7       13.8    7.6\n",
       "197   94.2    4.9        8.1    9.7\n",
       "198  177.0    9.3        6.4   12.8\n",
       "199  283.6   42.0       66.2   25.5\n",
       "200  232.1    8.6        8.7   13.4\n",
       "\n",
       "[200 rows x 4 columns]"
      ]
     },
     "execution_count": 2,
     "metadata": {},
     "output_type": "execute_result"
    }
   ],
   "source": [
    "# Dataset\n",
    "df_adv=pd.read_csv(\"Advertising.csv\",index_col=0)\n",
    "df_adv"
   ]
  },
  {
   "cell_type": "code",
   "execution_count": 3,
   "id": "1906ec48",
   "metadata": {},
   "outputs": [
    {
     "data": {
      "text/html": [
       "<div>\n",
       "<style scoped>\n",
       "    .dataframe tbody tr th:only-of-type {\n",
       "        vertical-align: middle;\n",
       "    }\n",
       "\n",
       "    .dataframe tbody tr th {\n",
       "        vertical-align: top;\n",
       "    }\n",
       "\n",
       "    .dataframe thead th {\n",
       "        text-align: right;\n",
       "    }\n",
       "</style>\n",
       "<table border=\"1\" class=\"dataframe\">\n",
       "  <thead>\n",
       "    <tr style=\"text-align: right;\">\n",
       "      <th></th>\n",
       "      <th>TV</th>\n",
       "      <th>radio</th>\n",
       "      <th>newspaper</th>\n",
       "      <th>sales</th>\n",
       "    </tr>\n",
       "  </thead>\n",
       "  <tbody>\n",
       "    <tr>\n",
       "      <th>1</th>\n",
       "      <td>230.1</td>\n",
       "      <td>37.8</td>\n",
       "      <td>69.2</td>\n",
       "      <td>22.1</td>\n",
       "    </tr>\n",
       "    <tr>\n",
       "      <th>2</th>\n",
       "      <td>44.5</td>\n",
       "      <td>39.3</td>\n",
       "      <td>45.1</td>\n",
       "      <td>10.4</td>\n",
       "    </tr>\n",
       "    <tr>\n",
       "      <th>3</th>\n",
       "      <td>17.2</td>\n",
       "      <td>45.9</td>\n",
       "      <td>69.3</td>\n",
       "      <td>9.3</td>\n",
       "    </tr>\n",
       "    <tr>\n",
       "      <th>4</th>\n",
       "      <td>151.5</td>\n",
       "      <td>41.3</td>\n",
       "      <td>58.5</td>\n",
       "      <td>18.5</td>\n",
       "    </tr>\n",
       "    <tr>\n",
       "      <th>5</th>\n",
       "      <td>180.8</td>\n",
       "      <td>10.8</td>\n",
       "      <td>58.4</td>\n",
       "      <td>12.9</td>\n",
       "    </tr>\n",
       "  </tbody>\n",
       "</table>\n",
       "</div>"
      ],
      "text/plain": [
       "      TV  radio  newspaper  sales\n",
       "1  230.1   37.8       69.2   22.1\n",
       "2   44.5   39.3       45.1   10.4\n",
       "3   17.2   45.9       69.3    9.3\n",
       "4  151.5   41.3       58.5   18.5\n",
       "5  180.8   10.8       58.4   12.9"
      ]
     },
     "execution_count": 3,
     "metadata": {},
     "output_type": "execute_result"
    }
   ],
   "source": [
    "# First 5 rows\n",
    "df_adv.head(5)"
   ]
  },
  {
   "cell_type": "code",
   "execution_count": 4,
   "id": "75764d4e",
   "metadata": {},
   "outputs": [
    {
     "data": {
      "text/html": [
       "<div>\n",
       "<style scoped>\n",
       "    .dataframe tbody tr th:only-of-type {\n",
       "        vertical-align: middle;\n",
       "    }\n",
       "\n",
       "    .dataframe tbody tr th {\n",
       "        vertical-align: top;\n",
       "    }\n",
       "\n",
       "    .dataframe thead th {\n",
       "        text-align: right;\n",
       "    }\n",
       "</style>\n",
       "<table border=\"1\" class=\"dataframe\">\n",
       "  <thead>\n",
       "    <tr style=\"text-align: right;\">\n",
       "      <th></th>\n",
       "      <th>TV</th>\n",
       "      <th>radio</th>\n",
       "      <th>newspaper</th>\n",
       "      <th>sales</th>\n",
       "    </tr>\n",
       "  </thead>\n",
       "  <tbody>\n",
       "    <tr>\n",
       "      <th>196</th>\n",
       "      <td>38.2</td>\n",
       "      <td>3.7</td>\n",
       "      <td>13.8</td>\n",
       "      <td>7.6</td>\n",
       "    </tr>\n",
       "    <tr>\n",
       "      <th>197</th>\n",
       "      <td>94.2</td>\n",
       "      <td>4.9</td>\n",
       "      <td>8.1</td>\n",
       "      <td>9.7</td>\n",
       "    </tr>\n",
       "    <tr>\n",
       "      <th>198</th>\n",
       "      <td>177.0</td>\n",
       "      <td>9.3</td>\n",
       "      <td>6.4</td>\n",
       "      <td>12.8</td>\n",
       "    </tr>\n",
       "    <tr>\n",
       "      <th>199</th>\n",
       "      <td>283.6</td>\n",
       "      <td>42.0</td>\n",
       "      <td>66.2</td>\n",
       "      <td>25.5</td>\n",
       "    </tr>\n",
       "    <tr>\n",
       "      <th>200</th>\n",
       "      <td>232.1</td>\n",
       "      <td>8.6</td>\n",
       "      <td>8.7</td>\n",
       "      <td>13.4</td>\n",
       "    </tr>\n",
       "  </tbody>\n",
       "</table>\n",
       "</div>"
      ],
      "text/plain": [
       "        TV  radio  newspaper  sales\n",
       "196   38.2    3.7       13.8    7.6\n",
       "197   94.2    4.9        8.1    9.7\n",
       "198  177.0    9.3        6.4   12.8\n",
       "199  283.6   42.0       66.2   25.5\n",
       "200  232.1    8.6        8.7   13.4"
      ]
     },
     "execution_count": 4,
     "metadata": {},
     "output_type": "execute_result"
    }
   ],
   "source": [
    "# Last 5 rows\n",
    "df_adv.tail(5)"
   ]
  },
  {
   "cell_type": "code",
   "execution_count": 5,
   "id": "89f53ecf",
   "metadata": {},
   "outputs": [
    {
     "data": {
      "text/html": [
       "<div>\n",
       "<style scoped>\n",
       "    .dataframe tbody tr th:only-of-type {\n",
       "        vertical-align: middle;\n",
       "    }\n",
       "\n",
       "    .dataframe tbody tr th {\n",
       "        vertical-align: top;\n",
       "    }\n",
       "\n",
       "    .dataframe thead th {\n",
       "        text-align: right;\n",
       "    }\n",
       "</style>\n",
       "<table border=\"1\" class=\"dataframe\">\n",
       "  <thead>\n",
       "    <tr style=\"text-align: right;\">\n",
       "      <th></th>\n",
       "      <th>TV</th>\n",
       "      <th>radio</th>\n",
       "      <th>newspaper</th>\n",
       "      <th>sales</th>\n",
       "    </tr>\n",
       "  </thead>\n",
       "  <tbody>\n",
       "    <tr>\n",
       "      <th>125</th>\n",
       "      <td>229.5</td>\n",
       "      <td>32.3</td>\n",
       "      <td>74.2</td>\n",
       "      <td>19.7</td>\n",
       "    </tr>\n",
       "    <tr>\n",
       "      <th>184</th>\n",
       "      <td>287.6</td>\n",
       "      <td>43.0</td>\n",
       "      <td>71.8</td>\n",
       "      <td>26.2</td>\n",
       "    </tr>\n",
       "    <tr>\n",
       "      <th>127</th>\n",
       "      <td>7.8</td>\n",
       "      <td>38.9</td>\n",
       "      <td>50.6</td>\n",
       "      <td>6.6</td>\n",
       "    </tr>\n",
       "    <tr>\n",
       "      <th>164</th>\n",
       "      <td>163.5</td>\n",
       "      <td>36.8</td>\n",
       "      <td>7.4</td>\n",
       "      <td>18.0</td>\n",
       "    </tr>\n",
       "  </tbody>\n",
       "</table>\n",
       "</div>"
      ],
      "text/plain": [
       "        TV  radio  newspaper  sales\n",
       "125  229.5   32.3       74.2   19.7\n",
       "184  287.6   43.0       71.8   26.2\n",
       "127    7.8   38.9       50.6    6.6\n",
       "164  163.5   36.8        7.4   18.0"
      ]
     },
     "execution_count": 5,
     "metadata": {},
     "output_type": "execute_result"
    }
   ],
   "source": [
    "# Sample\n",
    "df_adv.sample(4)"
   ]
  },
  {
   "cell_type": "code",
   "execution_count": 6,
   "id": "5edf7d46",
   "metadata": {},
   "outputs": [
    {
     "data": {
      "text/plain": [
       "(200, 4)"
      ]
     },
     "execution_count": 6,
     "metadata": {},
     "output_type": "execute_result"
    }
   ],
   "source": [
    "df_adv.shape"
   ]
  },
  {
   "cell_type": "markdown",
   "id": "162d64b4",
   "metadata": {},
   "source": [
    "This dataset contains 200 rows and 5 columns."
   ]
  },
  {
   "cell_type": "markdown",
   "id": "d89853dc",
   "metadata": {},
   "source": [
    "# EDA"
   ]
  },
  {
   "cell_type": "code",
   "execution_count": 7,
   "id": "7e15b330",
   "metadata": {},
   "outputs": [
    {
     "data": {
      "text/plain": [
       "Index(['TV', 'radio', 'newspaper', 'sales'], dtype='object')"
      ]
     },
     "execution_count": 7,
     "metadata": {},
     "output_type": "execute_result"
    }
   ],
   "source": [
    "# Column Names\n",
    "df_adv.columns"
   ]
  },
  {
   "cell_type": "code",
   "execution_count": 8,
   "id": "b98f5cc6",
   "metadata": {},
   "outputs": [
    {
     "data": {
      "text/plain": [
       "TV           float64\n",
       "radio        float64\n",
       "newspaper    float64\n",
       "sales        float64\n",
       "dtype: object"
      ]
     },
     "execution_count": 8,
     "metadata": {},
     "output_type": "execute_result"
    }
   ],
   "source": [
    "# Column Data Types\n",
    "df_adv.dtypes"
   ]
  },
  {
   "cell_type": "code",
   "execution_count": 9,
   "id": "f78f0096",
   "metadata": {},
   "outputs": [
    {
     "data": {
      "text/html": [
       "<div>\n",
       "<style scoped>\n",
       "    .dataframe tbody tr th:only-of-type {\n",
       "        vertical-align: middle;\n",
       "    }\n",
       "\n",
       "    .dataframe tbody tr th {\n",
       "        vertical-align: top;\n",
       "    }\n",
       "\n",
       "    .dataframe thead th {\n",
       "        text-align: right;\n",
       "    }\n",
       "</style>\n",
       "<table border=\"1\" class=\"dataframe\">\n",
       "  <thead>\n",
       "    <tr style=\"text-align: right;\">\n",
       "      <th></th>\n",
       "      <th>TV</th>\n",
       "      <th>radio</th>\n",
       "      <th>newspaper</th>\n",
       "      <th>sales</th>\n",
       "    </tr>\n",
       "  </thead>\n",
       "  <tbody>\n",
       "    <tr>\n",
       "      <th>1</th>\n",
       "      <td>False</td>\n",
       "      <td>False</td>\n",
       "      <td>False</td>\n",
       "      <td>False</td>\n",
       "    </tr>\n",
       "    <tr>\n",
       "      <th>2</th>\n",
       "      <td>False</td>\n",
       "      <td>False</td>\n",
       "      <td>False</td>\n",
       "      <td>False</td>\n",
       "    </tr>\n",
       "    <tr>\n",
       "      <th>3</th>\n",
       "      <td>False</td>\n",
       "      <td>False</td>\n",
       "      <td>False</td>\n",
       "      <td>False</td>\n",
       "    </tr>\n",
       "    <tr>\n",
       "      <th>4</th>\n",
       "      <td>False</td>\n",
       "      <td>False</td>\n",
       "      <td>False</td>\n",
       "      <td>False</td>\n",
       "    </tr>\n",
       "    <tr>\n",
       "      <th>5</th>\n",
       "      <td>False</td>\n",
       "      <td>False</td>\n",
       "      <td>False</td>\n",
       "      <td>False</td>\n",
       "    </tr>\n",
       "    <tr>\n",
       "      <th>...</th>\n",
       "      <td>...</td>\n",
       "      <td>...</td>\n",
       "      <td>...</td>\n",
       "      <td>...</td>\n",
       "    </tr>\n",
       "    <tr>\n",
       "      <th>196</th>\n",
       "      <td>False</td>\n",
       "      <td>False</td>\n",
       "      <td>False</td>\n",
       "      <td>False</td>\n",
       "    </tr>\n",
       "    <tr>\n",
       "      <th>197</th>\n",
       "      <td>False</td>\n",
       "      <td>False</td>\n",
       "      <td>False</td>\n",
       "      <td>False</td>\n",
       "    </tr>\n",
       "    <tr>\n",
       "      <th>198</th>\n",
       "      <td>False</td>\n",
       "      <td>False</td>\n",
       "      <td>False</td>\n",
       "      <td>False</td>\n",
       "    </tr>\n",
       "    <tr>\n",
       "      <th>199</th>\n",
       "      <td>False</td>\n",
       "      <td>False</td>\n",
       "      <td>False</td>\n",
       "      <td>False</td>\n",
       "    </tr>\n",
       "    <tr>\n",
       "      <th>200</th>\n",
       "      <td>False</td>\n",
       "      <td>False</td>\n",
       "      <td>False</td>\n",
       "      <td>False</td>\n",
       "    </tr>\n",
       "  </tbody>\n",
       "</table>\n",
       "<p>200 rows × 4 columns</p>\n",
       "</div>"
      ],
      "text/plain": [
       "        TV  radio  newspaper  sales\n",
       "1    False  False      False  False\n",
       "2    False  False      False  False\n",
       "3    False  False      False  False\n",
       "4    False  False      False  False\n",
       "5    False  False      False  False\n",
       "..     ...    ...        ...    ...\n",
       "196  False  False      False  False\n",
       "197  False  False      False  False\n",
       "198  False  False      False  False\n",
       "199  False  False      False  False\n",
       "200  False  False      False  False\n",
       "\n",
       "[200 rows x 4 columns]"
      ]
     },
     "execution_count": 9,
     "metadata": {},
     "output_type": "execute_result"
    }
   ],
   "source": [
    "# Checking for null values\n",
    "df_adv.isnull()"
   ]
  },
  {
   "cell_type": "code",
   "execution_count": 10,
   "id": "f098ceea",
   "metadata": {},
   "outputs": [
    {
     "data": {
      "text/plain": [
       "TV           0\n",
       "radio        0\n",
       "newspaper    0\n",
       "sales        0\n",
       "dtype: int64"
      ]
     },
     "execution_count": 10,
     "metadata": {},
     "output_type": "execute_result"
    }
   ],
   "source": [
    "# Sum of null values if any...\n",
    "df_adv.isnull().sum()"
   ]
  },
  {
   "cell_type": "markdown",
   "id": "336c90c8",
   "metadata": {},
   "source": [
    "There are no null or missing values in this dataset."
   ]
  },
  {
   "cell_type": "code",
   "execution_count": 11,
   "id": "97afb09e",
   "metadata": {},
   "outputs": [
    {
     "data": {
      "text/html": [
       "<div>\n",
       "<style scoped>\n",
       "    .dataframe tbody tr th:only-of-type {\n",
       "        vertical-align: middle;\n",
       "    }\n",
       "\n",
       "    .dataframe tbody tr th {\n",
       "        vertical-align: top;\n",
       "    }\n",
       "\n",
       "    .dataframe thead th {\n",
       "        text-align: right;\n",
       "    }\n",
       "</style>\n",
       "<table border=\"1\" class=\"dataframe\">\n",
       "  <thead>\n",
       "    <tr style=\"text-align: right;\">\n",
       "      <th></th>\n",
       "      <th>TV</th>\n",
       "      <th>radio</th>\n",
       "      <th>newspaper</th>\n",
       "      <th>sales</th>\n",
       "    </tr>\n",
       "  </thead>\n",
       "  <tbody>\n",
       "    <tr>\n",
       "      <th>count</th>\n",
       "      <td>200.000000</td>\n",
       "      <td>200.000000</td>\n",
       "      <td>200.000000</td>\n",
       "      <td>200.000000</td>\n",
       "    </tr>\n",
       "    <tr>\n",
       "      <th>mean</th>\n",
       "      <td>147.042500</td>\n",
       "      <td>23.264000</td>\n",
       "      <td>30.554000</td>\n",
       "      <td>14.022500</td>\n",
       "    </tr>\n",
       "    <tr>\n",
       "      <th>std</th>\n",
       "      <td>85.854236</td>\n",
       "      <td>14.846809</td>\n",
       "      <td>21.778621</td>\n",
       "      <td>5.217457</td>\n",
       "    </tr>\n",
       "    <tr>\n",
       "      <th>min</th>\n",
       "      <td>0.700000</td>\n",
       "      <td>0.000000</td>\n",
       "      <td>0.300000</td>\n",
       "      <td>1.600000</td>\n",
       "    </tr>\n",
       "    <tr>\n",
       "      <th>25%</th>\n",
       "      <td>74.375000</td>\n",
       "      <td>9.975000</td>\n",
       "      <td>12.750000</td>\n",
       "      <td>10.375000</td>\n",
       "    </tr>\n",
       "    <tr>\n",
       "      <th>50%</th>\n",
       "      <td>149.750000</td>\n",
       "      <td>22.900000</td>\n",
       "      <td>25.750000</td>\n",
       "      <td>12.900000</td>\n",
       "    </tr>\n",
       "    <tr>\n",
       "      <th>75%</th>\n",
       "      <td>218.825000</td>\n",
       "      <td>36.525000</td>\n",
       "      <td>45.100000</td>\n",
       "      <td>17.400000</td>\n",
       "    </tr>\n",
       "    <tr>\n",
       "      <th>max</th>\n",
       "      <td>296.400000</td>\n",
       "      <td>49.600000</td>\n",
       "      <td>114.000000</td>\n",
       "      <td>27.000000</td>\n",
       "    </tr>\n",
       "  </tbody>\n",
       "</table>\n",
       "</div>"
      ],
      "text/plain": [
       "               TV       radio   newspaper       sales\n",
       "count  200.000000  200.000000  200.000000  200.000000\n",
       "mean   147.042500   23.264000   30.554000   14.022500\n",
       "std     85.854236   14.846809   21.778621    5.217457\n",
       "min      0.700000    0.000000    0.300000    1.600000\n",
       "25%     74.375000    9.975000   12.750000   10.375000\n",
       "50%    149.750000   22.900000   25.750000   12.900000\n",
       "75%    218.825000   36.525000   45.100000   17.400000\n",
       "max    296.400000   49.600000  114.000000   27.000000"
      ]
     },
     "execution_count": 11,
     "metadata": {},
     "output_type": "execute_result"
    }
   ],
   "source": [
    "df_adv.describe()"
   ]
  },
  {
   "cell_type": "code",
   "execution_count": 12,
   "id": "c2ae5e6d",
   "metadata": {},
   "outputs": [
    {
     "data": {
      "text/html": [
       "<div>\n",
       "<style scoped>\n",
       "    .dataframe tbody tr th:only-of-type {\n",
       "        vertical-align: middle;\n",
       "    }\n",
       "\n",
       "    .dataframe tbody tr th {\n",
       "        vertical-align: top;\n",
       "    }\n",
       "\n",
       "    .dataframe thead th {\n",
       "        text-align: right;\n",
       "    }\n",
       "</style>\n",
       "<table border=\"1\" class=\"dataframe\">\n",
       "  <thead>\n",
       "    <tr style=\"text-align: right;\">\n",
       "      <th></th>\n",
       "      <th>TV</th>\n",
       "      <th>radio</th>\n",
       "      <th>newspaper</th>\n",
       "    </tr>\n",
       "    <tr>\n",
       "      <th>sales</th>\n",
       "      <th></th>\n",
       "      <th></th>\n",
       "      <th></th>\n",
       "    </tr>\n",
       "  </thead>\n",
       "  <tbody>\n",
       "    <tr>\n",
       "      <th>1.6</th>\n",
       "      <td>0.70</td>\n",
       "      <td>39.600000</td>\n",
       "      <td>8.7</td>\n",
       "    </tr>\n",
       "    <tr>\n",
       "      <th>3.2</th>\n",
       "      <td>4.10</td>\n",
       "      <td>11.600000</td>\n",
       "      <td>5.7</td>\n",
       "    </tr>\n",
       "    <tr>\n",
       "      <th>4.8</th>\n",
       "      <td>8.60</td>\n",
       "      <td>2.100000</td>\n",
       "      <td>1.0</td>\n",
       "    </tr>\n",
       "    <tr>\n",
       "      <th>5.3</th>\n",
       "      <td>9.25</td>\n",
       "      <td>15.150000</td>\n",
       "      <td>17.5</td>\n",
       "    </tr>\n",
       "    <tr>\n",
       "      <th>5.5</th>\n",
       "      <td>7.30</td>\n",
       "      <td>28.100000</td>\n",
       "      <td>41.4</td>\n",
       "    </tr>\n",
       "    <tr>\n",
       "      <th>...</th>\n",
       "      <td>...</td>\n",
       "      <td>...</td>\n",
       "      <td>...</td>\n",
       "    </tr>\n",
       "    <tr>\n",
       "      <th>24.7</th>\n",
       "      <td>220.30</td>\n",
       "      <td>49.000000</td>\n",
       "      <td>3.2</td>\n",
       "    </tr>\n",
       "    <tr>\n",
       "      <th>25.4</th>\n",
       "      <td>266.60</td>\n",
       "      <td>45.033333</td>\n",
       "      <td>33.5</td>\n",
       "    </tr>\n",
       "    <tr>\n",
       "      <th>25.5</th>\n",
       "      <td>283.60</td>\n",
       "      <td>42.000000</td>\n",
       "      <td>66.2</td>\n",
       "    </tr>\n",
       "    <tr>\n",
       "      <th>26.2</th>\n",
       "      <td>287.60</td>\n",
       "      <td>43.000000</td>\n",
       "      <td>71.8</td>\n",
       "    </tr>\n",
       "    <tr>\n",
       "      <th>27.0</th>\n",
       "      <td>276.90</td>\n",
       "      <td>48.900000</td>\n",
       "      <td>41.8</td>\n",
       "    </tr>\n",
       "  </tbody>\n",
       "</table>\n",
       "<p>121 rows × 3 columns</p>\n",
       "</div>"
      ],
      "text/plain": [
       "           TV      radio  newspaper\n",
       "sales                              \n",
       "1.6      0.70  39.600000        8.7\n",
       "3.2      4.10  11.600000        5.7\n",
       "4.8      8.60   2.100000        1.0\n",
       "5.3      9.25  15.150000       17.5\n",
       "5.5      7.30  28.100000       41.4\n",
       "...       ...        ...        ...\n",
       "24.7   220.30  49.000000        3.2\n",
       "25.4   266.60  45.033333       33.5\n",
       "25.5   283.60  42.000000       66.2\n",
       "26.2   287.60  43.000000       71.8\n",
       "27.0   276.90  48.900000       41.8\n",
       "\n",
       "[121 rows x 3 columns]"
      ]
     },
     "execution_count": 12,
     "metadata": {},
     "output_type": "execute_result"
    }
   ],
   "source": [
    "# Mean of our target variable 'sales'\n",
    "df_adv.groupby('sales').mean()"
   ]
  },
  {
   "cell_type": "code",
   "execution_count": 13,
   "id": "8f258a12",
   "metadata": {},
   "outputs": [
    {
     "data": {
      "text/html": [
       "<div>\n",
       "<style scoped>\n",
       "    .dataframe tbody tr th:only-of-type {\n",
       "        vertical-align: middle;\n",
       "    }\n",
       "\n",
       "    .dataframe tbody tr th {\n",
       "        vertical-align: top;\n",
       "    }\n",
       "\n",
       "    .dataframe thead th {\n",
       "        text-align: right;\n",
       "    }\n",
       "</style>\n",
       "<table border=\"1\" class=\"dataframe\">\n",
       "  <thead>\n",
       "    <tr style=\"text-align: right;\">\n",
       "      <th></th>\n",
       "      <th>TV</th>\n",
       "      <th>radio</th>\n",
       "      <th>newspaper</th>\n",
       "      <th>sales</th>\n",
       "    </tr>\n",
       "  </thead>\n",
       "  <tbody>\n",
       "    <tr>\n",
       "      <th>TV</th>\n",
       "      <td>1.000000</td>\n",
       "      <td>0.054809</td>\n",
       "      <td>0.056648</td>\n",
       "      <td>0.782224</td>\n",
       "    </tr>\n",
       "    <tr>\n",
       "      <th>radio</th>\n",
       "      <td>0.054809</td>\n",
       "      <td>1.000000</td>\n",
       "      <td>0.354104</td>\n",
       "      <td>0.576223</td>\n",
       "    </tr>\n",
       "    <tr>\n",
       "      <th>newspaper</th>\n",
       "      <td>0.056648</td>\n",
       "      <td>0.354104</td>\n",
       "      <td>1.000000</td>\n",
       "      <td>0.228299</td>\n",
       "    </tr>\n",
       "    <tr>\n",
       "      <th>sales</th>\n",
       "      <td>0.782224</td>\n",
       "      <td>0.576223</td>\n",
       "      <td>0.228299</td>\n",
       "      <td>1.000000</td>\n",
       "    </tr>\n",
       "  </tbody>\n",
       "</table>\n",
       "</div>"
      ],
      "text/plain": [
       "                 TV     radio  newspaper     sales\n",
       "TV         1.000000  0.054809   0.056648  0.782224\n",
       "radio      0.054809  1.000000   0.354104  0.576223\n",
       "newspaper  0.056648  0.354104   1.000000  0.228299\n",
       "sales      0.782224  0.576223   0.228299  1.000000"
      ]
     },
     "execution_count": 13,
     "metadata": {},
     "output_type": "execute_result"
    }
   ],
   "source": [
    "df_adv.corr()"
   ]
  },
  {
   "cell_type": "code",
   "execution_count": 14,
   "id": "a3f41f63",
   "metadata": {},
   "outputs": [
    {
     "data": {
      "text/plain": [
       "<AxesSubplot:>"
      ]
     },
     "execution_count": 14,
     "metadata": {},
     "output_type": "execute_result"
    },
    {
     "data": {
      "image/png": "[encoded data removed]",
      "text/plain": [
       "<Figure size 720x504 with 2 Axes>"
      ]
     },
     "metadata": {
      "needs_background": "light"
     },
     "output_type": "display_data"
    }
   ],
   "source": [
    "# Visualizing df_adv.corr() using heatmap\n",
    "plt.figure(figsize=(10,7))\n",
    "sns.heatmap(df_adv.corr(),annot=True,linewidths=0.1,linecolor=\"black\",fmt=\".2f\")"
   ]
  },
  {
   "cell_type": "markdown",
   "id": "5cec7d0f",
   "metadata": {},
   "source": [
    "From the above visualization, we can see that the strongly correlated columns include: TV and sales, radio and sales, radio and newspaper, followed by newspaper and sales."
   ]
  },
  {
   "cell_type": "markdown",
   "id": "c24d2738",
   "metadata": {},
   "source": [
    "Also, from the visualization, the weakly correlated columns include: TV and radio, TV and newspaper and vice versa."
   ]
  },
  {
   "cell_type": "code",
   "execution_count": 15,
   "id": "65118c2f",
   "metadata": {},
   "outputs": [
    {
     "name": "stdout",
     "output_type": "stream",
     "text": [
      "<class 'pandas.core.frame.DataFrame'>\n",
      "Int64Index: 200 entries, 1 to 200\n",
      "Data columns (total 4 columns):\n",
      " #   Column     Non-Null Count  Dtype  \n",
      "---  ------     --------------  -----  \n",
      " 0   TV         200 non-null    float64\n",
      " 1   radio      200 non-null    float64\n",
      " 2   newspaper  200 non-null    float64\n",
      " 3   sales      200 non-null    float64\n",
      "dtypes: float64(4)\n",
      "memory usage: 7.8 KB\n"
     ]
    }
   ],
   "source": [
    "df_adv.info()"
   ]
  },
  {
   "cell_type": "code",
   "execution_count": 16,
   "id": "f252abef",
   "metadata": {},
   "outputs": [
    {
     "data": {
      "text/plain": [
       "TV           190\n",
       "radio        167\n",
       "newspaper    172\n",
       "sales        121\n",
       "dtype: int64"
      ]
     },
     "execution_count": 16,
     "metadata": {},
     "output_type": "execute_result"
    }
   ],
   "source": [
    "# Unique values of columns\n",
    "df_adv.nunique()"
   ]
  },
  {
   "cell_type": "code",
   "execution_count": 17,
   "id": "4f749cb1",
   "metadata": {},
   "outputs": [
    {
     "data": {
      "text/plain": [
       "array([22.1, 10.4,  9.3, 18.5, 12.9,  7.2, 11.8, 13.2,  4.8, 10.6,  8.6,\n",
       "       17.4,  9.2,  9.7, 19. , 22.4, 12.5, 24.4, 11.3, 14.6, 18. ,  5.6,\n",
       "       15.5, 12. , 15. , 15.9, 18.9, 10.5, 21.4, 11.9,  9.6,  9.5, 12.8,\n",
       "       25.4, 14.7, 10.1, 21.5, 16.6, 17.1, 20.7,  8.5, 14.9, 23.2, 14.8,\n",
       "       11.4, 10.7, 22.6, 21.2, 20.2, 23.7,  5.5, 23.8, 18.4,  8.1, 24.2,\n",
       "       15.7, 14. , 13.4, 22.3, 18.3, 12.4,  8.8, 11. , 17. ,  8.7,  6.9,\n",
       "       14.2,  5.3, 12.3, 13.6, 21.7, 15.2, 16. , 16.7, 11.2,  7.3, 19.4,\n",
       "       22.2, 11.5, 16.9, 11.7, 17.2, 19.2, 19.8, 21.8, 14.1, 12.6, 12.2,\n",
       "        9.4,  6.6,  7. , 11.6, 19.7, 24.7,  1.6, 12.7,  5.7, 19.6, 10.8,\n",
       "       20.8, 10.9, 20.1, 10.3, 16.1, 15.6,  3.2, 15.3, 14.4, 13.3,  8. ,\n",
       "        8.4, 14.5,  7.6, 27. , 26.2, 17.6, 17.3,  6.7,  9.9,  5.9, 25.5])"
      ]
     },
     "execution_count": 17,
     "metadata": {},
     "output_type": "execute_result"
    }
   ],
   "source": [
    "# Unique values of target variable column\n",
    "df_adv['sales'].unique()"
   ]
  },
  {
   "cell_type": "code",
   "execution_count": 18,
   "id": "d722716c",
   "metadata": {},
   "outputs": [
    {
     "data": {
      "text/plain": [
       "9.7     5\n",
       "15.9    4\n",
       "11.7    4\n",
       "12.9    4\n",
       "20.7    3\n",
       "       ..\n",
       "25.5    1\n",
       "15.6    1\n",
       "17.6    1\n",
       "3.2     1\n",
       "20.8    1\n",
       "Name: sales, Length: 121, dtype: int64"
      ]
     },
     "execution_count": 18,
     "metadata": {},
     "output_type": "execute_result"
    }
   ],
   "source": [
    "df_adv['sales'].value_counts()"
   ]
  },
  {
   "cell_type": "markdown",
   "id": "45bb3816",
   "metadata": {},
   "source": [
    "# Data Visualization"
   ]
  },
  {
   "cell_type": "code",
   "execution_count": 19,
   "id": "7b04acd9",
   "metadata": {},
   "outputs": [
    {
     "data": {
      "image/png": "[encoded data removed]",
      "text/plain": [
       "<Figure size 432x288 with 1 Axes>"
      ]
     },
     "metadata": {
      "needs_background": "light"
     },
     "output_type": "display_data"
    }
   ],
   "source": [
    "sns.countplot(df_adv['sales'])\n",
    "plt.show()"
   ]
  },
  {
   "cell_type": "code",
   "execution_count": 20,
   "id": "0994d16a",
   "metadata": {},
   "outputs": [
    {
     "data": {
      "text/plain": [
       "<AxesSubplot:xlabel='sales', ylabel='Density'>"
      ]
     },
     "execution_count": 20,
     "metadata": {},
     "output_type": "execute_result"
    },
    {
     "data": {
      "image/png": "[encoded data removed]",
      "text/plain": [
       "<Figure size 432x288 with 1 Axes>"
      ]
     },
     "metadata": {
      "needs_background": "light"
     },
     "output_type": "display_data"
    }
   ],
   "source": [
    "sns.distplot(df_adv['sales'])"
   ]
  },
  {
   "cell_type": "code",
   "execution_count": 21,
   "id": "ae33655a",
   "metadata": {},
   "outputs": [
    {
     "data": {
      "text/plain": [
       "<AxesSubplot:xlabel='TV', ylabel='Density'>"
      ]
     },
     "execution_count": 21,
     "metadata": {},
     "output_type": "execute_result"
    },
    {
     "data": {
      "image/png": "[encoded data removed]",
      "text/plain": [
       "<Figure size 432x288 with 1 Axes>"
      ]
     },
     "metadata": {
      "needs_background": "light"
     },
     "output_type": "display_data"
    }
   ],
   "source": [
    "sns.distplot(df_adv['TV'])"
   ]
  },
  {
   "cell_type": "code",
   "execution_count": 22,
   "id": "a43c0b44",
   "metadata": {},
   "outputs": [
    {
     "data": {
      "text/plain": [
       "<AxesSubplot:xlabel='radio', ylabel='Density'>"
      ]
     },
     "execution_count": 22,
     "metadata": {},
     "output_type": "execute_result"
    },
    {
     "data": {
      "image/png": "[encoded data removed]",
      "text/plain": [
       "<Figure size 432x288 with 1 Axes>"
      ]
     },
     "metadata": {
      "needs_background": "light"
     },
     "output_type": "display_data"
    }
   ],
   "source": [
    "sns.distplot(df_adv['radio'])"
   ]
  },
  {
   "cell_type": "code",
   "execution_count": 23,
   "id": "be0fb271",
   "metadata": {},
   "outputs": [
    {
     "data": {
      "text/plain": [
       "<AxesSubplot:xlabel='newspaper', ylabel='Density'>"
      ]
     },
     "execution_count": 23,
     "metadata": {},
     "output_type": "execute_result"
    },
    {
     "data": {
      "image/png": "[encoded data removed]",
      "text/plain": [
       "<Figure size 432x288 with 1 Axes>"
      ]
     },
     "metadata": {
      "needs_background": "light"
     },
     "output_type": "display_data"
    }
   ],
   "source": [
    "sns.distplot(df_adv['newspaper'])"
   ]
  },
  {
   "cell_type": "code",
   "execution_count": 24,
   "id": "bace4626",
   "metadata": {},
   "outputs": [
    {
     "data": {
      "image/png": "[encoded data removed]",
      "text/plain": [
       "<Figure size 1080x1080 with 4 Axes>"
      ]
     },
     "metadata": {
      "needs_background": "light"
     },
     "output_type": "display_data"
    }
   ],
   "source": [
    "df_adv.hist(figsize=(15,15),bins=20)\n",
    "plt.show()"
   ]
  },
  {
   "cell_type": "code",
   "execution_count": 25,
   "id": "d75556e6",
   "metadata": {},
   "outputs": [
    {
     "data": {
      "image/png": "[encoded data removed]",
      "text/plain": [
       "<Figure size 432x288 with 1 Axes>"
      ]
     },
     "metadata": {
      "needs_background": "light"
     },
     "output_type": "display_data"
    }
   ],
   "source": [
    "plt.scatter(df_adv['sales'], df_adv['TV'], color = 'green')\n",
    "plt.title('relation of sales & TV')\n",
    "plt.xlabel('sales')\n",
    "plt.ylabel('TV')\n",
    "plt.show()"
   ]
  },
  {
   "cell_type": "code",
   "execution_count": 26,
   "id": "4abd4f73",
   "metadata": {},
   "outputs": [
    {
     "data": {
      "image/png": "[encoded data removed]",
      "text/plain": [
       "<Figure size 432x288 with 1 Axes>"
      ]
     },
     "metadata": {
      "needs_background": "light"
     },
     "output_type": "display_data"
    }
   ],
   "source": [
    "plt.scatter(df_adv['sales'], df_adv['radio'], color = 'red')\n",
    "plt.title('relation of sales & radio')\n",
    "plt.xlabel('sales')\n",
    "plt.ylabel('radio')\n",
    "plt.show()"
   ]
  },
  {
   "cell_type": "code",
   "execution_count": 27,
   "id": "7296a71c",
   "metadata": {},
   "outputs": [
    {
     "data": {
      "image/png": "[encoded data removed]",
      "text/plain": [
       "<Figure size 432x288 with 1 Axes>"
      ]
     },
     "metadata": {
      "needs_background": "light"
     },
     "output_type": "display_data"
    }
   ],
   "source": [
    "plt.scatter(df_adv['sales'], df_adv['newspaper'], color = 'yellow')\n",
    "plt.title('relation of sales & newspaper')\n",
    "plt.xlabel('sales')\n",
    "plt.ylabel('newspaper')\n",
    "plt.show()"
   ]
  },
  {
   "cell_type": "code",
   "execution_count": 28,
   "id": "2e5faeda",
   "metadata": {},
   "outputs": [
    {
     "data": {
      "image/png": "[encoded data removed]",
      "text/plain": [
       "<Figure size 432x288 with 1 Axes>"
      ]
     },
     "metadata": {
      "needs_background": "light"
     },
     "output_type": "display_data"
    }
   ],
   "source": [
    "plt.bar(df_adv['TV'], df_adv['sales'], color = 'pink')\n",
    "plt.title('relation between TV & sales')\n",
    "plt.xlabel('TV')\n",
    "plt.ylabel('sales')\n",
    "plt.show()"
   ]
  },
  {
   "cell_type": "code",
   "execution_count": 29,
   "id": "dca2be2c",
   "metadata": {},
   "outputs": [
    {
     "data": {
      "image/png": "[encoded data removed]",
      "text/plain": [
       "<Figure size 432x288 with 1 Axes>"
      ]
     },
     "metadata": {
      "needs_background": "light"
     },
     "output_type": "display_data"
    }
   ],
   "source": [
    "plt.bar(df_adv['radio'], df_adv['sales'], color = 'brown')\n",
    "plt.title('relation between radio & sales')\n",
    "plt.xlabel('radio')\n",
    "plt.ylabel('sales')\n",
    "plt.show()"
   ]
  },
  {
   "cell_type": "code",
   "execution_count": 30,
   "id": "fe8db3ea",
   "metadata": {},
   "outputs": [
    {
     "data": {
      "image/png": "[encoded data removed]",
      "text/plain": [
       "<Figure size 432x288 with 1 Axes>"
      ]
     },
     "metadata": {
      "needs_background": "light"
     },
     "output_type": "display_data"
    }
   ],
   "source": [
    "plt.bar(df_adv['newspaper'], df_adv['sales'], color = 'purple')\n",
    "plt.title('relation between newspaper & sales')\n",
    "plt.xlabel('newspaper')\n",
    "plt.ylabel('sales')\n",
    "plt.show()"
   ]
  },
  {
   "cell_type": "markdown",
   "id": "70e67894",
   "metadata": {},
   "source": [
    "# VIF"
   ]
  },
  {
   "cell_type": "code",
   "execution_count": 31,
   "id": "4684d843",
   "metadata": {},
   "outputs": [],
   "source": [
    "vif_data= df_adv.drop('sales',axis=1)"
   ]
  },
  {
   "cell_type": "code",
   "execution_count": 32,
   "id": "615238fc",
   "metadata": {},
   "outputs": [],
   "source": [
    "from sklearn.preprocessing import StandardScaler\n",
    "sc=StandardScaler()\n",
    "df_adv_sc= sc.fit_transform(vif_data)"
   ]
  },
  {
   "cell_type": "code",
   "execution_count": 33,
   "id": "b0e8c04c",
   "metadata": {},
   "outputs": [],
   "source": [
    "from statsmodels.stats.outliers_influence import variance_inflation_factor"
   ]
  },
  {
   "cell_type": "code",
   "execution_count": 34,
   "id": "d448e1a0",
   "metadata": {},
   "outputs": [],
   "source": [
    "VIF= pd.DataFrame()\n",
    "VIF['features']= vif_data.columns"
   ]
  },
  {
   "cell_type": "code",
   "execution_count": 35,
   "id": "e1829e54",
   "metadata": {},
   "outputs": [],
   "source": [
    "VIF['VIF']= [variance_inflation_factor(df_adv_sc,i ) for i in range(len(vif_data.columns))]"
   ]
  },
  {
   "cell_type": "code",
   "execution_count": 36,
   "id": "ecd5432c",
   "metadata": {},
   "outputs": [
    {
     "data": {
      "text/html": [
       "<div>\n",
       "<style scoped>\n",
       "    .dataframe tbody tr th:only-of-type {\n",
       "        vertical-align: middle;\n",
       "    }\n",
       "\n",
       "    .dataframe tbody tr th {\n",
       "        vertical-align: top;\n",
       "    }\n",
       "\n",
       "    .dataframe thead th {\n",
       "        text-align: right;\n",
       "    }\n",
       "</style>\n",
       "<table border=\"1\" class=\"dataframe\">\n",
       "  <thead>\n",
       "    <tr style=\"text-align: right;\">\n",
       "      <th></th>\n",
       "      <th>features</th>\n",
       "      <th>VIF</th>\n",
       "    </tr>\n",
       "  </thead>\n",
       "  <tbody>\n",
       "    <tr>\n",
       "      <th>0</th>\n",
       "      <td>TV</td>\n",
       "      <td>1.004611</td>\n",
       "    </tr>\n",
       "    <tr>\n",
       "      <th>1</th>\n",
       "      <td>radio</td>\n",
       "      <td>1.144952</td>\n",
       "    </tr>\n",
       "    <tr>\n",
       "      <th>2</th>\n",
       "      <td>newspaper</td>\n",
       "      <td>1.145187</td>\n",
       "    </tr>\n",
       "  </tbody>\n",
       "</table>\n",
       "</div>"
      ],
      "text/plain": [
       "    features       VIF\n",
       "0         TV  1.004611\n",
       "1      radio  1.144952\n",
       "2  newspaper  1.145187"
      ]
     },
     "execution_count": 36,
     "metadata": {},
     "output_type": "execute_result"
    }
   ],
   "source": [
    "VIF"
   ]
  },
  {
   "cell_type": "markdown",
   "id": "84586b27",
   "metadata": {},
   "source": [
    "After performing VIF, we conclude that : No multicolinearity is found between the independent variables \"TV\",\"radio\",\"newspaper\". The safe range is between -5 to +5."
   ]
  },
  {
   "cell_type": "markdown",
   "id": "cb666558",
   "metadata": {},
   "source": [
    "# Outliers"
   ]
  },
  {
   "cell_type": "code",
   "execution_count": 37,
   "id": "0cde01ce",
   "metadata": {},
   "outputs": [
    {
     "data": {
      "image/png": "[encoded data removed]",
      "text/plain": [
       "<Figure size 432x288 with 1 Axes>"
      ]
     },
     "metadata": {
      "needs_background": "light"
     },
     "output_type": "display_data"
    },
    {
     "data": {
      "image/png": "[encoded data removed]",
      "text/plain": [
       "<Figure size 432x288 with 1 Axes>"
      ]
     },
     "metadata": {
      "needs_background": "light"
     },
     "output_type": "display_data"
    },
    {
     "data": {
      "image/png": "[encoded data removed]",
      "text/plain": [
       "<Figure size 432x288 with 1 Axes>"
      ]
     },
     "metadata": {
      "needs_background": "light"
     },
     "output_type": "display_data"
    },
    {
     "data": {
      "image/png": "[encoded data removed]",
      "text/plain": [
       "<Figure size 432x288 with 1 Axes>"
      ]
     },
     "metadata": {
      "needs_background": "light"
     },
     "output_type": "display_data"
    }
   ],
   "source": [
    "for i in df_adv.columns:\n",
    "    sns.boxplot(df_adv[i])\n",
    "    plt.show()"
   ]
  },
  {
   "cell_type": "markdown",
   "id": "0afa0810",
   "metadata": {},
   "source": [
    "We can see there are some outliers present in \"newspaper\"."
   ]
  },
  {
   "cell_type": "markdown",
   "id": "a95fb7a9",
   "metadata": {},
   "source": [
    "# Removing Outliers"
   ]
  },
  {
   "cell_type": "markdown",
   "id": "402b7f87",
   "metadata": {},
   "source": [
    "We shall remove the outliers using Z-Score."
   ]
  },
  {
   "cell_type": "code",
   "execution_count": 38,
   "id": "76088775",
   "metadata": {},
   "outputs": [
    {
     "name": "stdout",
     "output_type": "stream",
     "text": [
      "(array([ 16, 101], dtype=int64), array([2, 2], dtype=int64))\n"
     ]
    }
   ],
   "source": [
    "from scipy.stats import zscore\n",
    "\n",
    "z=np.abs(zscore(df_adv))\n",
    "threshold=3\n",
    "print(np.where(z>3))"
   ]
  },
  {
   "cell_type": "code",
   "execution_count": 39,
   "id": "cb8c5104",
   "metadata": {},
   "outputs": [
    {
     "data": {
      "text/html": [
       "<div>\n",
       "<style scoped>\n",
       "    .dataframe tbody tr th:only-of-type {\n",
       "        vertical-align: middle;\n",
       "    }\n",
       "\n",
       "    .dataframe tbody tr th {\n",
       "        vertical-align: top;\n",
       "    }\n",
       "\n",
       "    .dataframe thead th {\n",
       "        text-align: right;\n",
       "    }\n",
       "</style>\n",
       "<table border=\"1\" class=\"dataframe\">\n",
       "  <thead>\n",
       "    <tr style=\"text-align: right;\">\n",
       "      <th></th>\n",
       "      <th>TV</th>\n",
       "      <th>radio</th>\n",
       "      <th>newspaper</th>\n",
       "      <th>sales</th>\n",
       "    </tr>\n",
       "  </thead>\n",
       "  <tbody>\n",
       "    <tr>\n",
       "      <th>1</th>\n",
       "      <td>230.1</td>\n",
       "      <td>37.8</td>\n",
       "      <td>69.2</td>\n",
       "      <td>22.1</td>\n",
       "    </tr>\n",
       "    <tr>\n",
       "      <th>2</th>\n",
       "      <td>44.5</td>\n",
       "      <td>39.3</td>\n",
       "      <td>45.1</td>\n",
       "      <td>10.4</td>\n",
       "    </tr>\n",
       "    <tr>\n",
       "      <th>3</th>\n",
       "      <td>17.2</td>\n",
       "      <td>45.9</td>\n",
       "      <td>69.3</td>\n",
       "      <td>9.3</td>\n",
       "    </tr>\n",
       "    <tr>\n",
       "      <th>4</th>\n",
       "      <td>151.5</td>\n",
       "      <td>41.3</td>\n",
       "      <td>58.5</td>\n",
       "      <td>18.5</td>\n",
       "    </tr>\n",
       "    <tr>\n",
       "      <th>5</th>\n",
       "      <td>180.8</td>\n",
       "      <td>10.8</td>\n",
       "      <td>58.4</td>\n",
       "      <td>12.9</td>\n",
       "    </tr>\n",
       "    <tr>\n",
       "      <th>...</th>\n",
       "      <td>...</td>\n",
       "      <td>...</td>\n",
       "      <td>...</td>\n",
       "      <td>...</td>\n",
       "    </tr>\n",
       "    <tr>\n",
       "      <th>196</th>\n",
       "      <td>38.2</td>\n",
       "      <td>3.7</td>\n",
       "      <td>13.8</td>\n",
       "      <td>7.6</td>\n",
       "    </tr>\n",
       "    <tr>\n",
       "      <th>197</th>\n",
       "      <td>94.2</td>\n",
       "      <td>4.9</td>\n",
       "      <td>8.1</td>\n",
       "      <td>9.7</td>\n",
       "    </tr>\n",
       "    <tr>\n",
       "      <th>198</th>\n",
       "      <td>177.0</td>\n",
       "      <td>9.3</td>\n",
       "      <td>6.4</td>\n",
       "      <td>12.8</td>\n",
       "    </tr>\n",
       "    <tr>\n",
       "      <th>199</th>\n",
       "      <td>283.6</td>\n",
       "      <td>42.0</td>\n",
       "      <td>66.2</td>\n",
       "      <td>25.5</td>\n",
       "    </tr>\n",
       "    <tr>\n",
       "      <th>200</th>\n",
       "      <td>232.1</td>\n",
       "      <td>8.6</td>\n",
       "      <td>8.7</td>\n",
       "      <td>13.4</td>\n",
       "    </tr>\n",
       "  </tbody>\n",
       "</table>\n",
       "<p>198 rows × 4 columns</p>\n",
       "</div>"
      ],
      "text/plain": [
       "        TV  radio  newspaper  sales\n",
       "1    230.1   37.8       69.2   22.1\n",
       "2     44.5   39.3       45.1   10.4\n",
       "3     17.2   45.9       69.3    9.3\n",
       "4    151.5   41.3       58.5   18.5\n",
       "5    180.8   10.8       58.4   12.9\n",
       "..     ...    ...        ...    ...\n",
       "196   38.2    3.7       13.8    7.6\n",
       "197   94.2    4.9        8.1    9.7\n",
       "198  177.0    9.3        6.4   12.8\n",
       "199  283.6   42.0       66.2   25.5\n",
       "200  232.1    8.6        8.7   13.4\n",
       "\n",
       "[198 rows x 4 columns]"
      ]
     },
     "execution_count": 39,
     "metadata": {},
     "output_type": "execute_result"
    }
   ],
   "source": [
    "# New data frame\n",
    "df_new_adv=df_adv[(z<3).all(axis=1)]\n",
    "df_new_adv"
   ]
  },
  {
   "cell_type": "code",
   "execution_count": 40,
   "id": "792987ae",
   "metadata": {},
   "outputs": [
    {
     "data": {
      "text/plain": [
       "(198, 4)"
      ]
     },
     "execution_count": 40,
     "metadata": {},
     "output_type": "execute_result"
    }
   ],
   "source": [
    "df_new_adv.shape"
   ]
  },
  {
   "cell_type": "code",
   "execution_count": 41,
   "id": "5c14fa6c",
   "metadata": {},
   "outputs": [
    {
     "data": {
      "text/plain": [
       "(200, 4)"
      ]
     },
     "execution_count": 41,
     "metadata": {},
     "output_type": "execute_result"
    }
   ],
   "source": [
    "df_adv.shape"
   ]
  },
  {
   "cell_type": "code",
   "execution_count": 42,
   "id": "8ab92c86",
   "metadata": {},
   "outputs": [
    {
     "data": {
      "text/plain": [
       "1.0"
      ]
     },
     "execution_count": 42,
     "metadata": {},
     "output_type": "execute_result"
    }
   ],
   "source": [
    "Data_loss=((200-198)/200)*100\n",
    "Data_loss"
   ]
  },
  {
   "cell_type": "markdown",
   "id": "663859b7",
   "metadata": {},
   "source": [
    "Data loss after removing outliers is 1 %."
   ]
  },
  {
   "cell_type": "code",
   "execution_count": 43,
   "id": "6d1621c0",
   "metadata": {},
   "outputs": [
    {
     "data": {
      "text/plain": [
       "<seaborn.axisgrid.PairGrid at 0x146d0700>"
      ]
     },
     "execution_count": 43,
     "metadata": {},
     "output_type": "execute_result"
    },
    {
     "data": {
      "image/png": "[encoded data removed]",
      "text/plain": [
       "<Figure size 720x720 with 20 Axes>"
      ]
     },
     "metadata": {
      "needs_background": "light"
     },
     "output_type": "display_data"
    }
   ],
   "source": [
    "sns.pairplot(df_new_adv)"
   ]
  },
  {
   "cell_type": "markdown",
   "id": "d4f5a3f5",
   "metadata": {},
   "source": [
    "# Skewness"
   ]
  },
  {
   "cell_type": "code",
   "execution_count": 44,
   "id": "2bb0614e",
   "metadata": {},
   "outputs": [
    {
     "data": {
      "text/plain": [
       "TV          -0.082332\n",
       "radio        0.114842\n",
       "newspaper    0.650112\n",
       "sales        0.407130\n",
       "dtype: float64"
      ]
     },
     "execution_count": 44,
     "metadata": {},
     "output_type": "execute_result"
    }
   ],
   "source": [
    "df_new_adv.skew()"
   ]
  },
  {
   "cell_type": "markdown",
   "id": "7ef8e40f",
   "metadata": {},
   "source": [
    "Using Power Transform to remove skewness."
   ]
  },
  {
   "cell_type": "code",
   "execution_count": 45,
   "id": "2bc85fa3",
   "metadata": {},
   "outputs": [],
   "source": [
    "from sklearn.preprocessing import power_transform\n",
    "df_adv_new=power_transform(df_new_adv)"
   ]
  },
  {
   "cell_type": "code",
   "execution_count": 46,
   "id": "08925315",
   "metadata": {},
   "outputs": [
    {
     "data": {
      "text/html": [
       "<div>\n",
       "<style scoped>\n",
       "    .dataframe tbody tr th:only-of-type {\n",
       "        vertical-align: middle;\n",
       "    }\n",
       "\n",
       "    .dataframe tbody tr th {\n",
       "        vertical-align: top;\n",
       "    }\n",
       "\n",
       "    .dataframe thead th {\n",
       "        text-align: right;\n",
       "    }\n",
       "</style>\n",
       "<table border=\"1\" class=\"dataframe\">\n",
       "  <thead>\n",
       "    <tr style=\"text-align: right;\">\n",
       "      <th></th>\n",
       "      <th>TV</th>\n",
       "      <th>radio</th>\n",
       "      <th>newspaper</th>\n",
       "      <th>sales</th>\n",
       "    </tr>\n",
       "  </thead>\n",
       "  <tbody>\n",
       "    <tr>\n",
       "      <th>1</th>\n",
       "      <td>230.1</td>\n",
       "      <td>37.8</td>\n",
       "      <td>69.2</td>\n",
       "      <td>22.1</td>\n",
       "    </tr>\n",
       "    <tr>\n",
       "      <th>2</th>\n",
       "      <td>44.5</td>\n",
       "      <td>39.3</td>\n",
       "      <td>45.1</td>\n",
       "      <td>10.4</td>\n",
       "    </tr>\n",
       "    <tr>\n",
       "      <th>3</th>\n",
       "      <td>17.2</td>\n",
       "      <td>45.9</td>\n",
       "      <td>69.3</td>\n",
       "      <td>9.3</td>\n",
       "    </tr>\n",
       "    <tr>\n",
       "      <th>4</th>\n",
       "      <td>151.5</td>\n",
       "      <td>41.3</td>\n",
       "      <td>58.5</td>\n",
       "      <td>18.5</td>\n",
       "    </tr>\n",
       "    <tr>\n",
       "      <th>5</th>\n",
       "      <td>180.8</td>\n",
       "      <td>10.8</td>\n",
       "      <td>58.4</td>\n",
       "      <td>12.9</td>\n",
       "    </tr>\n",
       "    <tr>\n",
       "      <th>...</th>\n",
       "      <td>...</td>\n",
       "      <td>...</td>\n",
       "      <td>...</td>\n",
       "      <td>...</td>\n",
       "    </tr>\n",
       "    <tr>\n",
       "      <th>196</th>\n",
       "      <td>38.2</td>\n",
       "      <td>3.7</td>\n",
       "      <td>13.8</td>\n",
       "      <td>7.6</td>\n",
       "    </tr>\n",
       "    <tr>\n",
       "      <th>197</th>\n",
       "      <td>94.2</td>\n",
       "      <td>4.9</td>\n",
       "      <td>8.1</td>\n",
       "      <td>9.7</td>\n",
       "    </tr>\n",
       "    <tr>\n",
       "      <th>198</th>\n",
       "      <td>177.0</td>\n",
       "      <td>9.3</td>\n",
       "      <td>6.4</td>\n",
       "      <td>12.8</td>\n",
       "    </tr>\n",
       "    <tr>\n",
       "      <th>199</th>\n",
       "      <td>283.6</td>\n",
       "      <td>42.0</td>\n",
       "      <td>66.2</td>\n",
       "      <td>25.5</td>\n",
       "    </tr>\n",
       "    <tr>\n",
       "      <th>200</th>\n",
       "      <td>232.1</td>\n",
       "      <td>8.6</td>\n",
       "      <td>8.7</td>\n",
       "      <td>13.4</td>\n",
       "    </tr>\n",
       "  </tbody>\n",
       "</table>\n",
       "<p>198 rows × 4 columns</p>\n",
       "</div>"
      ],
      "text/plain": [
       "        TV  radio  newspaper  sales\n",
       "1    230.1   37.8       69.2   22.1\n",
       "2     44.5   39.3       45.1   10.4\n",
       "3     17.2   45.9       69.3    9.3\n",
       "4    151.5   41.3       58.5   18.5\n",
       "5    180.8   10.8       58.4   12.9\n",
       "..     ...    ...        ...    ...\n",
       "196   38.2    3.7       13.8    7.6\n",
       "197   94.2    4.9        8.1    9.7\n",
       "198  177.0    9.3        6.4   12.8\n",
       "199  283.6   42.0       66.2   25.5\n",
       "200  232.1    8.6        8.7   13.4\n",
       "\n",
       "[198 rows x 4 columns]"
      ]
     },
     "execution_count": 46,
     "metadata": {},
     "output_type": "execute_result"
    }
   ],
   "source": [
    "df_new_adv"
   ]
  },
  {
   "cell_type": "code",
   "execution_count": 47,
   "id": "2689595c",
   "metadata": {},
   "outputs": [
    {
     "data": {
      "text/plain": [
       "numpy.ndarray"
      ]
     },
     "execution_count": 47,
     "metadata": {},
     "output_type": "execute_result"
    }
   ],
   "source": [
    "type(df_adv_new)"
   ]
  },
  {
   "cell_type": "code",
   "execution_count": 48,
   "id": "954e2a34",
   "metadata": {},
   "outputs": [
    {
     "data": {
      "text/plain": [
       "Index(['TV', 'radio', 'newspaper', 'sales'], dtype='object')"
      ]
     },
     "execution_count": 48,
     "metadata": {},
     "output_type": "execute_result"
    }
   ],
   "source": [
    "df_adv.columns"
   ]
  },
  {
   "cell_type": "code",
   "execution_count": 49,
   "id": "c9501aef",
   "metadata": {},
   "outputs": [],
   "source": [
    "df_advt=pd.DataFrame(df_adv_new,columns=df_adv.columns)"
   ]
  },
  {
   "cell_type": "code",
   "execution_count": 50,
   "id": "eedb746e",
   "metadata": {},
   "outputs": [
    {
     "data": {
      "text/plain": [
       "TV          -0.320682\n",
       "radio       -0.236668\n",
       "newspaper   -0.101288\n",
       "sales       -0.007573\n",
       "dtype: float64"
      ]
     },
     "execution_count": 50,
     "metadata": {},
     "output_type": "execute_result"
    }
   ],
   "source": [
    "df_advt.skew()"
   ]
  },
  {
   "cell_type": "code",
   "execution_count": 51,
   "id": "bca4f7e2",
   "metadata": {},
   "outputs": [
    {
     "data": {
      "text/plain": [
       "TV           True\n",
       "radio        True\n",
       "newspaper    True\n",
       "sales        True\n",
       "dtype: bool"
      ]
     },
     "execution_count": 51,
     "metadata": {},
     "output_type": "execute_result"
    }
   ],
   "source": [
    "df_advt[np.abs(df_advt)>0.25].all()"
   ]
  },
  {
   "cell_type": "markdown",
   "id": "64aad1a4",
   "metadata": {},
   "source": [
    "# Model Building & Tuning"
   ]
  },
  {
   "cell_type": "code",
   "execution_count": 52,
   "id": "0911715e",
   "metadata": {},
   "outputs": [],
   "source": [
    "x= df_advt.drop('sales',axis=1)\n",
    "y= df_advt['sales']"
   ]
  },
  {
   "cell_type": "code",
   "execution_count": 53,
   "id": "07b4f70d",
   "metadata": {},
   "outputs": [
    {
     "data": {
      "text/plain": [
       "(198, 3)"
      ]
     },
     "execution_count": 53,
     "metadata": {},
     "output_type": "execute_result"
    }
   ],
   "source": [
    "x.shape"
   ]
  },
  {
   "cell_type": "code",
   "execution_count": 54,
   "id": "7164ff6b",
   "metadata": {},
   "outputs": [
    {
     "data": {
      "text/plain": [
       "(198,)"
      ]
     },
     "execution_count": 54,
     "metadata": {},
     "output_type": "execute_result"
    }
   ],
   "source": [
    "y.shape"
   ]
  },
  {
   "cell_type": "code",
   "execution_count": 55,
   "id": "c2d41413",
   "metadata": {},
   "outputs": [],
   "source": [
    "from sklearn.preprocessing import StandardScaler\n",
    "scale=StandardScaler()\n",
    "x=scale.fit_transform(x)"
   ]
  },
  {
   "cell_type": "code",
   "execution_count": 56,
   "id": "d41c9702",
   "metadata": {},
   "outputs": [],
   "source": [
    "from sklearn.model_selection import train_test_split\n",
    "x_train,x_test,y_train,y_test=train_test_split(x,y,test_size=0.20,random_state=44)"
   ]
  },
  {
   "cell_type": "code",
   "execution_count": 57,
   "id": "568a6a37",
   "metadata": {},
   "outputs": [
    {
     "data": {
      "text/plain": [
       "(158, 3)"
      ]
     },
     "execution_count": 57,
     "metadata": {},
     "output_type": "execute_result"
    }
   ],
   "source": [
    "x_train.shape"
   ]
  },
  {
   "cell_type": "code",
   "execution_count": 58,
   "id": "37ab3025",
   "metadata": {},
   "outputs": [
    {
     "data": {
      "text/plain": [
       "(40, 3)"
      ]
     },
     "execution_count": 58,
     "metadata": {},
     "output_type": "execute_result"
    }
   ],
   "source": [
    "x_test.shape"
   ]
  },
  {
   "cell_type": "code",
   "execution_count": 59,
   "id": "efd780cf",
   "metadata": {},
   "outputs": [
    {
     "data": {
      "text/plain": [
       "(158,)"
      ]
     },
     "execution_count": 59,
     "metadata": {},
     "output_type": "execute_result"
    }
   ],
   "source": [
    "y_train.shape"
   ]
  },
  {
   "cell_type": "code",
   "execution_count": 60,
   "id": "854d0e60",
   "metadata": {},
   "outputs": [
    {
     "data": {
      "text/plain": [
       "(40,)"
      ]
     },
     "execution_count": 60,
     "metadata": {},
     "output_type": "execute_result"
    }
   ],
   "source": [
    "y_test.shape"
   ]
  },
  {
   "cell_type": "markdown",
   "id": "5187a5b9",
   "metadata": {},
   "source": [
    "# Linear Regression"
   ]
  },
  {
   "cell_type": "code",
   "execution_count": 61,
   "id": "3cd7c0a9",
   "metadata": {},
   "outputs": [
    {
     "data": {
      "text/plain": [
       "LinearRegression()"
      ]
     },
     "execution_count": 61,
     "metadata": {},
     "output_type": "execute_result"
    }
   ],
   "source": [
    "from sklearn.linear_model import LinearRegression\n",
    "lr=LinearRegression()\n",
    "lr.fit(x_train,y_train)"
   ]
  },
  {
   "cell_type": "code",
   "execution_count": 62,
   "id": "4fc2edd6",
   "metadata": {},
   "outputs": [
    {
     "data": {
      "text/plain": [
       "array([0.79772869, 0.50808788, 0.01273229])"
      ]
     },
     "execution_count": 62,
     "metadata": {},
     "output_type": "execute_result"
    }
   ],
   "source": [
    "lr.coef_"
   ]
  },
  {
   "cell_type": "code",
   "execution_count": 63,
   "id": "06781a1d",
   "metadata": {},
   "outputs": [
    {
     "data": {
      "text/plain": [
       "0.0011865516788926167"
      ]
     },
     "execution_count": 63,
     "metadata": {},
     "output_type": "execute_result"
    }
   ],
   "source": [
    "lr.intercept_"
   ]
  },
  {
   "cell_type": "code",
   "execution_count": 64,
   "id": "ba0788ac",
   "metadata": {},
   "outputs": [
    {
     "data": {
      "text/plain": [
       "0.9094136034860139"
      ]
     },
     "execution_count": 64,
     "metadata": {},
     "output_type": "execute_result"
    }
   ],
   "source": [
    "lr.score(x_train,y_train)"
   ]
  },
  {
   "cell_type": "code",
   "execution_count": 65,
   "id": "23852371",
   "metadata": {},
   "outputs": [
    {
     "name": "stdout",
     "output_type": "stream",
     "text": [
      "Predicted value:  [-1.02568184 -1.05099501  0.86038619 -0.19450124 -0.70487785 -0.81417151\n",
      " -0.8655806   0.9769531  -0.24915636 -0.68032533 -0.27441487  0.71449991\n",
      " -0.77100416 -1.42253775  0.57828066  1.12868136 -0.62369751  0.22050467\n",
      " -0.22722753 -0.92004808 -0.77635658  1.42340786 -1.53330208 -0.30696675\n",
      " -1.30990238 -1.09021938 -0.62552918  0.14813723  0.25743894 -0.41632812\n",
      "  0.30542179 -0.81854367 -1.03719764  0.96204301 -1.01857828 -0.81797368\n",
      "  1.36106177  0.27000085 -1.25096326  0.5757946 ]\n",
      "Actual value:  48    -0.799286\n",
      "23    -0.799286\n",
      "58     0.875514\n",
      "133   -0.390911\n",
      "89    -0.474362\n",
      "136   -0.821680\n",
      "45    -0.601966\n",
      "32     0.704062\n",
      "95    -0.370242\n",
      "134   -0.844172\n",
      "9     -0.601966\n",
      "3      0.892431\n",
      "138   -0.537789\n",
      "180   -1.027835\n",
      "111    0.438521\n",
      "107    1.108778\n",
      "81    -0.453381\n",
      "118    0.365876\n",
      "114   -0.268015\n",
      "156   -1.367150\n",
      "12    -0.912255\n",
      "46     1.646560\n",
      "115   -0.866765\n",
      "87    -0.127879\n",
      "170   -1.292322\n",
      "127   -0.799286\n",
      "149   -0.390911\n",
      "112    0.199362\n",
      "108   -0.029786\n",
      "79    -0.349649\n",
      "176   -0.349649\n",
      "28    -0.623529\n",
      "43    -1.074841\n",
      "182    0.738693\n",
      "65    -0.844172\n",
      "184   -0.666920\n",
      "135    1.270943\n",
      "129   -0.167576\n",
      "77    -1.902310\n",
      "47     0.236744\n",
      "Name: sales, dtype: float64\n"
     ]
    }
   ],
   "source": [
    "# Predicting the value\n",
    "pred_lr=lr.predict(x_test)\n",
    "print(\"Predicted value: \",pred_lr)\n",
    "print(\"Actual value: \",y_test)"
   ]
  },
  {
   "cell_type": "code",
   "execution_count": 66,
   "id": "7142d90d",
   "metadata": {},
   "outputs": [
    {
     "name": "stdout",
     "output_type": "stream",
     "text": [
      "Error:\n",
      "Mean absolute error:  0.2238328510872129\n",
      "Mean squared error:  0.07743767419641473\n",
      "Root Mean squared error:  0.27827625517894033\n"
     ]
    }
   ],
   "source": [
    "from sklearn.metrics import mean_squared_error,mean_absolute_error\n",
    "\n",
    "print('Error:')\n",
    "\n",
    "print('Mean absolute error: ',mean_absolute_error(y_test,pred_lr))\n",
    "print('Mean squared error: ',mean_squared_error(y_test,pred_lr))\n",
    "\n",
    "print('Root Mean squared error: ',np.sqrt(mean_squared_error(y_test,pred_lr)))"
   ]
  },
  {
   "cell_type": "code",
   "execution_count": 67,
   "id": "7139439b",
   "metadata": {},
   "outputs": [
    {
     "name": "stdout",
     "output_type": "stream",
     "text": [
      "0.8679366191400842\n"
     ]
    }
   ],
   "source": [
    "from sklearn.metrics import r2_score\n",
    "print(r2_score(y_test,pred_lr))"
   ]
  },
  {
   "cell_type": "code",
   "execution_count": 68,
   "id": "6ced4ee9",
   "metadata": {},
   "outputs": [
    {
     "data": {
      "text/plain": [
       "0.8985582344321446"
      ]
     },
     "execution_count": 68,
     "metadata": {},
     "output_type": "execute_result"
    }
   ],
   "source": [
    "from sklearn.model_selection import cross_val_score\n",
    "cv_score=cross_val_score(lr,x,y,cv=5)\n",
    "cv_mean=cv_score.mean()\n",
    "cv_mean"
   ]
  },
  {
   "cell_type": "code",
   "execution_count": null,
   "id": "0f85616c",
   "metadata": {},
   "outputs": [],
   "source": []
  },
  {
   "cell_type": "markdown",
   "id": "e156d2ac",
   "metadata": {},
   "source": [
    "# Lasso Regression"
   ]
  },
  {
   "cell_type": "code",
   "execution_count": 69,
   "id": "b78424a0",
   "metadata": {},
   "outputs": [
    {
     "name": "stdout",
     "output_type": "stream",
     "text": [
      "{'alpha': 0.01, 'random_state': 9, 'selection': 'random'}\n"
     ]
    }
   ],
   "source": [
    "from sklearn.linear_model import Lasso\n",
    "from sklearn.model_selection import GridSearchCV\n",
    "\n",
    "ls= Lasso()\n",
    "parameters1 = {'alpha':[.0001, .001, .01, .1, 1, 10],'random_state':list(range(0,10)),'selection':['cyclic','random']}\n",
    "gd1= GridSearchCV(ls,parameters1)\n",
    "gd1.fit(x_train,y_train)\n",
    "\n",
    "print(gd1.best_params_)"
   ]
  },
  {
   "cell_type": "code",
   "execution_count": 70,
   "id": "70142269",
   "metadata": {},
   "outputs": [
    {
     "data": {
      "text/plain": [
       "Lasso(alpha=0.01, random_state=9, selection='random')"
      ]
     },
     "execution_count": 70,
     "metadata": {},
     "output_type": "execute_result"
    }
   ],
   "source": [
    "ls1 = Lasso(alpha=0.01,random_state=9,selection='random')\n",
    "ls1.fit(x_train,y_train)"
   ]
  },
  {
   "cell_type": "code",
   "execution_count": 71,
   "id": "e732873a",
   "metadata": {},
   "outputs": [
    {
     "data": {
      "text/plain": [
       "0.9092045637715507"
      ]
     },
     "execution_count": 71,
     "metadata": {},
     "output_type": "execute_result"
    }
   ],
   "source": [
    "ls1.score(x_train,y_train)"
   ]
  },
  {
   "cell_type": "code",
   "execution_count": 72,
   "id": "fee2b280",
   "metadata": {},
   "outputs": [
    {
     "data": {
      "text/plain": [
       "array([0.78855215, 0.50187528, 0.00553594])"
      ]
     },
     "execution_count": 72,
     "metadata": {},
     "output_type": "execute_result"
    }
   ],
   "source": [
    "ls1.coef_"
   ]
  },
  {
   "cell_type": "code",
   "execution_count": 73,
   "id": "224130c9",
   "metadata": {},
   "outputs": [
    {
     "name": "stdout",
     "output_type": "stream",
     "text": [
      "Predicted value:  [-1.01637851 -1.03504295  0.85847902 -0.18410545 -0.68811459 -0.80218211\n",
      " -0.85774418  0.982645   -0.23524903 -0.66469751 -0.26822374  0.69767142\n",
      " -0.75587288 -1.40629847  0.57899119  1.12638536 -0.61796287  0.21255839\n",
      " -0.22362189 -0.91482504 -0.77750247  1.41016819 -1.50976832 -0.31481843\n",
      " -1.29060429 -1.08191854 -0.6238876   0.14384874  0.24709149 -0.409636\n",
      "  0.30400636 -0.81286298 -1.02990321  0.95030311 -0.9929347  -0.80749213\n",
      "  1.33677496  0.26300657 -1.22865233  0.56310583]\n",
      "Actual value:  48    -0.799286\n",
      "23    -0.799286\n",
      "58     0.875514\n",
      "133   -0.390911\n",
      "89    -0.474362\n",
      "136   -0.821680\n",
      "45    -0.601966\n",
      "32     0.704062\n",
      "95    -0.370242\n",
      "134   -0.844172\n",
      "9     -0.601966\n",
      "3      0.892431\n",
      "138   -0.537789\n",
      "180   -1.027835\n",
      "111    0.438521\n",
      "107    1.108778\n",
      "81    -0.453381\n",
      "118    0.365876\n",
      "114   -0.268015\n",
      "156   -1.367150\n",
      "12    -0.912255\n",
      "46     1.646560\n",
      "115   -0.866765\n",
      "87    -0.127879\n",
      "170   -1.292322\n",
      "127   -0.799286\n",
      "149   -0.390911\n",
      "112    0.199362\n",
      "108   -0.029786\n",
      "79    -0.349649\n",
      "176   -0.349649\n",
      "28    -0.623529\n",
      "43    -1.074841\n",
      "182    0.738693\n",
      "65    -0.844172\n",
      "184   -0.666920\n",
      "135    1.270943\n",
      "129   -0.167576\n",
      "77    -1.902310\n",
      "47     0.236744\n",
      "Name: sales, dtype: float64\n"
     ]
    }
   ],
   "source": [
    "pred_ls=ls1.predict(x_test)\n",
    "print(\"Predicted value: \",pred_ls)\n",
    "print(\"Actual value: \",y_test)"
   ]
  },
  {
   "cell_type": "code",
   "execution_count": 74,
   "id": "e34e9eed",
   "metadata": {},
   "outputs": [
    {
     "name": "stdout",
     "output_type": "stream",
     "text": [
      "Error:\n",
      "Mean absolute error:  0.22131527917248855\n",
      "Mean squared error:  0.07611063767614934\n",
      "Root Mean squared error:  0.275881564581886\n"
     ]
    }
   ],
   "source": [
    "from sklearn.metrics import mean_squared_error,mean_absolute_error\n",
    "\n",
    "print('Error:')\n",
    "\n",
    "print('Mean absolute error: ',mean_absolute_error(y_test,pred_ls))\n",
    "print('Mean squared error: ',mean_squared_error(y_test,pred_ls))\n",
    "\n",
    "print('Root Mean squared error: ',np.sqrt(mean_squared_error(y_test,pred_ls)))"
   ]
  },
  {
   "cell_type": "code",
   "execution_count": 75,
   "id": "3a657c17",
   "metadata": {},
   "outputs": [
    {
     "name": "stdout",
     "output_type": "stream",
     "text": [
      "0.8701997672938667\n"
     ]
    }
   ],
   "source": [
    "from sklearn.metrics import r2_score\n",
    "print(r2_score(y_test,pred_ls))"
   ]
  },
  {
   "cell_type": "code",
   "execution_count": 76,
   "id": "7e7980a9",
   "metadata": {},
   "outputs": [
    {
     "data": {
      "text/plain": [
       "0.8991525136793875"
      ]
     },
     "execution_count": 76,
     "metadata": {},
     "output_type": "execute_result"
    }
   ],
   "source": [
    "from sklearn.model_selection import cross_val_score\n",
    "cv_score=cross_val_score(ls1,x,y,cv=5)\n",
    "cv_mean=cv_score.mean()\n",
    "cv_mean"
   ]
  },
  {
   "cell_type": "code",
   "execution_count": null,
   "id": "1ba0bc60",
   "metadata": {},
   "outputs": [],
   "source": []
  },
  {
   "cell_type": "markdown",
   "id": "42fa620b",
   "metadata": {},
   "source": [
    "# Ridge Regression"
   ]
  },
  {
   "cell_type": "code",
   "execution_count": 77,
   "id": "7d78cf0d",
   "metadata": {},
   "outputs": [
    {
     "name": "stdout",
     "output_type": "stream",
     "text": [
      "{'alpha': 1, 'random_state': 0, 'solver': 'auto'}\n"
     ]
    }
   ],
   "source": [
    "from sklearn.linear_model import Ridge\n",
    "from sklearn.model_selection import GridSearchCV\n",
    "\n",
    "rd = Ridge()\n",
    "parameters2 = {'alpha':[.0001, .001, .01, .1, 1, 10],'random_state':list(range(0,10)),'solver':['auto','svg']}\n",
    "gd2= GridSearchCV(rd,parameters2)\n",
    "gd2.fit(x_train,y_train)\n",
    "\n",
    "print(gd2.best_params_)"
   ]
  },
  {
   "cell_type": "code",
   "execution_count": 78,
   "id": "d0ef0e27",
   "metadata": {},
   "outputs": [
    {
     "data": {
      "text/plain": [
       "Ridge(alpha=1, random_state=0)"
      ]
     },
     "execution_count": 78,
     "metadata": {},
     "output_type": "execute_result"
    }
   ],
   "source": [
    "rd1 = Ridge(alpha=1,random_state=0,solver='auto')\n",
    "rd1.fit(x_train,y_train)"
   ]
  },
  {
   "cell_type": "code",
   "execution_count": 79,
   "id": "c7b4efe0",
   "metadata": {},
   "outputs": [
    {
     "data": {
      "text/plain": [
       "0.9093821891191114"
      ]
     },
     "execution_count": 79,
     "metadata": {},
     "output_type": "execute_result"
    }
   ],
   "source": [
    "rd1.score(x_train,y_train)"
   ]
  },
  {
   "cell_type": "code",
   "execution_count": 80,
   "id": "e6d73f31",
   "metadata": {},
   "outputs": [
    {
     "data": {
      "text/plain": [
       "array([0.79284079, 0.50511964, 0.01392446])"
      ]
     },
     "execution_count": 80,
     "metadata": {},
     "output_type": "execute_result"
    }
   ],
   "source": [
    "rd1.coef_"
   ]
  },
  {
   "cell_type": "code",
   "execution_count": 81,
   "id": "cbe5f62a",
   "metadata": {},
   "outputs": [
    {
     "name": "stdout",
     "output_type": "stream",
     "text": [
      "Predicted value:  [-1.01841761 -1.0447155   0.85429766 -0.19408518 -0.70163746 -0.80904923\n",
      " -0.8593766   0.96849397 -0.24915087 -0.6768993  -0.27282096  0.71234544\n",
      " -0.76684707 -1.41331161  0.57399117  1.12045106 -0.61903771  0.22073882\n",
      " -0.22546809 -0.91279027 -0.769137    1.41479465 -1.52453131 -0.30243057\n",
      " -1.30206059 -1.08224344 -0.6201878   0.14838864  0.25769877 -0.41350992\n",
      "  0.30362844 -0.81229962 -1.02940162  0.95685351 -1.01424616 -0.81270104\n",
      "  1.35489723  0.26950933 -1.24410068  0.57391382]\n",
      "Actual value:  48    -0.799286\n",
      "23    -0.799286\n",
      "58     0.875514\n",
      "133   -0.390911\n",
      "89    -0.474362\n",
      "136   -0.821680\n",
      "45    -0.601966\n",
      "32     0.704062\n",
      "95    -0.370242\n",
      "134   -0.844172\n",
      "9     -0.601966\n",
      "3      0.892431\n",
      "138   -0.537789\n",
      "180   -1.027835\n",
      "111    0.438521\n",
      "107    1.108778\n",
      "81    -0.453381\n",
      "118    0.365876\n",
      "114   -0.268015\n",
      "156   -1.367150\n",
      "12    -0.912255\n",
      "46     1.646560\n",
      "115   -0.866765\n",
      "87    -0.127879\n",
      "170   -1.292322\n",
      "127   -0.799286\n",
      "149   -0.390911\n",
      "112    0.199362\n",
      "108   -0.029786\n",
      "79    -0.349649\n",
      "176   -0.349649\n",
      "28    -0.623529\n",
      "43    -1.074841\n",
      "182    0.738693\n",
      "65    -0.844172\n",
      "184   -0.666920\n",
      "135    1.270943\n",
      "129   -0.167576\n",
      "77    -1.902310\n",
      "47     0.236744\n",
      "Name: sales, dtype: float64\n"
     ]
    }
   ],
   "source": [
    "pred_rd=rd1.predict(x_test)\n",
    "print(\"Predicted value: \",pred_rd)\n",
    "print(\"Actual value: \",y_test)"
   ]
  },
  {
   "cell_type": "code",
   "execution_count": 82,
   "id": "35829a62",
   "metadata": {},
   "outputs": [
    {
     "name": "stdout",
     "output_type": "stream",
     "text": [
      "Error:\n",
      "Mean absolute error:  0.22201852253040064\n",
      "Mean squared error:  0.0765448263627427\n",
      "Root Mean squared error:  0.2766673568795977\n"
     ]
    }
   ],
   "source": [
    "from sklearn.metrics import mean_squared_error,mean_absolute_error\n",
    "\n",
    "print('Error:')\n",
    "\n",
    "print('Mean absolute error: ',mean_absolute_error(y_test,pred_rd))\n",
    "print('Mean squared error: ',mean_squared_error(y_test,pred_rd))\n",
    "\n",
    "print('Root Mean squared error: ',np.sqrt(mean_squared_error(y_test,pred_rd)))"
   ]
  },
  {
   "cell_type": "code",
   "execution_count": 83,
   "id": "1e13bb0c",
   "metadata": {},
   "outputs": [
    {
     "name": "stdout",
     "output_type": "stream",
     "text": [
      "0.8694592953404193\n"
     ]
    }
   ],
   "source": [
    "from sklearn.metrics import r2_score\n",
    "print(r2_score(y_test,pred_rd))"
   ]
  },
  {
   "cell_type": "code",
   "execution_count": 84,
   "id": "55d08a3e",
   "metadata": {},
   "outputs": [
    {
     "data": {
      "text/plain": [
       "0.8986845900483044"
      ]
     },
     "execution_count": 84,
     "metadata": {},
     "output_type": "execute_result"
    }
   ],
   "source": [
    "from sklearn.model_selection import cross_val_score\n",
    "cv_score=cross_val_score(rd1,x,y,cv=5)\n",
    "cv_mean=cv_score.mean()\n",
    "cv_mean"
   ]
  },
  {
   "cell_type": "code",
   "execution_count": null,
   "id": "8d126708",
   "metadata": {},
   "outputs": [],
   "source": []
  },
  {
   "cell_type": "markdown",
   "id": "bdd148dd",
   "metadata": {},
   "source": [
    "# Random Forest Regressor"
   ]
  },
  {
   "cell_type": "code",
   "execution_count": 85,
   "id": "cf892ab9",
   "metadata": {},
   "outputs": [
    {
     "name": "stdout",
     "output_type": "stream",
     "text": [
      "{'criterion': 'mae', 'max_features': 'auto', 'min_samples_leaf': 1, 'min_samples_split': 3}\n"
     ]
    }
   ],
   "source": [
    "from sklearn.model_selection import GridSearchCV\n",
    "from sklearn.ensemble import RandomForestRegressor\n",
    "\n",
    "parameters = {'criterion':['mse','mae'], 'max_features':[\"auto\", \"sqrt\",\"log2\"],'min_samples_split': [0,1,2,3],'min_samples_leaf':[0,1,2]}\n",
    "rfr =RandomForestRegressor()\n",
    "gd3= GridSearchCV(rfr,parameters)\n",
    "gd3.fit(x_train,y_train)\n",
    "\n",
    "print(gd3.best_params_)"
   ]
  },
  {
   "cell_type": "code",
   "execution_count": 86,
   "id": "16ff2472",
   "metadata": {},
   "outputs": [
    {
     "data": {
      "text/plain": [
       "RandomForestRegressor(criterion='mae', min_samples_split=3)"
      ]
     },
     "execution_count": 86,
     "metadata": {},
     "output_type": "execute_result"
    }
   ],
   "source": [
    "rf = RandomForestRegressor(criterion=\"mae\",max_features=\"auto\",min_samples_leaf=1,min_samples_split=3)\n",
    "rf.fit(x_train, y_train)"
   ]
  },
  {
   "cell_type": "code",
   "execution_count": 87,
   "id": "34568641",
   "metadata": {},
   "outputs": [
    {
     "data": {
      "text/plain": [
       "0.9955331507245506"
      ]
     },
     "execution_count": 87,
     "metadata": {},
     "output_type": "execute_result"
    }
   ],
   "source": [
    "rf.score(x_train, y_train)"
   ]
  },
  {
   "cell_type": "code",
   "execution_count": 88,
   "id": "291db570",
   "metadata": {},
   "outputs": [
    {
     "name": "stdout",
     "output_type": "stream",
     "text": [
      "Predicted value:  [-0.77897411 -0.77512305  0.82802102 -0.35097084 -0.50479175 -0.69551858\n",
      " -0.72307709  0.3896611  -0.30079332 -1.28538104 -0.39513037  0.8035141\n",
      " -0.43265283 -1.07767757  0.39589084  1.0487893  -0.43253446  0.30239853\n",
      " -0.11730311 -1.58972557 -1.14195632  1.61298398 -0.98525054 -0.22558035\n",
      " -1.37280391 -0.80403374 -0.43917541  0.04738636 -0.17387096 -0.35647007\n",
      " -0.32204295 -0.47734303 -1.34064934  0.43002268 -1.36312289 -0.64682706\n",
      "  1.20612922 -0.32890686 -2.2499591   0.38648529]\n",
      "Actual value:  48    -0.799286\n",
      "23    -0.799286\n",
      "58     0.875514\n",
      "133   -0.390911\n",
      "89    -0.474362\n",
      "136   -0.821680\n",
      "45    -0.601966\n",
      "32     0.704062\n",
      "95    -0.370242\n",
      "134   -0.844172\n",
      "9     -0.601966\n",
      "3      0.892431\n",
      "138   -0.537789\n",
      "180   -1.027835\n",
      "111    0.438521\n",
      "107    1.108778\n",
      "81    -0.453381\n",
      "118    0.365876\n",
      "114   -0.268015\n",
      "156   -1.367150\n",
      "12    -0.912255\n",
      "46     1.646560\n",
      "115   -0.866765\n",
      "87    -0.127879\n",
      "170   -1.292322\n",
      "127   -0.799286\n",
      "149   -0.390911\n",
      "112    0.199362\n",
      "108   -0.029786\n",
      "79    -0.349649\n",
      "176   -0.349649\n",
      "28    -0.623529\n",
      "43    -1.074841\n",
      "182    0.738693\n",
      "65    -0.844172\n",
      "184   -0.666920\n",
      "135    1.270943\n",
      "129   -0.167576\n",
      "77    -1.902310\n",
      "47     0.236744\n",
      "Name: sales, dtype: float64\n"
     ]
    }
   ],
   "source": [
    "pred_rfr = rf.predict(x_test)\n",
    "print(\"Predicted value: \",pred_rfr)\n",
    "print(\"Actual value: \",y_test)"
   ]
  },
  {
   "cell_type": "code",
   "execution_count": 89,
   "id": "4e7cd797",
   "metadata": {},
   "outputs": [
    {
     "name": "stdout",
     "output_type": "stream",
     "text": [
      "Error:\n",
      "Mean absolute error:  0.12930802919461543\n",
      "Mean squared error:  0.031063718972136223\n",
      "Root Mean squared error:  0.1762490254501744\n"
     ]
    }
   ],
   "source": [
    "from sklearn.metrics import mean_squared_error,mean_absolute_error\n",
    "\n",
    "print('Error:')\n",
    "\n",
    "print('Mean absolute error: ',mean_absolute_error(y_test,pred_rfr))\n",
    "print('Mean squared error: ',mean_squared_error(y_test,pred_rfr))\n",
    "\n",
    "print('Root Mean squared error: ',np.sqrt(mean_squared_error(y_test,pred_rfr)))"
   ]
  },
  {
   "cell_type": "code",
   "execution_count": 90,
   "id": "fba36a50",
   "metadata": {},
   "outputs": [
    {
     "name": "stdout",
     "output_type": "stream",
     "text": [
      "0.9470234638099119\n"
     ]
    }
   ],
   "source": [
    "from sklearn.metrics import r2_score\n",
    "print(r2_score(y_test,pred_rfr))"
   ]
  },
  {
   "cell_type": "code",
   "execution_count": 91,
   "id": "ddfe72fb",
   "metadata": {},
   "outputs": [
    {
     "data": {
      "text/plain": [
       "0.9699344790469169"
      ]
     },
     "execution_count": 91,
     "metadata": {},
     "output_type": "execute_result"
    }
   ],
   "source": [
    "from sklearn.model_selection import cross_val_score\n",
    "cv_score=cross_val_score(rf,x,y,cv=5)\n",
    "cv_mean=cv_score.mean()\n",
    "cv_mean"
   ]
  },
  {
   "cell_type": "code",
   "execution_count": null,
   "id": "40a2df5d",
   "metadata": {},
   "outputs": [],
   "source": []
  },
  {
   "cell_type": "markdown",
   "id": "97b57903",
   "metadata": {},
   "source": [
    "# Decision Tree Regressor"
   ]
  },
  {
   "cell_type": "code",
   "execution_count": 92,
   "id": "6f2b3abb",
   "metadata": {},
   "outputs": [
    {
     "name": "stdout",
     "output_type": "stream",
     "text": [
      "{'criterion': 'absolute_error', 'max_features': 'auto', 'min_samples_split': 3, 'random_state': 2}\n"
     ]
    }
   ],
   "source": [
    "from sklearn.tree import DecisionTreeRegressor\n",
    "\n",
    "parameters3 = {'criterion':['squared_error','absolute_error'], 'max_features':[\"auto\", \"sqrt\",\"log2\"],'min_samples_split': [0,1,2,3],'random_state':[0,1,2]}\n",
    "dtr = DecisionTreeRegressor()\n",
    "gd4= GridSearchCV(dtr,parameters3)\n",
    "gd4.fit(x_train,y_train)\n",
    "\n",
    "print(gd4.best_params_)"
   ]
  },
  {
   "cell_type": "code",
   "execution_count": 93,
   "id": "3b46a9f5",
   "metadata": {},
   "outputs": [
    {
     "data": {
      "text/plain": [
       "0.9856991005921063"
      ]
     },
     "execution_count": 93,
     "metadata": {},
     "output_type": "execute_result"
    }
   ],
   "source": [
    "dt = DecisionTreeRegressor(criterion=\"absolute_error\",max_features=\"auto\",min_samples_leaf=3,random_state=2)\n",
    "dt.fit(x_train,y_train)\n",
    "dt.score(x_train,y_train)"
   ]
  },
  {
   "cell_type": "code",
   "execution_count": 94,
   "id": "f0cacda2",
   "metadata": {},
   "outputs": [
    {
     "name": "stdout",
     "output_type": "stream",
     "text": [
      "Predicted value:  [-0.44293048 -0.44293048  0.69537095  0.21808045 -0.62352924 -0.71066991\n",
      " -0.81048273  0.27390589 -0.10826191 -1.01616766 -0.40128402  0.80743899\n",
      " -0.44293048 -1.1343877   0.27390589  0.95969583 -0.44293048  0.63424636\n",
      " -0.06882982 -1.54681402 -1.01616766  1.53108825 -1.0045007  -0.18752522\n",
      " -1.53375172 -0.44293048 -0.62352924  0.21808045 -0.23777902 -0.18752522\n",
      " -0.40128402 -0.44293048 -1.39237187  0.43852137 -1.39237187 -0.62352924\n",
      "  1.21447755 -0.40128402 -2.55909057  0.33836422]\n",
      "Actual value:  48    -0.799286\n",
      "23    -0.799286\n",
      "58     0.875514\n",
      "133   -0.390911\n",
      "89    -0.474362\n",
      "136   -0.821680\n",
      "45    -0.601966\n",
      "32     0.704062\n",
      "95    -0.370242\n",
      "134   -0.844172\n",
      "9     -0.601966\n",
      "3      0.892431\n",
      "138   -0.537789\n",
      "180   -1.027835\n",
      "111    0.438521\n",
      "107    1.108778\n",
      "81    -0.453381\n",
      "118    0.365876\n",
      "114   -0.268015\n",
      "156   -1.367150\n",
      "12    -0.912255\n",
      "46     1.646560\n",
      "115   -0.866765\n",
      "87    -0.127879\n",
      "170   -1.292322\n",
      "127   -0.799286\n",
      "149   -0.390911\n",
      "112    0.199362\n",
      "108   -0.029786\n",
      "79    -0.349649\n",
      "176   -0.349649\n",
      "28    -0.623529\n",
      "43    -1.074841\n",
      "182    0.738693\n",
      "65    -0.844172\n",
      "184   -0.666920\n",
      "135    1.270943\n",
      "129   -0.167576\n",
      "77    -1.902310\n",
      "47     0.236744\n",
      "Name: sales, dtype: float64\n"
     ]
    }
   ],
   "source": [
    "pred_dtr=dt.predict(x_test)\n",
    "print(\"Predicted value: \",pred_dtr)\n",
    "print(\"Actual value: \",y_test)"
   ]
  },
  {
   "cell_type": "code",
   "execution_count": 95,
   "id": "fe2e35a1",
   "metadata": {},
   "outputs": [
    {
     "name": "stdout",
     "output_type": "stream",
     "text": [
      "Error:\n",
      "Mean absolute error:  0.21048077839952226\n",
      "Mean squared error:  0.06659797795810193\n",
      "Root Mean squared error:  0.25806584035494107\n"
     ]
    }
   ],
   "source": [
    "from sklearn.metrics import mean_squared_error,mean_absolute_error\n",
    "\n",
    "print('Error:')\n",
    "\n",
    "print('Mean absolute error: ',mean_absolute_error(y_test,pred_dtr))\n",
    "print('Mean squared error: ',mean_squared_error(y_test,pred_dtr))\n",
    "\n",
    "print('Root Mean squared error: ',np.sqrt(mean_squared_error(y_test,pred_dtr)))"
   ]
  },
  {
   "cell_type": "code",
   "execution_count": 96,
   "id": "55d9ae4a",
   "metadata": {},
   "outputs": [
    {
     "name": "stdout",
     "output_type": "stream",
     "text": [
      "0.8864228010609816\n"
     ]
    }
   ],
   "source": [
    "from sklearn.metrics import r2_score\n",
    "print(r2_score(y_test,pred_dtr))"
   ]
  },
  {
   "cell_type": "code",
   "execution_count": 97,
   "id": "2cda4a32",
   "metadata": {},
   "outputs": [
    {
     "data": {
      "text/plain": [
       "0.9324961386423102"
      ]
     },
     "execution_count": 97,
     "metadata": {},
     "output_type": "execute_result"
    }
   ],
   "source": [
    "from sklearn.model_selection import cross_val_score\n",
    "cv_score=cross_val_score(dt,x,y,cv=5)\n",
    "cv_mean=cv_score.mean()\n",
    "cv_mean"
   ]
  },
  {
   "cell_type": "code",
   "execution_count": null,
   "id": "e8904834",
   "metadata": {},
   "outputs": [],
   "source": []
  },
  {
   "cell_type": "markdown",
   "id": "e40a370a",
   "metadata": {},
   "source": [
    "# KNeighbors Regressor"
   ]
  },
  {
   "cell_type": "code",
   "execution_count": 98,
   "id": "9cb16984",
   "metadata": {},
   "outputs": [
    {
     "name": "stdout",
     "output_type": "stream",
     "text": [
      "{'algorithm': 'auto', 'n_neighbors': 5, 'p': 1, 'weights': 'distance'}\n"
     ]
    }
   ],
   "source": [
    "from sklearn import neighbors\n",
    "\n",
    "parameters4 = {'n_neighbors':[2,3,4,5,6,7,8,9],'weights':['uniform','distance'],'algorithm':['auto','kd_tree','ball_tree'],'p':[0,1,2]}\n",
    "knn=neighbors.KNeighborsRegressor()\n",
    "gd5=GridSearchCV(knn,parameters4)\n",
    "gd5.fit(x_train,y_train)\n",
    "\n",
    "print(gd5.best_params_)"
   ]
  },
  {
   "cell_type": "code",
   "execution_count": 99,
   "id": "1ff48983",
   "metadata": {},
   "outputs": [
    {
     "data": {
      "text/plain": [
       "1.0"
      ]
     },
     "execution_count": 99,
     "metadata": {},
     "output_type": "execute_result"
    }
   ],
   "source": [
    "kn=neighbors.KNeighborsRegressor(n_neighbors=5,algorithm='auto',p=1,weights='distance')\n",
    "kn.fit(x_train,y_train)\n",
    "kn.score(x_train,y_train)"
   ]
  },
  {
   "cell_type": "code",
   "execution_count": 100,
   "id": "29e93763",
   "metadata": {},
   "outputs": [
    {
     "name": "stdout",
     "output_type": "stream",
     "text": [
      "Predicted value:  [-0.58592864 -0.95608891  0.67276018 -0.95578553 -0.66247761 -0.69345552\n",
      " -0.46489139  0.62104548 -0.38861138 -1.29109672 -0.32151609  0.85436358\n",
      " -0.4416786  -1.16333881  0.60062633  1.06495217 -0.31623234  0.58060665\n",
      " -0.11629678 -1.36867959 -0.79189116  1.42094662 -1.05852784  0.04610042\n",
      " -1.09242023 -0.87105727 -0.4652472   0.25133735 -0.13340665 -0.47579648\n",
      " -0.20342226 -0.35626749 -1.33319441  0.54236045 -1.41608483 -0.71285615\n",
      "  1.16235441 -0.31383207 -1.79186581  0.51643414]\n",
      "Actual value:  48    -0.799286\n",
      "23    -0.799286\n",
      "58     0.875514\n",
      "133   -0.390911\n",
      "89    -0.474362\n",
      "136   -0.821680\n",
      "45    -0.601966\n",
      "32     0.704062\n",
      "95    -0.370242\n",
      "134   -0.844172\n",
      "9     -0.601966\n",
      "3      0.892431\n",
      "138   -0.537789\n",
      "180   -1.027835\n",
      "111    0.438521\n",
      "107    1.108778\n",
      "81    -0.453381\n",
      "118    0.365876\n",
      "114   -0.268015\n",
      "156   -1.367150\n",
      "12    -0.912255\n",
      "46     1.646560\n",
      "115   -0.866765\n",
      "87    -0.127879\n",
      "170   -1.292322\n",
      "127   -0.799286\n",
      "149   -0.390911\n",
      "112    0.199362\n",
      "108   -0.029786\n",
      "79    -0.349649\n",
      "176   -0.349649\n",
      "28    -0.623529\n",
      "43    -1.074841\n",
      "182    0.738693\n",
      "65    -0.844172\n",
      "184   -0.666920\n",
      "135    1.270943\n",
      "129   -0.167576\n",
      "77    -1.902310\n",
      "47     0.236744\n",
      "Name: sales, dtype: float64\n"
     ]
    }
   ],
   "source": [
    "pred_knn = kn.predict(x_test)\n",
    "print(\"Predicted value: \",pred_knn)\n",
    "print(\"Actual value: \",y_test)"
   ]
  },
  {
   "cell_type": "code",
   "execution_count": 101,
   "id": "3d028939",
   "metadata": {},
   "outputs": [
    {
     "name": "stdout",
     "output_type": "stream",
     "text": [
      "Error:\n",
      "Mean absolute error:  0.17177942659408582\n",
      "Mean squared error:  0.04487633413984776\n",
      "Root Mean squared error:  0.21184035059413908\n"
     ]
    }
   ],
   "source": [
    "from sklearn.metrics import mean_squared_error,mean_absolute_error\n",
    "\n",
    "print('Error:')\n",
    "\n",
    "print('Mean absolute error: ',mean_absolute_error(y_test,pred_knn))\n",
    "print('Mean squared error: ',mean_squared_error(y_test,pred_knn))\n",
    "\n",
    "print('Root Mean squared error: ',np.sqrt(mean_squared_error(y_test,pred_knn)))"
   ]
  },
  {
   "cell_type": "code",
   "execution_count": 102,
   "id": "0d4dbb7b",
   "metadata": {},
   "outputs": [
    {
     "name": "stdout",
     "output_type": "stream",
     "text": [
      "0.9234672209798632\n"
     ]
    }
   ],
   "source": [
    "from sklearn.metrics import r2_score\n",
    "print(r2_score(y_test,pred_knn))"
   ]
  },
  {
   "cell_type": "code",
   "execution_count": 103,
   "id": "cfd7511e",
   "metadata": {},
   "outputs": [
    {
     "data": {
      "text/plain": [
       "0.9411947430219236"
      ]
     },
     "execution_count": 103,
     "metadata": {},
     "output_type": "execute_result"
    }
   ],
   "source": [
    "from sklearn.model_selection import cross_val_score\n",
    "cv_score=cross_val_score(kn,x,y,cv=5)\n",
    "cv_mean=cv_score.mean()\n",
    "cv_mean"
   ]
  },
  {
   "cell_type": "code",
   "execution_count": null,
   "id": "3f9db58c",
   "metadata": {},
   "outputs": [],
   "source": []
  },
  {
   "cell_type": "markdown",
   "id": "1259aa43",
   "metadata": {},
   "source": [
    "# SVR"
   ]
  },
  {
   "cell_type": "code",
   "execution_count": 104,
   "id": "7d39df99",
   "metadata": {},
   "outputs": [
    {
     "name": "stdout",
     "output_type": "stream",
     "text": [
      "{'coef0': 0.3, 'degree': 3, 'gamma': 'scale', 'kernel': 'poly'}\n"
     ]
    }
   ],
   "source": [
    "from sklearn.svm import SVR\n",
    "\n",
    "parameters5={'kernel':['linear','poly','rbf'],'degree':[0,1,2,3,4],'gamma':['scale','auto'],'coef0':[0.0,0.1,0.2,0.3]}\n",
    "svr=SVR()\n",
    "gd6=GridSearchCV(svr,parameters5)\n",
    "gd6.fit(x_train,y_train)\n",
    "\n",
    "print(gd6.best_params_)"
   ]
  },
  {
   "cell_type": "code",
   "execution_count": 105,
   "id": "63f8fc81",
   "metadata": {},
   "outputs": [
    {
     "data": {
      "text/plain": [
       "SVR(coef0=0.3, kernel='poly')"
      ]
     },
     "execution_count": 105,
     "metadata": {},
     "output_type": "execute_result"
    }
   ],
   "source": [
    "sv=SVR(coef0=0.3,degree=3,gamma='scale',kernel='poly')\n",
    "sv.fit(x_train,y_train)"
   ]
  },
  {
   "cell_type": "code",
   "execution_count": 106,
   "id": "84a8c872",
   "metadata": {},
   "outputs": [
    {
     "data": {
      "text/plain": [
       "0.9885500808903056"
      ]
     },
     "execution_count": 106,
     "metadata": {},
     "output_type": "execute_result"
    }
   ],
   "source": [
    "sv.score(x_train,y_train)"
   ]
  },
  {
   "cell_type": "code",
   "execution_count": 107,
   "id": "ba1a223e",
   "metadata": {},
   "outputs": [
    {
     "name": "stdout",
     "output_type": "stream",
     "text": [
      "Predicted value:  [-0.73579783 -0.76840891  0.81088526 -0.24570589 -0.53039789 -0.84019101\n",
      " -0.56964738  0.69201507 -0.50278841 -1.0351435  -0.50508636  0.87452649\n",
      " -0.54906236 -0.98672666  0.41353491  0.98556347 -0.46273997  0.26582348\n",
      " -0.15011369 -1.50860258 -1.07401245  1.56033176 -0.98049315 -0.17196921\n",
      " -1.49661419 -0.81652732 -0.42944124  0.27121445 -0.02432925 -0.30545011\n",
      " -0.29557136 -0.60586756 -1.24082377  0.70806884 -1.12922798 -0.64461408\n",
      "  1.29198863 -0.22267622 -1.98492451  0.33248595]\n",
      "Actual value:  48    -0.799286\n",
      "23    -0.799286\n",
      "58     0.875514\n",
      "133   -0.390911\n",
      "89    -0.474362\n",
      "136   -0.821680\n",
      "45    -0.601966\n",
      "32     0.704062\n",
      "95    -0.370242\n",
      "134   -0.844172\n",
      "9     -0.601966\n",
      "3      0.892431\n",
      "138   -0.537789\n",
      "180   -1.027835\n",
      "111    0.438521\n",
      "107    1.108778\n",
      "81    -0.453381\n",
      "118    0.365876\n",
      "114   -0.268015\n",
      "156   -1.367150\n",
      "12    -0.912255\n",
      "46     1.646560\n",
      "115   -0.866765\n",
      "87    -0.127879\n",
      "170   -1.292322\n",
      "127   -0.799286\n",
      "149   -0.390911\n",
      "112    0.199362\n",
      "108   -0.029786\n",
      "79    -0.349649\n",
      "176   -0.349649\n",
      "28    -0.623529\n",
      "43    -1.074841\n",
      "182    0.738693\n",
      "65    -0.844172\n",
      "184   -0.666920\n",
      "135    1.270943\n",
      "129   -0.167576\n",
      "77    -1.902310\n",
      "47     0.236744\n",
      "Name: sales, dtype: float64\n"
     ]
    }
   ],
   "source": [
    "pred_svr = sv.predict(x_test)\n",
    "print(\"Predicted value: \",pred_svr)\n",
    "print(\"Actual value: \",y_test)"
   ]
  },
  {
   "cell_type": "code",
   "execution_count": 108,
   "id": "45f1c3af",
   "metadata": {},
   "outputs": [
    {
     "name": "stdout",
     "output_type": "stream",
     "text": [
      "Error:\n",
      "Mean absolute error:  0.07620866819835467\n",
      "Mean squared error:  0.009809627910698015\n",
      "Root Mean squared error:  0.09904356572083829\n"
     ]
    }
   ],
   "source": [
    "from sklearn.metrics import mean_squared_error,mean_absolute_error\n",
    "\n",
    "print('Error:')\n",
    "\n",
    "print('Mean absolute error: ',mean_absolute_error(y_test,pred_svr))\n",
    "print('Mean squared error: ',mean_squared_error(y_test,pred_svr))\n",
    "\n",
    "print('Root Mean squared error: ',np.sqrt(mean_squared_error(y_test,pred_svr)))"
   ]
  },
  {
   "cell_type": "code",
   "execution_count": 109,
   "id": "edcab54d",
   "metadata": {},
   "outputs": [
    {
     "name": "stdout",
     "output_type": "stream",
     "text": [
      "0.9832705121853395\n"
     ]
    }
   ],
   "source": [
    "from sklearn.metrics import r2_score\n",
    "print(r2_score(y_test,pred_svr))"
   ]
  },
  {
   "cell_type": "code",
   "execution_count": 110,
   "id": "cd68fbc0",
   "metadata": {},
   "outputs": [
    {
     "data": {
      "text/plain": [
       "0.9831232632222777"
      ]
     },
     "execution_count": 110,
     "metadata": {},
     "output_type": "execute_result"
    }
   ],
   "source": [
    "from sklearn.model_selection import cross_val_score\n",
    "cv_score=cross_val_score(sv,x,y,cv=5)\n",
    "cv_mean=cv_score.mean()\n",
    "cv_mean"
   ]
  },
  {
   "cell_type": "code",
   "execution_count": null,
   "id": "99e4c644",
   "metadata": {},
   "outputs": [],
   "source": []
  },
  {
   "cell_type": "markdown",
   "id": "dddef241",
   "metadata": {},
   "source": [
    "From the above regression models, we see that Linear Regression, Lasso Regression, and, Ridge Regression have almost similar Cross Validation Scores and R2 Scores, all below 90 % and in the range 86 - 90 %."
   ]
  },
  {
   "cell_type": "markdown",
   "id": "3bd7fb1f",
   "metadata": {},
   "source": [
    "From the rest of the regression models,  \n",
    "\n",
    "We see that the highest cross validation score and R2 score after hyper parameter tuning using Grid Search CV belongs to SVR, followed by Random Forest Regressor & KNearest Neighbors Regressor.  \n"
   ]
  },
  {
   "cell_type": "markdown",
   "id": "ecd2aded",
   "metadata": {},
   "source": [
    "# Model Saving"
   ]
  },
  {
   "cell_type": "markdown",
   "id": "1d95e49f",
   "metadata": {},
   "source": [
    "Since SVR model is showing the highest Cross Validation Score and R2 Score, we will save the SVR Model."
   ]
  },
  {
   "cell_type": "code",
   "execution_count": 112,
   "id": "e1f229bd",
   "metadata": {},
   "outputs": [],
   "source": [
    "import pickle\n",
    "filename='Advt_Sales_Channel_Pred.pkl'\n",
    "pickle.dump(sv,open(filename,'wb'))"
   ]
  },
  {
   "cell_type": "code",
   "execution_count": null,
   "id": "6ba7d3f0",
   "metadata": {},
   "outputs": [],
   "source": []
  }
 ],
 "metadata": {
  "kernelspec": {
   "display_name": "Python 3",
   "language": "python",
   "name": "python3"
  },
  "language_info": {
   "codemirror_mode": {
    "name": "ipython",
    "version": 3
   },
   "file_extension": ".py",
   "mimetype": "text/x-python",
   "name": "python",
   "nbconvert_exporter": "python",
   "pygments_lexer": "ipython3",
   "version": "3.8.8"
  }
 },
 "nbformat": 4,
 "nbformat_minor": 5
}
